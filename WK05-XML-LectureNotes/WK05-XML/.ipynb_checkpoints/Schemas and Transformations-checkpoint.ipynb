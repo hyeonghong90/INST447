{
 "cells": [
  {
   "cell_type": "markdown",
   "metadata": {},
   "source": [
    "# Validation and Transformation of XML with Python using LXML"
   ]
  },
  {
   "cell_type": "code",
   "execution_count": 1,
   "metadata": {},
   "outputs": [],
   "source": [
    "# Standard Includes\n",
    "import numpy as np\n",
    "import pandas as pd\n",
    "import matplotlib.pyplot as plt\n",
    "import seaborn as sns\n",
    "\n",
    "# \"magic\" to display graphs in the notebook\n",
    "%matplotlib inline\n"
   ]
  },
  {
   "cell_type": "markdown",
   "metadata": {},
   "source": [
    "If we are validating xml, then we need to use LXML instead of ElementTree (xml.etree.ElementTree). LXML supports validation using Document Type Definition (DTD) and XML Schema Definition (XSD). LXML also supports transformations using xtensible Stylesheet Language Transformations (XSLT). \n",
    "\n",
    "It does this by \"wrapping\" a standard library called libxml2. Wrapping just means that the developers have provided access to a library from another language, in this case C, to you in a different langauge, in this case Python. Why does this matter? Since libxml2 is written in C, a compiled language rather than an interpretted language like Python, it means that it is faster. For a lot of the interactive-style programming we are doing in this class, speed doesn't matter as much as if it was on a server with lots of users. We are more interested in libxml2's more complete set of features for handling XML."
   ]
  },
  {
   "cell_type": "code",
   "execution_count": 2,
   "metadata": {},
   "outputs": [],
   "source": [
    "# Import lxml; this format allows us to type less to use the library.\n",
    "from lxml import etree"
   ]
  },
  {
   "cell_type": "markdown",
   "metadata": {},
   "source": [
    "The variable 'books_xml' contains a vary simple xml document in the format of a string. Triple single quotes (''') are the way you create strings that span multiple lines in Python.\n",
    "\n",
    "You should notice some things about the XML:\n",
    "1) The first tag is weird. <?xml version=\"1.0\"?> is required at the start of all xml documents. (You've probably seen it at the start of HTML files before)\n",
    "2) x:books is a weird name for a tag. The \"x\" is the \"namespace\". This is imporant for valid xml as it says that the xml document belongs to the xml schema.\n",
    "\n",
    "\n",
    "(books.xml and books.xsd are from https://msdn.microsoft.com/en-us/library/ms762271(v=vs.85).aspx)."
   ]
  },
  {
   "cell_type": "code",
   "execution_count": 3,
   "metadata": {},
   "outputs": [],
   "source": [
    "books_xml = '''<?xml version=\"1.0\"?>\n",
    "<x:books xmlns:x=\"urn:books\"\n",
    "      xmlns:xsi=\"http://www.w3.org/2001/XMLSchema-instance\"\n",
    "      xsi:schemaLocation=\"urn:books books.xsd\">\n",
    "   <book id=\"bk001\">\n",
    "      <author>Hightower, Kim</author>\n",
    "      <title>The First Book</title>\n",
    "      <genre>Fiction</genre>\n",
    "      <price>44.95</price>\n",
    "      <pub_date>2000-10-01</pub_date>\n",
    "      <review>An amazing story of nothing.</review>\n",
    "   </book>\n",
    "   <book id=\"bk003\">\n",
    "      <author>Nagata, Suanne</author>\n",
    "      <title>Becoming Somebody</title>\n",
    "      <genre>Biography</genre>\n",
    "      <review>A masterpiece of the fine art of gossiping.</review>\n",
    "   </book>\n",
    "   <book id=\"bk002\">\n",
    "      <author>Oberg, Bruce</author>\n",
    "      <title>The Poet's First Poem</title>\n",
    "      <genre>Poem</genre>\n",
    "      <price>24.95</price>\n",
    "      <review>The least poetic poems of the decade.</review>\n",
    "   </book>\n",
    "</x:books>'''"
   ]
  },
  {
   "cell_type": "markdown",
   "metadata": {},
   "source": [
    "What do you notice about 'books_xsd'?\n",
    "\n",
    "First off, it looks like XML. That is because XML Schemas are valid XML documents. You should also notice that it is in the same namespace as the XML file. That is how we know, and a computer program could know, that the two documents belong together.\n",
    "\n",
    "You can learn all you ever want to know about XML Schema here: https://www.w3schools.com/xml/schema_intro.asp"
   ]
  },
  {
   "cell_type": "code",
   "execution_count": 1,
   "metadata": {},
   "outputs": [],
   "source": [
    "books_xsd = '''<?xml version=\"1.0\"?>\n",
    "<xsd:schema xmlns:xsd=\"http://www.w3.org/2001/XMLSchema\"\n",
    "            targetNamespace=\"urn:books\"\n",
    "            xmlns:bks=\"urn:books\">\n",
    "  <xsd:element name=\"books\" type=\"bks:BooksForm\"/>\n",
    "  <xsd:complexType name=\"BooksForm\">\n",
    "    <xsd:sequence>\n",
    "      <xsd:element name=\"book\" \n",
    "                  type=\"bks:BookForm\" \n",
    "                  minOccurs=\"0\" \n",
    "                  maxOccurs=\"unbounded\"/>\n",
    "      </xsd:sequence>\n",
    "  </xsd:complexType>\n",
    "  <xsd:complexType name=\"BookForm\">\n",
    "    <xsd:sequence>\n",
    "      <xsd:element name=\"author\"   type=\"xsd:string\"/>\n",
    "      <xsd:element name=\"title\"    type=\"xsd:string\"/>\n",
    "      <xsd:element name=\"genre\"    type=\"xsd:string\"/>\n",
    "      <xsd:element name=\"price\"    type=\"xsd:float\" />\n",
    "      <xsd:element name=\"pub_date\" type=\"xsd:date\" />\n",
    "      <xsd:element name=\"review\"   type=\"xsd:string\"/>\n",
    "    </xsd:sequence>\n",
    "    <xsd:attribute name=\"id\"   type=\"xsd:string\"/>\n",
    "  </xsd:complexType>\n",
    "</xsd:schema>'''"
   ]
  },
  {
   "cell_type": "markdown",
   "metadata": {},
   "source": [
    "Here we create an Python XML object"
   ]
  },
  {
   "cell_type": "code",
   "execution_count": 5,
   "metadata": {},
   "outputs": [],
   "source": [
    "books_obj = etree.fromstring(books_xml)"
   ]
  },
  {
   "cell_type": "markdown",
   "metadata": {},
   "source": [
    "Now, that we have that object. We can test if it is valid.\n",
    "First we have to read the XML Schema. We do that just like it was xml, becuase it is xml.\n",
    "Then we convert the XML object into a XML Schema object."
   ]
  },
  {
   "cell_type": "code",
   "execution_count": 6,
   "metadata": {
    "scrolled": true
   },
   "outputs": [],
   "source": [
    "xsd_obj = etree.fromstring(books_xsd)\n",
    "books_schema = etree.XMLSchema(xsd_obj)"
   ]
  },
  {
   "cell_type": "markdown",
   "metadata": {},
   "source": [
    "Now that it is an XML Schema object, we have a new method \"validate\". This will tell us if our XML is valid or not."
   ]
  },
  {
   "cell_type": "code",
   "execution_count": 7,
   "metadata": {
    "scrolled": true
   },
   "outputs": [
    {
     "data": {
      "text/plain": [
       "False"
      ]
     },
     "execution_count": 7,
     "metadata": {},
     "output_type": "execute_result"
    }
   ],
   "source": [
    "books_schema.validate(books_obj)"
   ]
  },
  {
   "cell_type": "markdown",
   "metadata": {},
   "source": [
    "WHAT? It is invalid?\n",
    "\n",
    "Since it is a small file, we could read both the schema and the XML to figure out the problem. But, that would become tiresome on a really large file.\n",
    "\n",
    "Wouldn't it be nice to see some errors to figure out the issue?"
   ]
  },
  {
   "cell_type": "code",
   "execution_count": 8,
   "metadata": {},
   "outputs": [
    {
     "ename": "XMLSyntaxError",
     "evalue": "Element 'review': This element is not expected. Expected is ( price ). (<string>, line 0)",
     "output_type": "error",
     "traceback": [
      "Traceback \u001b[0;36m(most recent call last)\u001b[0m:\n",
      "  File \u001b[1;32m\"/home/donal/anaconda3/lib/python3.6/site-packages/IPython/core/interactiveshell.py\"\u001b[0m, line \u001b[1;32m2910\u001b[0m, in \u001b[1;35mrun_code\u001b[0m\n    exec(code_obj, self.user_global_ns, self.user_ns)\n",
      "  File \u001b[1;32m\"<ipython-input-8-999b47c76b67>\"\u001b[0m, line \u001b[1;32m4\u001b[0m, in \u001b[1;35m<module>\u001b[0m\n    books1 = etree.fromstring(books_xml, books_parser1)\n",
      "  File \u001b[1;32m\"src/lxml/etree.pyx\"\u001b[0m, line \u001b[1;32m3230\u001b[0m, in \u001b[1;35mlxml.etree.fromstring (src/lxml/etree.c:81070)\u001b[0m\n",
      "  File \u001b[1;32m\"src/lxml/parser.pxi\"\u001b[0m, line \u001b[1;32m1871\u001b[0m, in \u001b[1;35mlxml.etree._parseMemoryDocument (src/lxml/etree.c:121250)\u001b[0m\n",
      "  File \u001b[1;32m\"src/lxml/parser.pxi\"\u001b[0m, line \u001b[1;32m1752\u001b[0m, in \u001b[1;35mlxml.etree._parseDoc (src/lxml/etree.c:119804)\u001b[0m\n",
      "  File \u001b[1;32m\"src/lxml/parser.pxi\"\u001b[0m, line \u001b[1;32m1066\u001b[0m, in \u001b[1;35mlxml.etree._BaseParser._parseUnicodeDoc (src/lxml/etree.c:113546)\u001b[0m\n",
      "  File \u001b[1;32m\"src/lxml/parser.pxi\"\u001b[0m, line \u001b[1;32m598\u001b[0m, in \u001b[1;35mlxml.etree._ParserContext._handleParseResultDoc (src/lxml/etree.c:107738)\u001b[0m\n",
      "  File \u001b[1;32m\"src/lxml/parser.pxi\"\u001b[0m, line \u001b[1;32m709\u001b[0m, in \u001b[1;35mlxml.etree._handleParseResult (src/lxml/etree.c:109447)\u001b[0m\n",
      "\u001b[0;36m  File \u001b[0;32m\"src/lxml/parser.pxi\"\u001b[0;36m, line \u001b[0;32m638\u001b[0;36m, in \u001b[0;35mlxml.etree._raiseParseError (src/lxml/etree.c:108301)\u001b[0;36m\u001b[0m\n",
      "\u001b[0;36m  File \u001b[0;32m\"<string>\"\u001b[0;36m, line \u001b[0;32munknown\u001b[0m\n\u001b[0;31mXMLSyntaxError\u001b[0m\u001b[0;31m:\u001b[0m Element 'review': This element is not expected. Expected is ( price ).\n"
     ]
    }
   ],
   "source": [
    "# Create a \"XMLParser\" object from the schema\n",
    "books_parser1 = etree.XMLParser(schema = books_schema)\n",
    "# This validates and parses the xml at the same time. Which means when we run it, we should see an explosion!\n",
    "books1 = etree.fromstring(books_xml, books_parser1)"
   ]
  },
  {
   "cell_type": "markdown",
   "metadata": {},
   "source": [
    "Aha, look up there! The element 'review\" wasn't expected where it was found, the parser was expecting 'price' instead. Hmm...\n",
    "\n",
    "Scroll up and look at where we created 'books_xml'. Seriously, go do it.\n",
    "\n",
    "Ok. Did you see anything?\n",
    "\n",
    "No... Did you scroll?\n",
    "\n",
    "Ok fine. Look here:"
   ]
  },
  {
   "cell_type": "code",
   "execution_count": null,
   "metadata": {},
   "outputs": [],
   "source": [
    "books_xml = '''<?xml version=\"1.0\"?>\n",
    "<x:books xmlns:x=\"urn:books\"\n",
    "      xmlns:xsi=\"http://www.w3.org/2001/XMLSchema-instance\"\n",
    "      xsi:schemaLocation=\"urn:books books.xsd\">\n",
    "   <book id=\"bk001\">\n",
    "      <author>Hightower, Kim</author>\n",
    "      <title>The First Book</title>\n",
    "      <genre>Fiction</genre>\n",
    "      <price>44.95</price>\n",
    "      <pub_date>2000-10-01</pub_date>\n",
    "      <review>An amazing story of nothing.</review>\n",
    "   </book>\n",
    "   <book id=\"bk003\">\n",
    "      <author>Nagata, Suanne</author>\n",
    "      <title>Becoming Somebody</title>\n",
    "      <genre>Biography</genre>\n",
    "      <review>A masterpiece of the fine art of gossiping.</review>\n",
    "   </book>\n",
    "   <book id=\"bk002\">\n",
    "      <author>Oberg, Bruce</author>\n",
    "      <title>The Poet's First Poem</title>\n",
    "      <genre>Poem</genre>\n",
    "      <price>24.95</price>\n",
    "      <review>The least poetic poems of the decade.</review>\n",
    "   </book>\n",
    "</x:books>'''"
   ]
  },
  {
   "cell_type": "markdown",
   "metadata": {},
   "source": [
    "Lets look at the book elements, since those are the repeating things that have all the data in them.\n",
    "\n",
    "The first goes: author, title, genre, price, pub_date\n",
    "The second goes: author, title, genre, review\n",
    "The third goes: author, title, genre, price, review\n",
    "\n",
    "Hmm... I think it is the second one that is causing the problem becuase it says  that it wasn't expecting to see 'review' yet and the other two books have a price tag that comes before the review tag.\n",
    "\n",
    "If you look at the XML Schema above, you will see that those elements are contained in a sequence tag, which means that the tags have to appear in that specific order.\n",
    "\n",
    "Our problem isn't that they are out of order, instead we have tags that are missing.\n",
    "\n",
    "Well, if you were getting that XML from a vendor, you'd probably call up the vendor and tell them that you have to have the price or you can't sell their book. Right? So problem solved...\n",
    "\n",
    "What if all you really needed to know were those 4 pieces of information in the second book? Then you could change the schema to be like below. This new schema says that those last 3 tags are optional (you can have 0 to 1 instances of them)."
   ]
  },
  {
   "cell_type": "code",
   "execution_count": 10,
   "metadata": {},
   "outputs": [],
   "source": [
    "books_xsd2 = '''<xsd:schema xmlns:xsd=\"http://www.w3.org/2001/XMLSchema\"\n",
    "            targetNamespace=\"urn:books\"\n",
    "            xmlns:bks=\"urn:books\">\n",
    "  <xsd:element name=\"books\" type=\"bks:BooksForm\"/>\n",
    "  <xsd:complexType name=\"BooksForm\">\n",
    "    <xsd:sequence>\n",
    "      <xsd:element name=\"book\" \n",
    "                  type=\"bks:BookForm\" \n",
    "                  minOccurs=\"0\" \n",
    "                  maxOccurs=\"unbounded\"/>\n",
    "      </xsd:sequence>\n",
    "  </xsd:complexType>\n",
    "  <xsd:complexType name=\"BookForm\">\n",
    "    <xsd:sequence>\n",
    "      <xsd:element name=\"author\"   type=\"xsd:string\"/>\n",
    "      <xsd:element name=\"title\"    type=\"xsd:string\"/>\n",
    "      <xsd:element name=\"genre\"    type=\"xsd:string\"/>\n",
    "      <xsd:element name=\"price\"    type=\"xsd:float\" minOccurs=\"0\" maxOccurs=\"1\"  />\n",
    "      <xsd:element name=\"pub_date\" type=\"xsd:date\" minOccurs=\"0\" maxOccurs=\"1\" />\n",
    "      <xsd:element name=\"review\"   type=\"xsd:string\" minOccurs=\"0\" maxOccurs=\"1\" />\n",
    "    </xsd:sequence>\n",
    "    <xsd:attribute name=\"id\"   type=\"xsd:string\"/>\n",
    "  </xsd:complexType>\n",
    "</xsd:schema>'''"
   ]
  },
  {
   "cell_type": "code",
   "execution_count": 11,
   "metadata": {},
   "outputs": [
    {
     "data": {
      "text/plain": [
       "True"
      ]
     },
     "execution_count": 11,
     "metadata": {},
     "output_type": "execute_result"
    }
   ],
   "source": [
    "# create a schema object with this new XML Schema\n",
    "xsd2_obj = etree.fromstring(books_xsd2)\n",
    "books_schema2 = etree.XMLSchema(xsd2_obj)\n",
    "books_schema2.validate(books_obj)\n"
   ]
  },
  {
   "cell_type": "markdown",
   "metadata": {},
   "source": [
    "And now it is valid. Yay!"
   ]
  },
  {
   "cell_type": "code",
   "execution_count": 12,
   "metadata": {},
   "outputs": [],
   "source": [
    "books_parser = etree.XMLParser(schema = books_schema2)\n",
    "books = etree.fromstring(books_xml, books_parser)"
   ]
  },
  {
   "cell_type": "markdown",
   "metadata": {},
   "source": [
    "So we'd think that since the XML Schema specifies what kind of types tags should contain, that our lives would be made easier because of this and we wouldn't have to do conversions our selves...\n",
    "\n",
    "Not the case:"
   ]
  },
  {
   "cell_type": "code",
   "execution_count": 13,
   "metadata": {},
   "outputs": [
    {
     "data": {
      "text/plain": [
       "str"
      ]
     },
     "execution_count": 13,
     "metadata": {},
     "output_type": "execute_result"
    }
   ],
   "source": [
    "type(books_obj.find('book/price').text)"
   ]
  },
  {
   "cell_type": "markdown",
   "metadata": {},
   "source": [
    "Well drat...\n",
    "\n",
    "What is the point then?"
   ]
  },
  {
   "cell_type": "code",
   "execution_count": 14,
   "metadata": {
    "scrolled": true
   },
   "outputs": [
    {
     "name": "stdout",
     "output_type": "stream",
     "text": [
      "Hightower, Kim\n",
      " 44.95 <class 'str'>\n",
      "Nagata, Suanne\n",
      "Oberg, Bruce\n",
      " 24.95 <class 'str'>\n"
     ]
    }
   ],
   "source": [
    "for b in books.findall('book'):\n",
    "    print(b.find('author').text)\n",
    "    if b.find('price') != None:\n",
    "        print(\" \" + b.find('price').text, type(b.find('price').text))"
   ]
  },
  {
   "cell_type": "markdown",
   "metadata": {},
   "source": [
    "Parsing XML (or anything) is a lot of work. You write a lot of code and that code depends on the format of the document you are parsing in order to work. If you change the document's structure, then your code breaks. If you create a contract between the two systems in the form of an XML Schema, then you don't have to worry about the document changing unexpectedly."
   ]
  },
  {
   "cell_type": "markdown",
   "metadata": {},
   "source": [
    "## XPATH\n",
    "\n",
    "I mentioned that we could identify or name a node by its path, just like we did in the command line. ElementTree supports a light version of this that we've used when we say something like:"
   ]
  },
  {
   "cell_type": "code",
   "execution_count": 15,
   "metadata": {},
   "outputs": [
    {
     "data": {
      "text/plain": [
       "'Hightower, Kim'"
      ]
     },
     "execution_count": 15,
     "metadata": {},
     "output_type": "execute_result"
    }
   ],
   "source": [
    "books.find('book/author').text"
   ]
  },
  {
   "cell_type": "markdown",
   "metadata": {},
   "source": [
    "But, Donal, you say, you are using LXML, you say... \n",
    "That line above is 100% compatible between ElementTree and LXML.\n",
    "\n",
    "See:"
   ]
  },
  {
   "cell_type": "code",
   "execution_count": 16,
   "metadata": {},
   "outputs": [
    {
     "data": {
      "text/plain": [
       "'Hightower, Kim'"
      ]
     },
     "execution_count": 16,
     "metadata": {},
     "output_type": "execute_result"
    }
   ],
   "source": [
    "import xml.etree.ElementTree as ET\n",
    "ET_book = ET.fromstring(books_xml)\n",
    "ET_book.find('book/author').text"
   ]
  },
  {
   "cell_type": "markdown",
   "metadata": {},
   "source": [
    "But this is where things get diffent:"
   ]
  },
  {
   "cell_type": "code",
   "execution_count": 17,
   "metadata": {},
   "outputs": [
    {
     "name": "stdout",
     "output_type": "stream",
     "text": [
      "['Hightower, Kim'] ['The First Book']\n",
      "['Nagata, Suanne'] ['Becoming Somebody']\n",
      "['Oberg, Bruce'] [\"The Poet's First Poem\"]\n"
     ]
    }
   ],
   "source": [
    "for node in books.xpath(\"//book\"):\n",
    "    print(node.xpath('author/text()'), node.xpath('title/text()'))"
   ]
  },
  {
   "cell_type": "markdown",
   "metadata": {},
   "source": [
    "You will notice the ET_book doesn't have an xpath method:"
   ]
  },
  {
   "cell_type": "code",
   "execution_count": 18,
   "metadata": {},
   "outputs": [
    {
     "ename": "AttributeError",
     "evalue": "'xml.etree.ElementTree.Element' object has no attribute 'xpath'",
     "output_type": "error",
     "traceback": [
      "\u001b[0;31m---------------------------------------------------------------------------\u001b[0m",
      "\u001b[0;31mAttributeError\u001b[0m                            Traceback (most recent call last)",
      "\u001b[0;32m<ipython-input-18-0d433a69c722>\u001b[0m in \u001b[0;36m<module>\u001b[0;34m()\u001b[0m\n\u001b[0;32m----> 1\u001b[0;31m \u001b[0;32mfor\u001b[0m \u001b[0mnode\u001b[0m \u001b[0;32min\u001b[0m \u001b[0mET_book\u001b[0m\u001b[0;34m.\u001b[0m\u001b[0mxpath\u001b[0m\u001b[0;34m(\u001b[0m\u001b[0;34m\"//book\"\u001b[0m\u001b[0;34m)\u001b[0m\u001b[0;34m:\u001b[0m\u001b[0;34m\u001b[0m\u001b[0m\n\u001b[0m\u001b[1;32m      2\u001b[0m     \u001b[0mprint\u001b[0m\u001b[0;34m(\u001b[0m\u001b[0mnode\u001b[0m\u001b[0;34m.\u001b[0m\u001b[0mxpath\u001b[0m\u001b[0;34m(\u001b[0m\u001b[0;34m'author/text()'\u001b[0m\u001b[0;34m)\u001b[0m\u001b[0;34m,\u001b[0m \u001b[0mnode\u001b[0m\u001b[0;34m.\u001b[0m\u001b[0mxpath\u001b[0m\u001b[0;34m(\u001b[0m\u001b[0;34m'title/text()'\u001b[0m\u001b[0;34m)\u001b[0m\u001b[0;34m)\u001b[0m\u001b[0;34m\u001b[0m\u001b[0m\n",
      "\u001b[0;31mAttributeError\u001b[0m: 'xml.etree.ElementTree.Element' object has no attribute 'xpath'"
     ]
    }
   ],
   "source": [
    "for node in ET_book.xpath(\"//book\"):\n",
    "    print(node.xpath('author/text()'), node.xpath('title/text()'))"
   ]
  },
  {
   "cell_type": "markdown",
   "metadata": {},
   "source": [
    "XPATH is very powerfull and you can do a lot with it.\n",
    "\n",
    "If you want to know more about it then: https://www.w3schools.com/xml/xpath_intro.asp"
   ]
  },
  {
   "cell_type": "markdown",
   "metadata": {},
   "source": [
    "# XSLT\n",
    "\n",
    "What does it mean to transform something?\n",
    "\n",
    "It means to change one thing into another, right?\n",
    "\n",
    "So with XSLT we can change and XML document into another kind of document. This can be a different kind of XML document like below:"
   ]
  },
  {
   "cell_type": "code",
   "execution_count": 19,
   "metadata": {},
   "outputs": [],
   "source": [
    "xslt_root = etree.XML('''\\\n",
    "    <xsl:stylesheet version=\"1.0\"\n",
    "        xmlns:xsl=\"http://www.w3.org/1999/XSL/Transform\">\n",
    "        <xsl:template match=\"/\">\n",
    "        <authors>\n",
    "            <xsl:for-each select=\"//book\">\n",
    "                <author>\n",
    "                    <xsl:value-of select=\"author\" />\n",
    "                </author>\n",
    "            </xsl:for-each>\n",
    "        </authors>\n",
    "        </xsl:template>\n",
    "</xsl:stylesheet>''')\n",
    "transform = etree.XSLT(xslt_root)\n",
    "authors = transform(books).getroot()"
   ]
  },
  {
   "cell_type": "code",
   "execution_count": 20,
   "metadata": {},
   "outputs": [
    {
     "data": {
      "text/plain": [
       "'authors'"
      ]
     },
     "execution_count": 20,
     "metadata": {},
     "output_type": "execute_result"
    }
   ],
   "source": [
    "authors.tag"
   ]
  },
  {
   "cell_type": "code",
   "execution_count": 21,
   "metadata": {},
   "outputs": [
    {
     "name": "stdout",
     "output_type": "stream",
     "text": [
      "author Hightower, Kim\n",
      "author Nagata, Suanne\n",
      "author Oberg, Bruce\n"
     ]
    }
   ],
   "source": [
    "for t in authors.getchildren():\n",
    "    print(t.tag, t.text)"
   ]
  },
  {
   "cell_type": "markdown",
   "metadata": {},
   "source": [
    "Now we have an XML file that is just a list of authors. That is neat, I guess...\n",
    "\n",
    "Where it becomes really powerful is if you are trying to present a document multiple ways. You could change the document into HTML, PDF (with some extra tools), Word...\n",
    "\n",
    "We don't use them much in data analysis. But out in the world, these tools are all over the place. If you come across them, then you will know what they are doing and how to take advantage of them."
   ]
  },
  {
   "cell_type": "code",
   "execution_count": null,
   "metadata": {},
   "outputs": [],
   "source": []
  }
 ],
 "metadata": {
  "kernelspec": {
   "display_name": "Python 3",
   "language": "python",
   "name": "python3"
  },
  "language_info": {
   "codemirror_mode": {
    "name": "ipython",
    "version": 3
   },
   "file_extension": ".py",
   "mimetype": "text/x-python",
   "name": "python",
   "nbconvert_exporter": "python",
   "pygments_lexer": "ipython3",
   "version": "3.6.4"
  }
 },
 "nbformat": 4,
 "nbformat_minor": 2
}
