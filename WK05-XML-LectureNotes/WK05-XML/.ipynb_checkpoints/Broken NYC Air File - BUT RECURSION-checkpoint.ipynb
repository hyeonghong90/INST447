{
 "cells": [
  {
   "cell_type": "code",
   "execution_count": 1,
   "metadata": {},
   "outputs": [],
   "source": [
    "import pandas as pd\n",
    "import numpy as np\n",
    "import matplotlib.pyplot as plt\n",
    "import seaborn as sns\n",
    "import os\n",
    "import xml.dom.minidom\n",
    "\n",
    "%matplotlib inline"
   ]
  },
  {
   "cell_type": "code",
   "execution_count": 2,
   "metadata": {},
   "outputs": [
    {
     "data": {
      "text/plain": [
       "['.ipynb_checkpoints',\n",
       " 'Broken NYC Air File - BUT RECURSION.ipynb',\n",
       " 'ebay.dtd',\n",
       " 'ebay.xml',\n",
       " 'MoCo Traffic Citations.ipynb',\n",
       " 'moco_traffic_Jan2018.xml',\n",
       " 'NSFBudgetHistory.xml',\n",
       " 'NSFFundingRateHistory.xml',\n",
       " 'nyc_air_quality.xml',\n",
       " 'nyc_traffic_2017.xml',\n",
       " 'Schemas and Transformations.ipynb']"
      ]
     },
     "execution_count": 2,
     "metadata": {},
     "output_type": "execute_result"
    }
   ],
   "source": [
    "os.listdir()"
   ]
  },
  {
   "cell_type": "code",
   "execution_count": 3,
   "metadata": {},
   "outputs": [],
   "source": [
    "import xml.etree.ElementTree as ET"
   ]
  },
  {
   "cell_type": "code",
   "execution_count": 8,
   "metadata": {},
   "outputs": [
    {
     "data": {
      "text/plain": [
       "'row'"
      ]
     },
     "execution_count": 8,
     "metadata": {},
     "output_type": "execute_result"
    }
   ],
   "source": [
    "air = ET.parse('nyc_air_quality.xml')\n",
    "root = air.getroot()\n",
    "root[0].tag"
   ]
  },
  {
   "cell_type": "code",
   "execution_count": 13,
   "metadata": {},
   "outputs": [
    {
     "ename": "AttributeError",
     "evalue": "'ElementTree' object has no attribute 'info'",
     "output_type": "error",
     "traceback": [
      "\u001b[1;31m---------------------------------------------------------------------------\u001b[0m",
      "\u001b[1;31mAttributeError\u001b[0m                            Traceback (most recent call last)",
      "\u001b[1;32m<ipython-input-13-d53cec018bec>\u001b[0m in \u001b[0;36m<module>\u001b[1;34m()\u001b[0m\n\u001b[1;32m----> 1\u001b[1;33m \u001b[0mair\u001b[0m\u001b[1;33m.\u001b[0m\u001b[0minfo\u001b[0m\u001b[1;33m(\u001b[0m\u001b[1;33m)\u001b[0m\u001b[1;33m\u001b[0m\u001b[0m\n\u001b[0m",
      "\u001b[1;31mAttributeError\u001b[0m: 'ElementTree' object has no attribute 'info'"
     ]
    }
   ],
   "source": [
    "air.info()"
   ]
  },
  {
   "cell_type": "code",
   "execution_count": 5,
   "metadata": {},
   "outputs": [],
   "source": [
    "def parse_root(root):\n",
    "    return [parse_element(child) for child in root.getchildren()]\n",
    "\n",
    "def parse_element(element, parsed=None):\n",
    "    if parsed is None:\n",
    "        parsed = dict()\n",
    "    for key in element.keys():\n",
    "        parsed[key] = element.attrib.get(key)\n",
    "    if element.text:\n",
    "        parsed[element.tag] = element.text\n",
    "    for child in element.getchildren():\n",
    "        parse_element(child, parsed)\n",
    "    return parsed\n",
    "\n",
    "def process_data(root):\n",
    "    structure_data = parse_root(root)\n",
    "    return pd.DataFrame(structure_data)"
   ]
  },
  {
   "cell_type": "code",
   "execution_count": 6,
   "metadata": {},
   "outputs": [],
   "source": [
    "df = process_data(air.getroot())"
   ]
  },
  {
   "cell_type": "code",
   "execution_count": 7,
   "metadata": {},
   "outputs": [
    {
     "data": {
      "text/html": [
       "<div>\n",
       "<style scoped>\n",
       "    .dataframe tbody tr th:only-of-type {\n",
       "        vertical-align: middle;\n",
       "    }\n",
       "\n",
       "    .dataframe tbody tr th {\n",
       "        vertical-align: top;\n",
       "    }\n",
       "\n",
       "    .dataframe thead th {\n",
       "        text-align: right;\n",
       "    }\n",
       "</style>\n",
       "<table border=\"1\" class=\"dataframe\">\n",
       "  <thead>\n",
       "    <tr style=\"text-align: right;\">\n",
       "      <th></th>\n",
       "      <th>_address</th>\n",
       "      <th>_id</th>\n",
       "      <th>_position</th>\n",
       "      <th>_uuid</th>\n",
       "      <th>data_valuemessage</th>\n",
       "      <th>geo_entity_id</th>\n",
       "      <th>geo_entity_name</th>\n",
       "      <th>geo_type_name</th>\n",
       "      <th>indicator_data_id</th>\n",
       "      <th>indicator_id</th>\n",
       "      <th>measure</th>\n",
       "      <th>name</th>\n",
       "      <th>year_description</th>\n",
       "    </tr>\n",
       "  </thead>\n",
       "  <tbody>\n",
       "    <tr>\n",
       "      <th>0</th>\n",
       "      <td>https://data.cityofnewyork.us/resource/c3uy-2p...</td>\n",
       "      <td>2769</td>\n",
       "      <td>2769</td>\n",
       "      <td>5B67DF23-5971-42F2-91B1-EDD34A721C31</td>\n",
       "      <td>0.3</td>\n",
       "      <td>504</td>\n",
       "      <td>South Beach - Tottenville</td>\n",
       "      <td>UHF42</td>\n",
       "      <td>151760</td>\n",
       "      <td>645</td>\n",
       "      <td>Per 100 km2</td>\n",
       "      <td>Traffic Density- Annual Vehicle Miles Traveled...</td>\n",
       "      <td>2005</td>\n",
       "    </tr>\n",
       "  </tbody>\n",
       "</table>\n",
       "</div>"
      ],
      "text/plain": [
       "                                            _address   _id _position  \\\n",
       "0  https://data.cityofnewyork.us/resource/c3uy-2p...  2769      2769   \n",
       "\n",
       "                                  _uuid data_valuemessage geo_entity_id  \\\n",
       "0  5B67DF23-5971-42F2-91B1-EDD34A721C31               0.3           504   \n",
       "\n",
       "             geo_entity_name geo_type_name indicator_data_id indicator_id  \\\n",
       "0  South Beach - Tottenville         UHF42            151760          645   \n",
       "\n",
       "       measure                                               name  \\\n",
       "0  Per 100 km2  Traffic Density- Annual Vehicle Miles Traveled...   \n",
       "\n",
       "  year_description  \n",
       "0             2005  "
      ]
     },
     "execution_count": 7,
     "metadata": {},
     "output_type": "execute_result"
    }
   ],
   "source": [
    "df[0:10]"
   ]
  }
 ],
 "metadata": {
  "kernelspec": {
   "display_name": "Python 3",
   "language": "python",
   "name": "python3"
  },
  "language_info": {
   "codemirror_mode": {
    "name": "ipython",
    "version": 3
   },
   "file_extension": ".py",
   "mimetype": "text/x-python",
   "name": "python",
   "nbconvert_exporter": "python",
   "pygments_lexer": "ipython3",
   "version": "3.6.4"
  }
 },
 "nbformat": 4,
 "nbformat_minor": 2
}
