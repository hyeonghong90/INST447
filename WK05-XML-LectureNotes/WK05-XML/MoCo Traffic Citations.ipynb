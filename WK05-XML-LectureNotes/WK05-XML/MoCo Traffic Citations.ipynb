{
 "cells": [
  {
   "cell_type": "code",
   "execution_count": 1,
   "metadata": {},
   "outputs": [],
   "source": [
    "# Standard Includes\n",
    "import numpy as np\n",
    "import pandas as pd\n",
    "import matplotlib.pyplot as plt\n",
    "import seaborn as sns\n",
    "\n",
    "# \"magic\" to display graphs in the notebook\n",
    "%matplotlib inline\n"
   ]
  },
  {
   "cell_type": "code",
   "execution_count": 2,
   "metadata": {},
   "outputs": [],
   "source": [
    "# import jtplot submodule from jupyterthemes\n",
    "from jupyterthemes import jtplot\n",
    "\n",
    "# currently installed theme will be used to\n",
    "# set plot style if no arguments provided\n",
    "jtplot.style()"
   ]
  },
  {
   "cell_type": "code",
   "execution_count": 3,
   "metadata": {
    "scrolled": true
   },
   "outputs": [],
   "source": [
    "xml_str = '''\n",
    "<employees>\n",
    "  <person>\n",
    "    <name>Bill</name>\n",
    "    <phone type=\"intl\" other=\"stuff\">\n",
    "       +1 734 303 4456\n",
    "     </phone>\n",
    "     <email hide=\"yes\"/>\n",
    "  </person>\n",
    "  <person>\n",
    "    <name>Doug</name>\n",
    "    <phone type=\"intl\">\n",
    "       +1 777 777 7777\n",
    "     </phone>\n",
    "     <email>doug@email.com</email>\n",
    "  </person>\n",
    "  <person>\n",
    "    <name>Sally</name>\n",
    "    <email>sally@email.com</email>\n",
    "  </person>\n",
    "</employees>'''"
   ]
  },
  {
   "cell_type": "code",
   "execution_count": 4,
   "metadata": {},
   "outputs": [],
   "source": [
    "dl = {\n",
    "    'name' : ['Bill', 'Doug', 'Sally'],\n",
    "    'phone' : ['1111', '2222', np.NaN],\n",
    "    'email' : ['bill@umd.edu', 'doug@umd.edu', 'sally@umd.edu']\n",
    "}\n",
    "ld = [{'name': 'Bill', 'email': 'bill@email.com', 'phone': '1111'}, \n",
    "      {'name': 'Doug', 'phone': '2222', 'email': 'doug@email.com'}, \n",
    "      {'name': 'Sally', 'email': 'sally@email.com'}]"
   ]
  },
  {
   "cell_type": "code",
   "execution_count": 5,
   "metadata": {},
   "outputs": [
    {
     "data": {
      "text/html": [
       "<div>\n",
       "<style scoped>\n",
       "    .dataframe tbody tr th:only-of-type {\n",
       "        vertical-align: middle;\n",
       "    }\n",
       "\n",
       "    .dataframe tbody tr th {\n",
       "        vertical-align: top;\n",
       "    }\n",
       "\n",
       "    .dataframe thead th {\n",
       "        text-align: right;\n",
       "    }\n",
       "</style>\n",
       "<table border=\"1\" class=\"dataframe\">\n",
       "  <thead>\n",
       "    <tr style=\"text-align: right;\">\n",
       "      <th></th>\n",
       "      <th>email</th>\n",
       "      <th>name</th>\n",
       "      <th>phone</th>\n",
       "    </tr>\n",
       "  </thead>\n",
       "  <tbody>\n",
       "    <tr>\n",
       "      <th>0</th>\n",
       "      <td>bill@umd.edu</td>\n",
       "      <td>Bill</td>\n",
       "      <td>1111</td>\n",
       "    </tr>\n",
       "    <tr>\n",
       "      <th>1</th>\n",
       "      <td>doug@umd.edu</td>\n",
       "      <td>Doug</td>\n",
       "      <td>2222</td>\n",
       "    </tr>\n",
       "    <tr>\n",
       "      <th>2</th>\n",
       "      <td>sally@umd.edu</td>\n",
       "      <td>Sally</td>\n",
       "      <td>NaN</td>\n",
       "    </tr>\n",
       "  </tbody>\n",
       "</table>\n",
       "</div>"
      ],
      "text/plain": [
       "           email   name phone\n",
       "0   bill@umd.edu   Bill  1111\n",
       "1   doug@umd.edu   Doug  2222\n",
       "2  sally@umd.edu  Sally   NaN"
      ]
     },
     "execution_count": 5,
     "metadata": {},
     "output_type": "execute_result"
    }
   ],
   "source": [
    "pd.DataFrame(dl)"
   ]
  },
  {
   "cell_type": "code",
   "execution_count": 6,
   "metadata": {},
   "outputs": [
    {
     "data": {
      "text/html": [
       "<div>\n",
       "<style scoped>\n",
       "    .dataframe tbody tr th:only-of-type {\n",
       "        vertical-align: middle;\n",
       "    }\n",
       "\n",
       "    .dataframe tbody tr th {\n",
       "        vertical-align: top;\n",
       "    }\n",
       "\n",
       "    .dataframe thead th {\n",
       "        text-align: right;\n",
       "    }\n",
       "</style>\n",
       "<table border=\"1\" class=\"dataframe\">\n",
       "  <thead>\n",
       "    <tr style=\"text-align: right;\">\n",
       "      <th></th>\n",
       "      <th>email</th>\n",
       "      <th>name</th>\n",
       "      <th>phone</th>\n",
       "    </tr>\n",
       "  </thead>\n",
       "  <tbody>\n",
       "    <tr>\n",
       "      <th>0</th>\n",
       "      <td>bill@email.com</td>\n",
       "      <td>Bill</td>\n",
       "      <td>1111</td>\n",
       "    </tr>\n",
       "    <tr>\n",
       "      <th>1</th>\n",
       "      <td>doug@email.com</td>\n",
       "      <td>Doug</td>\n",
       "      <td>2222</td>\n",
       "    </tr>\n",
       "    <tr>\n",
       "      <th>2</th>\n",
       "      <td>sally@email.com</td>\n",
       "      <td>Sally</td>\n",
       "      <td>NaN</td>\n",
       "    </tr>\n",
       "  </tbody>\n",
       "</table>\n",
       "</div>"
      ],
      "text/plain": [
       "             email   name phone\n",
       "0   bill@email.com   Bill  1111\n",
       "1   doug@email.com   Doug  2222\n",
       "2  sally@email.com  Sally   NaN"
      ]
     },
     "execution_count": 6,
     "metadata": {},
     "output_type": "execute_result"
    }
   ],
   "source": [
    "pd.DataFrame(ld)"
   ]
  },
  {
   "cell_type": "markdown",
   "metadata": {},
   "source": [
    "### ElementTree"
   ]
  },
  {
   "cell_type": "code",
   "execution_count": 7,
   "metadata": {},
   "outputs": [],
   "source": [
    "import xml.etree.ElementTree as ET"
   ]
  },
  {
   "cell_type": "code",
   "execution_count": 8,
   "metadata": {},
   "outputs": [],
   "source": [
    "ex = ET.fromstring(xml_str)"
   ]
  },
  {
   "cell_type": "code",
   "execution_count": 31,
   "metadata": {},
   "outputs": [
    {
     "data": {
      "text/plain": [
       "<Element 'employees' at 0x0A8E5DE0>"
      ]
     },
     "execution_count": 31,
     "metadata": {},
     "output_type": "execute_result"
    }
   ],
   "source": [
    "ex"
   ]
  },
  {
   "cell_type": "code",
   "execution_count": 32,
   "metadata": {},
   "outputs": [
    {
     "data": {
      "text/plain": [
       "xml.etree.ElementTree.Element"
      ]
     },
     "execution_count": 32,
     "metadata": {},
     "output_type": "execute_result"
    }
   ],
   "source": [
    "type(ex)"
   ]
  },
  {
   "cell_type": "code",
   "execution_count": 10,
   "metadata": {},
   "outputs": [
    {
     "name": "stdout",
     "output_type": "stream",
     "text": [
      "person\n",
      "name Bill {}\n",
      "phone \n",
      "       +1 734 303 4456\n",
      "      {'type': 'intl', 'other': 'stuff'}\n",
      "email None {'hide': 'yes'}\n",
      "person\n",
      "name Doug {}\n",
      "phone \n",
      "       +1 777 777 7777\n",
      "      {'type': 'intl'}\n",
      "email doug@email.com {}\n",
      "person\n",
      "name Sally {}\n",
      "email sally@email.com {}\n"
     ]
    }
   ],
   "source": [
    "for em in ex.getchildren():\n",
    "    print(em.tag)\n",
    "    for c in em.getchildren():\n",
    "        print(c.tag, c.text, c.attrib)"
   ]
  },
  {
   "cell_type": "code",
   "execution_count": 11,
   "metadata": {
    "scrolled": false
   },
   "outputs": [],
   "source": [
    "def employeeParser(xml_obj):\n",
    "    emp_list = []\n",
    "    for person in xml_obj.getchildren():\n",
    "        person_dict = {}\n",
    "        for child in person.getchildren():\n",
    "            if child.text != None:\n",
    "                person_dict[child.tag] = child.text.strip()\n",
    "        emp_list.append(person_dict)\n",
    "    return pd.DataFrame(emp_list)"
   ]
  },
  {
   "cell_type": "code",
   "execution_count": 12,
   "metadata": {},
   "outputs": [
    {
     "data": {
      "text/html": [
       "<div>\n",
       "<style scoped>\n",
       "    .dataframe tbody tr th:only-of-type {\n",
       "        vertical-align: middle;\n",
       "    }\n",
       "\n",
       "    .dataframe tbody tr th {\n",
       "        vertical-align: top;\n",
       "    }\n",
       "\n",
       "    .dataframe thead th {\n",
       "        text-align: right;\n",
       "    }\n",
       "</style>\n",
       "<table border=\"1\" class=\"dataframe\">\n",
       "  <thead>\n",
       "    <tr style=\"text-align: right;\">\n",
       "      <th></th>\n",
       "      <th>email</th>\n",
       "      <th>name</th>\n",
       "      <th>phone</th>\n",
       "    </tr>\n",
       "  </thead>\n",
       "  <tbody>\n",
       "    <tr>\n",
       "      <th>0</th>\n",
       "      <td>NaN</td>\n",
       "      <td>Bill</td>\n",
       "      <td>+1 734 303 4456</td>\n",
       "    </tr>\n",
       "    <tr>\n",
       "      <th>1</th>\n",
       "      <td>doug@email.com</td>\n",
       "      <td>Doug</td>\n",
       "      <td>+1 777 777 7777</td>\n",
       "    </tr>\n",
       "    <tr>\n",
       "      <th>2</th>\n",
       "      <td>sally@email.com</td>\n",
       "      <td>Sally</td>\n",
       "      <td>NaN</td>\n",
       "    </tr>\n",
       "  </tbody>\n",
       "</table>\n",
       "</div>"
      ],
      "text/plain": [
       "             email   name            phone\n",
       "0              NaN   Bill  +1 734 303 4456\n",
       "1   doug@email.com   Doug  +1 777 777 7777\n",
       "2  sally@email.com  Sally              NaN"
      ]
     },
     "execution_count": 12,
     "metadata": {},
     "output_type": "execute_result"
    }
   ],
   "source": [
    "employeeParser(ex)"
   ]
  },
  {
   "cell_type": "code",
   "execution_count": 13,
   "metadata": {},
   "outputs": [],
   "source": [
    "df1 = employeeParser(ex)"
   ]
  },
  {
   "cell_type": "code",
   "execution_count": 14,
   "metadata": {},
   "outputs": [
    {
     "data": {
      "text/html": [
       "<div>\n",
       "<style scoped>\n",
       "    .dataframe tbody tr th:only-of-type {\n",
       "        vertical-align: middle;\n",
       "    }\n",
       "\n",
       "    .dataframe tbody tr th {\n",
       "        vertical-align: top;\n",
       "    }\n",
       "\n",
       "    .dataframe thead th {\n",
       "        text-align: right;\n",
       "    }\n",
       "</style>\n",
       "<table border=\"1\" class=\"dataframe\">\n",
       "  <thead>\n",
       "    <tr style=\"text-align: right;\">\n",
       "      <th></th>\n",
       "      <th>email</th>\n",
       "      <th>name</th>\n",
       "      <th>phone</th>\n",
       "    </tr>\n",
       "  </thead>\n",
       "  <tbody>\n",
       "    <tr>\n",
       "      <th>0</th>\n",
       "      <td>NaN</td>\n",
       "      <td>Bill</td>\n",
       "      <td>+1 734 303 4456</td>\n",
       "    </tr>\n",
       "    <tr>\n",
       "      <th>1</th>\n",
       "      <td>doug@email.com</td>\n",
       "      <td>Doug</td>\n",
       "      <td>+1 777 777 7777</td>\n",
       "    </tr>\n",
       "    <tr>\n",
       "      <th>2</th>\n",
       "      <td>sally@email.com</td>\n",
       "      <td>Sally</td>\n",
       "      <td>NaN</td>\n",
       "    </tr>\n",
       "  </tbody>\n",
       "</table>\n",
       "</div>"
      ],
      "text/plain": [
       "             email   name            phone\n",
       "0              NaN   Bill  +1 734 303 4456\n",
       "1   doug@email.com   Doug  +1 777 777 7777\n",
       "2  sally@email.com  Sally              NaN"
      ]
     },
     "execution_count": 14,
     "metadata": {},
     "output_type": "execute_result"
    }
   ],
   "source": [
    "df1"
   ]
  },
  {
   "cell_type": "markdown",
   "metadata": {},
   "source": [
    "### LXML"
   ]
  },
  {
   "cell_type": "code",
   "execution_count": 15,
   "metadata": {},
   "outputs": [],
   "source": [
    "import lxml.etree as LET"
   ]
  },
  {
   "cell_type": "code",
   "execution_count": 16,
   "metadata": {},
   "outputs": [],
   "source": [
    "lx = LET.fromstring(xml_str)"
   ]
  },
  {
   "cell_type": "code",
   "execution_count": 17,
   "metadata": {},
   "outputs": [],
   "source": [
    "df2 = employeeParser(lx)"
   ]
  },
  {
   "cell_type": "code",
   "execution_count": 18,
   "metadata": {
    "scrolled": false
   },
   "outputs": [
    {
     "data": {
      "text/html": [
       "<div>\n",
       "<style scoped>\n",
       "    .dataframe tbody tr th:only-of-type {\n",
       "        vertical-align: middle;\n",
       "    }\n",
       "\n",
       "    .dataframe tbody tr th {\n",
       "        vertical-align: top;\n",
       "    }\n",
       "\n",
       "    .dataframe thead th {\n",
       "        text-align: right;\n",
       "    }\n",
       "</style>\n",
       "<table border=\"1\" class=\"dataframe\">\n",
       "  <thead>\n",
       "    <tr style=\"text-align: right;\">\n",
       "      <th></th>\n",
       "      <th>email</th>\n",
       "      <th>name</th>\n",
       "      <th>phone</th>\n",
       "    </tr>\n",
       "  </thead>\n",
       "  <tbody>\n",
       "    <tr>\n",
       "      <th>0</th>\n",
       "      <td>NaN</td>\n",
       "      <td>Bill</td>\n",
       "      <td>+1 734 303 4456</td>\n",
       "    </tr>\n",
       "    <tr>\n",
       "      <th>1</th>\n",
       "      <td>doug@email.com</td>\n",
       "      <td>Doug</td>\n",
       "      <td>+1 777 777 7777</td>\n",
       "    </tr>\n",
       "    <tr>\n",
       "      <th>2</th>\n",
       "      <td>sally@email.com</td>\n",
       "      <td>Sally</td>\n",
       "      <td>NaN</td>\n",
       "    </tr>\n",
       "  </tbody>\n",
       "</table>\n",
       "</div>"
      ],
      "text/plain": [
       "             email   name            phone\n",
       "0              NaN   Bill  +1 734 303 4456\n",
       "1   doug@email.com   Doug  +1 777 777 7777\n",
       "2  sally@email.com  Sally              NaN"
      ]
     },
     "execution_count": 18,
     "metadata": {},
     "output_type": "execute_result"
    }
   ],
   "source": [
    "df2"
   ]
  },
  {
   "cell_type": "code",
   "execution_count": 19,
   "metadata": {},
   "outputs": [
    {
     "data": {
      "text/plain": [
       "76"
      ]
     },
     "execution_count": 19,
     "metadata": {},
     "output_type": "execute_result"
    }
   ],
   "source": [
    "df2.memory_usage().sum()"
   ]
  },
  {
   "cell_type": "code",
   "execution_count": 20,
   "metadata": {},
   "outputs": [
    {
     "name": "stdout",
     "output_type": "stream",
     "text": [
      "<class 'pandas.core.frame.DataFrame'>\n",
      "RangeIndex: 3 entries, 0 to 2\n",
      "Data columns (total 3 columns):\n",
      "email    2 non-null object\n",
      "name     3 non-null object\n",
      "phone    2 non-null object\n",
      "dtypes: object(3)\n",
      "memory usage: 76.0+ bytes\n"
     ]
    }
   ],
   "source": [
    "df2.info()"
   ]
  },
  {
   "cell_type": "markdown",
   "metadata": {},
   "source": [
    "## MoCo Traffic Violations - Jan 2018"
   ]
  },
  {
   "cell_type": "markdown",
   "metadata": {},
   "source": [
    "XML data file for Traffic Violations in Montgomery County for January 2018\n",
    "https://data.montgomerycountymd.gov/Public-Safety/Traffic-Violations/4mse-ku6q"
   ]
  },
  {
   "cell_type": "code",
   "execution_count": 21,
   "metadata": {},
   "outputs": [],
   "source": [
    "mxml = LET.parse('moco_traffic_Jan2018.xml')\n"
   ]
  },
  {
   "cell_type": "code",
   "execution_count": 22,
   "metadata": {},
   "outputs": [
    {
     "name": "stdout",
     "output_type": "stream",
     "text": [
      "response {} \n",
      "  \n",
      "row {} \n",
      "    \n",
      "row {'_id': 'row-2ga7.ifin_4q23', '_uuid': '00000000-0000-0000-6460-E73B33438C41', '_position': '0', '_address': 'https://data.montgomerycountymd.gov/resource/ms8i-8ux3/row-2ga7.ifin_4q23'} \n",
      "      \n",
      "date_of_stop {} 2018-01-18T00:00:00\n",
      "time_of_stop {} 18:36:00\n",
      "agency {} MCP\n",
      "subagency {} 4th district, Wheaton\n",
      "description {} TAILLIGHTS (*)\n",
      "location {} S/B GEORGIA AVE. @ UNIVERSITY BLV. W.\n",
      "latitude {} 39.04033\n",
      "longitude {} -77.0514933333333\n",
      "accident {} No\n",
      "belts {} No\n",
      "personal_injury {} No\n",
      "property_damage {} No\n",
      "fatal {} No\n",
      "commercial_license {} No\n",
      "hazmat {} No\n",
      "commercial_vehicle {} No\n",
      "alcohol {} No\n",
      "work_zone {} No\n",
      "state {} MD\n",
      "vehicle_type {} 02 - Automobile\n",
      "year {} 2013\n",
      "make {} HYUND\n",
      "model {} 4S\n",
      "color {} RED\n",
      "violation_type {} ESERO\n",
      "charge {} 56*\n",
      "contributed_to_accident {} No\n",
      "race {} WHITE\n",
      "gender {} F\n",
      "driver_city {} BETHESDA\n",
      "driver_state {} MD\n",
      "dl_state {} MD\n",
      "arrest_type {} A - Marked Patrol\n",
      "geolocation {'latitude': '39.04033', 'longitude': '-77.051493333333'} None\n",
      "row {'_id': 'row-54up~wtcb_27ak', '_uuid': '00000000-0000-0000-19C4-850DC5A127C7', '_position': '0', '_address': 'https://data.montgomerycountymd.gov/resource/ms8i-8ux3/row-54up~wtcb_27ak'} \n",
      "      \n",
      "date_of_stop {} 2018-01-18T00:00:00\n",
      "time_of_stop {} 21:28:00\n",
      "agency {} MCP\n",
      "subagency {} 2nd district, Bethesda\n",
      "description {} TAILLIGHTS (*)\n",
      "location {} NB355/CHESTNUT ST\n",
      "latitude {} 38.992945\n",
      "longitude {} -77.09625\n",
      "accident {} No\n",
      "belts {} No\n",
      "personal_injury {} No\n",
      "property_damage {} No\n",
      "fatal {} No\n",
      "commercial_license {} No\n",
      "hazmat {} No\n",
      "commercial_vehicle {} No\n",
      "alcohol {} No\n",
      "work_zone {} No\n",
      "state {} MD\n",
      "vehicle_type {} 02 - Automobile\n",
      "year {} 2001\n",
      "make {} BMW\n",
      "model {} 2S\n",
      "color {} BLUE\n",
      "violation_type {} ESERO\n",
      "charge {} 56*\n",
      "contributed_to_accident {} No\n",
      "race {} WHITE\n",
      "gender {} M\n",
      "driver_city {} BETHESDA\n",
      "driver_state {} MD\n",
      "dl_state {} MD\n",
      "arrest_type {} A - Marked Patrol\n",
      "geolocation {'latitude': '38.992945', 'longitude': '-77.09625'} None\n"
     ]
    }
   ],
   "source": [
    "i = 0\n",
    "for c in mxml.getiterator():\n",
    "    if c.tag == 'row':\n",
    "        i += 1\n",
    "    if i > 3:\n",
    "        break\n",
    "    print(c.tag, c.attrib, c.text)"
   ]
  },
  {
   "cell_type": "code",
   "execution_count": 23,
   "metadata": {},
   "outputs": [],
   "source": [
    "def trafficParser(xml_obj):\n",
    "    cnt = 0\n",
    "    rows = []\n",
    "    for obj in xml_obj.getchildren():\n",
    "        if obj.tag == 'row':\n",
    "            for r in obj.getchildren():\n",
    "                rdict = {}\n",
    "                for t in r.getchildren():\n",
    "                    if t.text != None:\n",
    "                        rdict[t.tag] = t.text.strip()\n",
    "                rows.append(rdict)\n",
    "                cnt += 1\n",
    "    print(\"Num Rows: \" + str(cnt))\n",
    "    return pd.DataFrame(rows)"
   ]
  },
  {
   "cell_type": "code",
   "execution_count": 24,
   "metadata": {},
   "outputs": [
    {
     "data": {
      "text/plain": [
       "<lxml.etree._ElementTree at 0xce55670>"
      ]
     },
     "execution_count": 24,
     "metadata": {},
     "output_type": "execute_result"
    }
   ],
   "source": [
    "mxml"
   ]
  },
  {
   "cell_type": "code",
   "execution_count": 25,
   "metadata": {},
   "outputs": [],
   "source": [
    "response = mxml.getroot()"
   ]
  },
  {
   "cell_type": "code",
   "execution_count": 26,
   "metadata": {},
   "outputs": [
    {
     "data": {
      "text/plain": [
       "<Element response at 0xce551c0>"
      ]
     },
     "execution_count": 26,
     "metadata": {},
     "output_type": "execute_result"
    }
   ],
   "source": [
    "response"
   ]
  },
  {
   "cell_type": "code",
   "execution_count": 27,
   "metadata": {},
   "outputs": [
    {
     "name": "stdout",
     "output_type": "stream",
     "text": [
      "Num Rows: 17577\n"
     ]
    }
   ],
   "source": [
    "moco = trafficParser(response)"
   ]
  },
  {
   "cell_type": "code",
   "execution_count": 28,
   "metadata": {},
   "outputs": [
    {
     "name": "stdout",
     "output_type": "stream",
     "text": [
      "<class 'pandas.core.frame.DataFrame'>\n",
      "RangeIndex: 17577 entries, 0 to 17576\n",
      "Data columns (total 34 columns):\n",
      "accident                   17577 non-null object\n",
      "agency                     17577 non-null object\n",
      "alcohol                    17577 non-null object\n",
      "arrest_type                17577 non-null object\n",
      "article                    16699 non-null object\n",
      "belts                      17577 non-null object\n",
      "charge                     17577 non-null object\n",
      "color                      17577 non-null object\n",
      "commercial_license         17577 non-null object\n",
      "commercial_vehicle         17577 non-null object\n",
      "contributed_to_accident    17577 non-null object\n",
      "date_of_stop               17577 non-null object\n",
      "description                17577 non-null object\n",
      "dl_state                   17577 non-null object\n",
      "driver_city                17577 non-null object\n",
      "driver_state               17577 non-null object\n",
      "fatal                      17577 non-null object\n",
      "gender                     17577 non-null object\n",
      "hazmat                     17577 non-null object\n",
      "latitude                   17165 non-null object\n",
      "location                   17577 non-null object\n",
      "longitude                  17165 non-null object\n",
      "make                       17577 non-null object\n",
      "model                      17577 non-null object\n",
      "personal_injury            17577 non-null object\n",
      "property_damage            17577 non-null object\n",
      "race                       17577 non-null object\n",
      "state                      17577 non-null object\n",
      "subagency                  17577 non-null object\n",
      "time_of_stop               17577 non-null object\n",
      "vehicle_type               17577 non-null object\n",
      "violation_type             17577 non-null object\n",
      "work_zone                  17577 non-null object\n",
      "year                       17487 non-null object\n",
      "dtypes: object(34)\n",
      "memory usage: 2.3+ MB\n"
     ]
    }
   ],
   "source": [
    "moco.info()"
   ]
  },
  {
   "cell_type": "code",
   "execution_count": 29,
   "metadata": {},
   "outputs": [
    {
     "data": {
      "text/plain": [
       "accident                     0\n",
       "agency                       0\n",
       "alcohol                      0\n",
       "arrest_type                  0\n",
       "article                    878\n",
       "belts                        0\n",
       "charge                       0\n",
       "color                        0\n",
       "commercial_license           0\n",
       "commercial_vehicle           0\n",
       "contributed_to_accident      0\n",
       "date_of_stop                 0\n",
       "description                  0\n",
       "dl_state                     0\n",
       "driver_city                  0\n",
       "driver_state                 0\n",
       "fatal                        0\n",
       "gender                       0\n",
       "hazmat                       0\n",
       "latitude                   412\n",
       "location                     0\n",
       "longitude                  412\n",
       "make                         0\n",
       "model                        0\n",
       "personal_injury              0\n",
       "property_damage              0\n",
       "race                         0\n",
       "state                        0\n",
       "subagency                    0\n",
       "time_of_stop                 0\n",
       "vehicle_type                 0\n",
       "violation_type               0\n",
       "work_zone                    0\n",
       "year                        90\n",
       "dtype: int64"
      ]
     },
     "execution_count": 29,
     "metadata": {},
     "output_type": "execute_result"
    }
   ],
   "source": [
    "moco.isnull().sum()"
   ]
  },
  {
   "cell_type": "code",
   "execution_count": null,
   "metadata": {},
   "outputs": [],
   "source": []
  },
  {
   "cell_type": "code",
   "execution_count": null,
   "metadata": {},
   "outputs": [],
   "source": []
  },
  {
   "cell_type": "code",
   "execution_count": null,
   "metadata": {},
   "outputs": [],
   "source": []
  }
 ],
 "metadata": {
  "kernelspec": {
   "display_name": "Python 3",
   "language": "python",
   "name": "python3"
  },
  "language_info": {
   "codemirror_mode": {
    "name": "ipython",
    "version": 3
   },
   "file_extension": ".py",
   "mimetype": "text/x-python",
   "name": "python",
   "nbconvert_exporter": "python",
   "pygments_lexer": "ipython3",
   "version": "3.6.4"
  }
 },
 "nbformat": 4,
 "nbformat_minor": 2
}
