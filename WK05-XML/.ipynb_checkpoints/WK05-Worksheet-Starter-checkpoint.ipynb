{
 "cells": [
  {
   "cell_type": "markdown",
   "metadata": {},
   "source": [
    "# Worksheet 05 - XML\n",
    "\n",
    "Your Name:  \n",
    "Your Class:   INST 447  \n",
    "Your Section: 0101 (MWF) or 0102 (TTh)  \n",
    "Your favorite color:  "
   ]
  },
  {
   "cell_type": "markdown",
   "metadata": {},
   "source": [
    "Citations:\n",
    "XML Data Sets: http://aiweb.cs.washington.edu/research/projects/xmltk/xmldata/www/repository.html\n"
   ]
  },
  {
   "cell_type": "code",
   "execution_count": 2,
   "metadata": {},
   "outputs": [],
   "source": [
    "# standard includes\n",
    "import pandas as pd\n",
    "import numpy as np\n",
    "import matplotlib.pyplot as plt\n",
    "# import seaborn as sns\n",
    "import os\n",
    "\n",
    "%matplotlib inline"
   ]
  },
  {
   "cell_type": "code",
   "execution_count": null,
   "metadata": {},
   "outputs": [],
   "source": [
    "# import the lxml parser\n",
    "from lxml import etree"
   ]
  },
  {
   "cell_type": "markdown",
   "metadata": {},
   "source": [
    "Validation works the same with a DTD as it does with an XML Schema"
   ]
  },
  {
   "cell_type": "code",
   "execution_count": null,
   "metadata": {},
   "outputs": [],
   "source": [
    "dtd = etree.DTD('ebay.dtd')\n",
    "ebay = etree.parse('ebay.xml') "
   ]
  },
  {
   "cell_type": "markdown",
   "metadata": {},
   "source": [
    "### Q1 - Validate IT!\n",
    "\n",
    "How do we tell if it is valid? (The dtd object works similar to the schema object...)"
   ]
  },
  {
   "cell_type": "code",
   "execution_count": null,
   "metadata": {
    "scrolled": false
   },
   "outputs": [],
   "source": [
    "# Hint: The dtd object works just like the schema object\n"
   ]
  },
  {
   "cell_type": "markdown",
   "metadata": {},
   "source": [
    "Well now we can look inside!"
   ]
  },
  {
   "cell_type": "code",
   "execution_count": null,
   "metadata": {},
   "outputs": [],
   "source": [
    "node_count = 0\n",
    "for listing in ebay.findall('//listing'):\n",
    "    print(\"<listing>\")\n",
    "    for child in listing.getchildren():\n",
    "        print(\" \", child.tag, child.attrib)\n",
    "    print(\"</listing>\")\n",
    "    node_count += 1\n",
    "print(\"\\nNumber of nodes: {0}\".format(node_count))"
   ]
  },
  {
   "cell_type": "markdown",
   "metadata": {},
   "source": [
    "### Q2 - Make a DataFrame\n",
    "That is pretty nice XML. Write a look at will create a DataFrame from that."
   ]
  },
  {
   "cell_type": "code",
   "execution_count": null,
   "metadata": {},
   "outputs": [],
   "source": [
    "# Make a Data Frame from the listing XML\n"
   ]
  },
  {
   "cell_type": "markdown",
   "metadata": {},
   "source": [
    "## Using Recursion to Parse\n",
    "\n",
    "Did you use some for loops to create your DataFrame, above?  \n",
    "\n",
    "You had to write some very specific code to do that. It is \"closely coupled\" to the format of the XML file. What if you could flatten an XML file in a more general way?\n",
    "\n",
    "You can do that using recursion. The set of functions below walk the XML tree to flatten it using recursion."
   ]
  },
  {
   "cell_type": "code",
   "execution_count": null,
   "metadata": {},
   "outputs": [],
   "source": [
    "# Adapted from: http://www.austintaylor.io/lxml/python/pandas/xml/dataframe/2016/07/08/convert-xml-to-pandas-dataframe/\n",
    "\n",
    "def parse_root(root):\n",
    "    return [parse_element(child) for child in root.getchildren()]\n",
    "\n",
    "def parse_element(element, parsed=None):\n",
    "    if parsed is None:\n",
    "        parsed = dict()\n",
    "    for key in element.keys():\n",
    "        parsed[key] = element.attrib.get(key)\n",
    "    if element.text:\n",
    "        parsed[element.tag] = element.text\n",
    "    for child in element.getchildren():\n",
    "        parse_element(child, parsed)\n",
    "    return parsed\n",
    "\n",
    "def process_data(root):\n",
    "    structure_data = parse_root(root)\n",
    "    return pd.DataFrame(structure_data)"
   ]
  },
  {
   "cell_type": "code",
   "execution_count": null,
   "metadata": {},
   "outputs": [],
   "source": [
    "process_data(ebay.getroot())"
   ]
  },
  {
   "cell_type": "markdown",
   "metadata": {},
   "source": [
    "Isn't that really nice!\n",
    "\n",
    "There has to be a catch because I've been making you loop through code to build DataFrames and didn't just give you that code. Also, there isn't a read_xml() function in Pandas, and if there would be a candidate, you'd think that would be it.\n",
    "\n",
    "Yup, there is a catch. Look at these NSF XML files:"
   ]
  },
  {
   "cell_type": "code",
   "execution_count": null,
   "metadata": {},
   "outputs": [],
   "source": [
    "nsf_funding = etree.parse('NSFFundingRateHistory.xml')\n",
    "nsf_budget = etree.parse('NSFBudgetHistory.xml')"
   ]
  },
  {
   "cell_type": "code",
   "execution_count": null,
   "metadata": {},
   "outputs": [],
   "source": [
    "funding_df = process_data(nsf_funding.getroot())\n",
    "budget_df = process_data(nsf_budget.getroot())"
   ]
  },
  {
   "cell_type": "code",
   "execution_count": null,
   "metadata": {},
   "outputs": [],
   "source": [
    "funding_df.head()"
   ]
  },
  {
   "cell_type": "code",
   "execution_count": null,
   "metadata": {},
   "outputs": [],
   "source": [
    "budget_df.head()"
   ]
  },
  {
   "cell_type": "markdown",
   "metadata": {},
   "source": [
    "Completely useless for analysis. There are missing colummns, rows are laid out as columns, basically it is a total mess.\n",
    "\n",
    "So why?\n",
    "\n",
    "You really have to look at the XML from that."
   ]
  },
  {
   "cell_type": "code",
   "execution_count": null,
   "metadata": {},
   "outputs": [],
   "source": [
    "nsf_budget.getroot().tag"
   ]
  },
  {
   "cell_type": "code",
   "execution_count": null,
   "metadata": {},
   "outputs": [],
   "source": [
    "i = 0\n",
    "budget = []\n",
    "for fiscal_year in nsf_budget.getroot().getchildren():\n",
    "    row = {}\n",
    "    tag = fiscal_year.tag[:2]\n",
    "    val = fiscal_year.tag[2:6]\n",
    "    row[tag] = val\n",
    "    for dollars in fiscal_year.getchildren():\n",
    "        #print(dollars.tag, dollars.attrib, dollars.text)\n",
    "        key_label = dollars.tag\n",
    "        for child in dollars.getchildren():\n",
    "            #print(child.tag, child.attrib, child.text)\n",
    "            row[key_label + '_' + child.tag] = child.text\n",
    "    budget.append(row)\n",
    "\n",
    "pd.DataFrame(budget)['FY'].max()\n"
   ]
  },
  {
   "cell_type": "markdown",
   "metadata": {},
   "source": [
    "## Q3 - Make a DataFrame from the NSF Funding Rate History\n",
    "\n",
    "Write the code to parse that XML into a DataFrame"
   ]
  },
  {
   "cell_type": "code",
   "execution_count": null,
   "metadata": {},
   "outputs": [],
   "source": []
  }
 ],
 "metadata": {
  "kernelspec": {
   "display_name": "Python 3",
   "language": "python",
   "name": "python3"
  },
  "language_info": {
   "codemirror_mode": {
    "name": "ipython",
    "version": 3
   },
   "file_extension": ".py",
   "mimetype": "text/x-python",
   "name": "python",
   "nbconvert_exporter": "python",
   "pygments_lexer": "ipython3",
   "version": "3.6.4"
  }
 },
 "nbformat": 4,
 "nbformat_minor": 2
}
