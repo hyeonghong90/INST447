{
 "cells": [
  {
   "cell_type": "markdown",
   "metadata": {},
   "source": [
    "# Worksheet 07 - JSON\n",
    "\n",
    "Your Name:  Hyeong-gi Hong              \n",
    "Your Class:   INST 447  \n",
    "Your Section: 0101 (MWF) or 0102 (TTh)                        \n",
    "Your favorite color:  Blue"
   ]
  },
  {
   "cell_type": "code",
   "execution_count": 1,
   "metadata": {},
   "outputs": [],
   "source": [
    "import pandas as pd\n",
    "import numpy as np\n",
    "import json"
   ]
  },
  {
   "cell_type": "markdown",
   "metadata": {},
   "source": [
    "I have saved the JSON response for each geocode request to the Google API for each Capital Area Bikeshare bike station into a csv file called \"cabi_with_geo.csv\".\n",
    "\n",
    "Load the CSV into a Pandas DataFrame called 'stations'. Then parse out the JSON response into a two new columns - one for the latitude and one for the longitude.\n",
    "\n",
    "Remove the column with the json response in it, so that you have a DataFrame that has the bikestation number, the bikestation address, the bikestation latitude, and the bikestation longitude.\n",
    "\n",
    "The latitude and longitude are within geometry/location in the JSON."
   ]
  },
  {
   "cell_type": "code",
   "execution_count": 2,
   "metadata": {},
   "outputs": [],
   "source": [
    "stations = pd.read_csv('data/cabi_with_geo.csv')"
   ]
  },
  {
   "cell_type": "code",
   "execution_count": 3,
   "metadata": {},
   "outputs": [],
   "source": [
    "stations.drop(['Unnamed: 0'], axis=1, inplace=True)"
   ]
  },
  {
   "cell_type": "code",
   "execution_count": 4,
   "metadata": {},
   "outputs": [
    {
     "data": {
      "text/plain": [
       "number      0\n",
       "address     0\n",
       "response    0\n",
       "dtype: int64"
      ]
     },
     "execution_count": 4,
     "metadata": {},
     "output_type": "execute_result"
    }
   ],
   "source": [
    "# null cell checking\n",
    "stations.isnull().sum()"
   ]
  },
  {
   "cell_type": "code",
   "execution_count": 5,
   "metadata": {},
   "outputs": [],
   "source": [
    "stations['number'] = stations['number'].astype('int64')"
   ]
  },
  {
   "cell_type": "code",
   "execution_count": 6,
   "metadata": {},
   "outputs": [],
   "source": [
    "# jd = json.loads(stations['response'][0])"
   ]
  },
  {
   "cell_type": "code",
   "execution_count": 7,
   "metadata": {},
   "outputs": [],
   "source": [
    "# lat = jd['results'][0]['geometry']['location']['lat']\n",
    "# lng = jd['results'][0]['geometry']['location']['lng']"
   ]
  },
  {
   "cell_type": "code",
   "execution_count": 8,
   "metadata": {},
   "outputs": [],
   "source": [
    "geo_list = []\n",
    "for line in stations['response']:\n",
    "    jd = json.loads(line)\n",
    "    if jd['status'] == 'OK':\n",
    "        lat = jd['results'][0]['geometry']['location']['lat']\n",
    "        lng = jd['results'][0]['geometry']['location']['lng']\n",
    "    else:\n",
    "        (lat, lng) = (np.NaN, np.NaN)\n",
    "    geo_list.append({'lat': lat, 'lng': lng})"
   ]
  },
  {
   "cell_type": "code",
   "execution_count": 9,
   "metadata": {},
   "outputs": [],
   "source": [
    "geos = pd.DataFrame(geo_list)"
   ]
  },
  {
   "cell_type": "code",
   "execution_count": 10,
   "metadata": {},
   "outputs": [],
   "source": [
    "stations = pd.concat([stations, geos], axis=1)"
   ]
  },
  {
   "cell_type": "code",
   "execution_count": 11,
   "metadata": {},
   "outputs": [],
   "source": [
    "stations = stations.dropna()\n",
    "stations.drop(['response'], axis=1, inplace=True)"
   ]
  },
  {
   "cell_type": "code",
   "execution_count": 12,
   "metadata": {},
   "outputs": [
    {
     "data": {
      "text/html": [
       "<div>\n",
       "<style scoped>\n",
       "    .dataframe tbody tr th:only-of-type {\n",
       "        vertical-align: middle;\n",
       "    }\n",
       "\n",
       "    .dataframe tbody tr th {\n",
       "        vertical-align: top;\n",
       "    }\n",
       "\n",
       "    .dataframe thead th {\n",
       "        text-align: right;\n",
       "    }\n",
       "</style>\n",
       "<table border=\"1\" class=\"dataframe\">\n",
       "  <thead>\n",
       "    <tr style=\"text-align: right;\">\n",
       "      <th></th>\n",
       "      <th>number</th>\n",
       "      <th>address</th>\n",
       "      <th>lat</th>\n",
       "      <th>lng</th>\n",
       "    </tr>\n",
       "  </thead>\n",
       "  <tbody>\n",
       "    <tr>\n",
       "      <th>0</th>\n",
       "      <td>31111</td>\n",
       "      <td>10th &amp; U St NW</td>\n",
       "      <td>38.917007</td>\n",
       "      <td>-77.025986</td>\n",
       "    </tr>\n",
       "    <tr>\n",
       "      <th>1</th>\n",
       "      <td>31602</td>\n",
       "      <td>Park Rd &amp; Holmead Pl NW</td>\n",
       "      <td>38.930927</td>\n",
       "      <td>-77.030867</td>\n",
       "    </tr>\n",
       "    <tr>\n",
       "      <th>2</th>\n",
       "      <td>31106</td>\n",
       "      <td>Calvert St &amp; Woodley Pl NW</td>\n",
       "      <td>38.923468</td>\n",
       "      <td>-77.050365</td>\n",
       "    </tr>\n",
       "    <tr>\n",
       "      <th>3</th>\n",
       "      <td>31110</td>\n",
       "      <td>20th St &amp; Florida Ave NW</td>\n",
       "      <td>38.915107</td>\n",
       "      <td>-77.044913</td>\n",
       "    </tr>\n",
       "    <tr>\n",
       "      <th>4</th>\n",
       "      <td>31107</td>\n",
       "      <td>Lamont &amp; Mt Pleasant NW</td>\n",
       "      <td>38.931139</td>\n",
       "      <td>-77.038249</td>\n",
       "    </tr>\n",
       "  </tbody>\n",
       "</table>\n",
       "</div>"
      ],
      "text/plain": [
       "   number                      address        lat        lng\n",
       "0   31111              10th & U St NW   38.917007 -77.025986\n",
       "1   31602     Park Rd & Holmead Pl NW   38.930927 -77.030867\n",
       "2   31106  Calvert St & Woodley Pl NW   38.923468 -77.050365\n",
       "3   31110    20th St & Florida Ave NW   38.915107 -77.044913\n",
       "4   31107     Lamont & Mt Pleasant NW   38.931139 -77.038249"
      ]
     },
     "execution_count": 12,
     "metadata": {},
     "output_type": "execute_result"
    }
   ],
   "source": [
    "stations.head()"
   ]
  },
  {
   "cell_type": "code",
   "execution_count": 13,
   "metadata": {},
   "outputs": [
    {
     "name": "stdout",
     "output_type": "stream",
     "text": [
      "<class 'pandas.core.frame.DataFrame'>\n",
      "Int64Index: 106 entries, 0 to 106\n",
      "Data columns (total 4 columns):\n",
      "number     106 non-null int64\n",
      "address    106 non-null object\n",
      "lat        106 non-null float64\n",
      "lng        106 non-null float64\n",
      "dtypes: float64(2), int64(1), object(1)\n",
      "memory usage: 3.7+ KB\n"
     ]
    }
   ],
   "source": [
    "stations.info()"
   ]
  },
  {
   "cell_type": "markdown",
   "metadata": {},
   "source": [
    "If we want to map the the start and end of each bike trip, then we need to merge that stations' latitude and longitude with the trip data. Load the trips data from the \"2010-q4-cabi-split-stations-columns.csv\" into a DataFrame called trips. (This is the CABI data, but after I split the Start station and End station columns.)\n",
    "\n",
    "Now add columns with the latitude and longitude for the start station."
   ]
  },
  {
   "cell_type": "code",
   "execution_count": 14,
   "metadata": {},
   "outputs": [],
   "source": [
    "trips = pd.read_csv('data/2010-q4-cabi-split-stations-columns.csv')"
   ]
  },
  {
   "cell_type": "code",
   "execution_count": 15,
   "metadata": {},
   "outputs": [
    {
     "data": {
      "text/plain": [
       "16"
      ]
     },
     "execution_count": 15,
     "metadata": {},
     "output_type": "execute_result"
    }
   ],
   "source": [
    "trips['start_station_number'].isnull().sum()"
   ]
  },
  {
   "cell_type": "code",
   "execution_count": 16,
   "metadata": {},
   "outputs": [
    {
     "data": {
      "text/plain": [
       "16"
      ]
     },
     "execution_count": 16,
     "metadata": {},
     "output_type": "execute_result"
    }
   ],
   "source": [
    "trips['end_station_number'].isnull().sum()"
   ]
  },
  {
   "cell_type": "code",
   "execution_count": 17,
   "metadata": {},
   "outputs": [],
   "source": [
    "trips = trips.dropna()"
   ]
  },
  {
   "cell_type": "code",
   "execution_count": 18,
   "metadata": {},
   "outputs": [],
   "source": [
    "trips['start_station_number'] = trips['start_station_number'].astype('int64')\n",
    "trips['end_station_number'] = trips['end_station_number'].astype('int64')"
   ]
  },
  {
   "cell_type": "code",
   "execution_count": 19,
   "metadata": {},
   "outputs": [
    {
     "name": "stdout",
     "output_type": "stream",
     "text": [
      "<class 'pandas.core.frame.DataFrame'>\n",
      "Int64Index: 117676 entries, 0 to 117691\n",
      "Data columns (total 12 columns):\n",
      "Unnamed: 0               117676 non-null int64\n",
      "Duration                 117676 non-null object\n",
      "Start date               117676 non-null object\n",
      "End date                 117676 non-null object\n",
      "Start station            117676 non-null object\n",
      "End station              117676 non-null object\n",
      "Bike#                    117676 non-null object\n",
      "Member Type              117676 non-null object\n",
      "start_station_address    117676 non-null object\n",
      "start_station_number     117676 non-null int64\n",
      "end_station_address      117676 non-null object\n",
      "end_station_number       117676 non-null int64\n",
      "dtypes: int64(3), object(9)\n",
      "memory usage: 7.6+ MB\n"
     ]
    }
   ],
   "source": [
    "trips.info()"
   ]
  },
  {
   "cell_type": "code",
   "execution_count": 20,
   "metadata": {},
   "outputs": [
    {
     "data": {
      "text/html": [
       "<div>\n",
       "<style scoped>\n",
       "    .dataframe tbody tr th:only-of-type {\n",
       "        vertical-align: middle;\n",
       "    }\n",
       "\n",
       "    .dataframe tbody tr th {\n",
       "        vertical-align: top;\n",
       "    }\n",
       "\n",
       "    .dataframe thead th {\n",
       "        text-align: right;\n",
       "    }\n",
       "</style>\n",
       "<table border=\"1\" class=\"dataframe\">\n",
       "  <thead>\n",
       "    <tr style=\"text-align: right;\">\n",
       "      <th></th>\n",
       "      <th>Unnamed: 0</th>\n",
       "      <th>Duration</th>\n",
       "      <th>Start date</th>\n",
       "      <th>End date</th>\n",
       "      <th>Start station</th>\n",
       "      <th>End station</th>\n",
       "      <th>Bike#</th>\n",
       "      <th>Member Type</th>\n",
       "      <th>start_station_address</th>\n",
       "      <th>start_station_number</th>\n",
       "      <th>end_station_address</th>\n",
       "      <th>end_station_number</th>\n",
       "    </tr>\n",
       "  </thead>\n",
       "  <tbody>\n",
       "    <tr>\n",
       "      <th>0</th>\n",
       "      <td>0</td>\n",
       "      <td>14h 26min. 2sec.</td>\n",
       "      <td>12/31/2010 23:49</td>\n",
       "      <td>1/1/2011 14:15</td>\n",
       "      <td>10th &amp; U St NW (31111)</td>\n",
       "      <td>10th &amp; U St NW (31111)</td>\n",
       "      <td>W00771</td>\n",
       "      <td>Casual</td>\n",
       "      <td>10th &amp; U St NW</td>\n",
       "      <td>31111</td>\n",
       "      <td>10th &amp; U St NW</td>\n",
       "      <td>31111</td>\n",
       "    </tr>\n",
       "    <tr>\n",
       "      <th>1</th>\n",
       "      <td>1</td>\n",
       "      <td>0h 8min. 34sec.</td>\n",
       "      <td>12/31/2010 23:37</td>\n",
       "      <td>12/31/2010 23:46</td>\n",
       "      <td>10th &amp; U St NW (31111)</td>\n",
       "      <td>14th &amp; R St NW (31202)</td>\n",
       "      <td>W01119</td>\n",
       "      <td>Registered</td>\n",
       "      <td>10th &amp; U St NW</td>\n",
       "      <td>31111</td>\n",
       "      <td>14th &amp; R St NW</td>\n",
       "      <td>31202</td>\n",
       "    </tr>\n",
       "    <tr>\n",
       "      <th>2</th>\n",
       "      <td>2</td>\n",
       "      <td>0h 12min. 17sec.</td>\n",
       "      <td>12/31/2010 23:27</td>\n",
       "      <td>12/31/2010 23:39</td>\n",
       "      <td>Park Rd &amp; Holmead Pl NW (31602)</td>\n",
       "      <td>14th St &amp; Spring Rd NW (31401)</td>\n",
       "      <td>W00973</td>\n",
       "      <td>Registered</td>\n",
       "      <td>Park Rd &amp; Holmead Pl NW</td>\n",
       "      <td>31602</td>\n",
       "      <td>14th St &amp; Spring Rd NW</td>\n",
       "      <td>31401</td>\n",
       "    </tr>\n",
       "    <tr>\n",
       "      <th>3</th>\n",
       "      <td>3</td>\n",
       "      <td>0h 15min. 53sec.</td>\n",
       "      <td>12/31/2010 23:21</td>\n",
       "      <td>12/31/2010 23:37</td>\n",
       "      <td>Calvert St &amp; Woodley Pl NW (31106)</td>\n",
       "      <td>14th St &amp; Spring Rd NW (31401)</td>\n",
       "      <td>W00914</td>\n",
       "      <td>Registered</td>\n",
       "      <td>Calvert St &amp; Woodley Pl NW</td>\n",
       "      <td>31106</td>\n",
       "      <td>14th St &amp; Spring Rd NW</td>\n",
       "      <td>31401</td>\n",
       "    </tr>\n",
       "    <tr>\n",
       "      <th>4</th>\n",
       "      <td>4</td>\n",
       "      <td>0h 36min. 19sec.</td>\n",
       "      <td>12/31/2010 23:20</td>\n",
       "      <td>12/31/2010 23:56</td>\n",
       "      <td>20th St &amp; Florida Ave NW (31110)</td>\n",
       "      <td>Columbus Circle / Union Station (31623)</td>\n",
       "      <td>W00859</td>\n",
       "      <td>Casual</td>\n",
       "      <td>20th St &amp; Florida Ave NW</td>\n",
       "      <td>31110</td>\n",
       "      <td>Columbus Circle / Union Station</td>\n",
       "      <td>31623</td>\n",
       "    </tr>\n",
       "  </tbody>\n",
       "</table>\n",
       "</div>"
      ],
      "text/plain": [
       "   Unnamed: 0          Duration        Start date          End date  \\\n",
       "0           0  14h 26min. 2sec.  12/31/2010 23:49    1/1/2011 14:15   \n",
       "1           1   0h 8min. 34sec.  12/31/2010 23:37  12/31/2010 23:46   \n",
       "2           2  0h 12min. 17sec.  12/31/2010 23:27  12/31/2010 23:39   \n",
       "3           3  0h 15min. 53sec.  12/31/2010 23:21  12/31/2010 23:37   \n",
       "4           4  0h 36min. 19sec.  12/31/2010 23:20  12/31/2010 23:56   \n",
       "\n",
       "                        Start station  \\\n",
       "0              10th & U St NW (31111)   \n",
       "1              10th & U St NW (31111)   \n",
       "2     Park Rd & Holmead Pl NW (31602)   \n",
       "3  Calvert St & Woodley Pl NW (31106)   \n",
       "4    20th St & Florida Ave NW (31110)   \n",
       "\n",
       "                               End station   Bike# Member Type  \\\n",
       "0                   10th & U St NW (31111)  W00771      Casual   \n",
       "1                   14th & R St NW (31202)  W01119  Registered   \n",
       "2           14th St & Spring Rd NW (31401)  W00973  Registered   \n",
       "3           14th St & Spring Rd NW (31401)  W00914  Registered   \n",
       "4  Columbus Circle / Union Station (31623)  W00859      Casual   \n",
       "\n",
       "         start_station_address  start_station_number  \\\n",
       "0              10th & U St NW                  31111   \n",
       "1              10th & U St NW                  31111   \n",
       "2     Park Rd & Holmead Pl NW                  31602   \n",
       "3  Calvert St & Woodley Pl NW                  31106   \n",
       "4    20th St & Florida Ave NW                  31110   \n",
       "\n",
       "                end_station_address  end_station_number  \n",
       "0                   10th & U St NW                31111  \n",
       "1                   14th & R St NW                31202  \n",
       "2           14th St & Spring Rd NW                31401  \n",
       "3           14th St & Spring Rd NW                31401  \n",
       "4  Columbus Circle / Union Station                31623  "
      ]
     },
     "execution_count": 20,
     "metadata": {},
     "output_type": "execute_result"
    }
   ],
   "source": [
    "trips.head()"
   ]
  },
  {
   "cell_type": "code",
   "execution_count": 21,
   "metadata": {},
   "outputs": [],
   "source": [
    "start_stations = stations.rename(index=str, columns={'number': 'start_station_number', 'address': 'start_station_address', 'lat': 'start_lat', 'lng': 'start_lng'})"
   ]
  },
  {
   "cell_type": "code",
   "execution_count": 22,
   "metadata": {},
   "outputs": [],
   "source": [
    "trips = trips.merge(start_stations, on=['start_station_number', 'start_station_address'])"
   ]
  },
  {
   "cell_type": "markdown",
   "metadata": {},
   "source": [
    "Now add columns for the latitude and longitude for the end stations."
   ]
  },
  {
   "cell_type": "code",
   "execution_count": 23,
   "metadata": {},
   "outputs": [],
   "source": [
    "end_stations = stations.rename(index=str, columns={'number': 'end_station_number', 'address': 'end_station_address', 'lat': 'end_lat', 'lng': 'end_lng'})"
   ]
  },
  {
   "cell_type": "code",
   "execution_count": 24,
   "metadata": {},
   "outputs": [],
   "source": [
    "trips = trips.merge(end_stations, on=['end_station_number', 'end_station_address'])"
   ]
  },
  {
   "cell_type": "code",
   "execution_count": 25,
   "metadata": {
    "scrolled": true
   },
   "outputs": [
    {
     "name": "stdout",
     "output_type": "stream",
     "text": [
      "<class 'pandas.core.frame.DataFrame'>\n",
      "Int64Index: 117589 entries, 0 to 117588\n",
      "Data columns (total 16 columns):\n",
      "Unnamed: 0               117589 non-null int64\n",
      "Duration                 117589 non-null object\n",
      "Start date               117589 non-null object\n",
      "End date                 117589 non-null object\n",
      "Start station            117589 non-null object\n",
      "End station              117589 non-null object\n",
      "Bike#                    117589 non-null object\n",
      "Member Type              117589 non-null object\n",
      "start_station_address    117589 non-null object\n",
      "start_station_number     117589 non-null int64\n",
      "end_station_address      117589 non-null object\n",
      "end_station_number       117589 non-null int64\n",
      "start_lat                117589 non-null float64\n",
      "start_lng                117589 non-null float64\n",
      "end_lat                  117589 non-null float64\n",
      "end_lng                  117589 non-null float64\n",
      "dtypes: float64(4), int64(3), object(9)\n",
      "memory usage: 11.2+ MB\n"
     ]
    }
   ],
   "source": [
    "trips.info()"
   ]
  },
  {
   "cell_type": "code",
   "execution_count": 26,
   "metadata": {},
   "outputs": [],
   "source": [
    "trips = trips.sort_values(by=['Unnamed: 0'])"
   ]
  },
  {
   "cell_type": "code",
   "execution_count": 28,
   "metadata": {},
   "outputs": [],
   "source": [
    "trips.reset_index(drop=True, inplace=True)"
   ]
  },
  {
   "cell_type": "code",
   "execution_count": 29,
   "metadata": {},
   "outputs": [
    {
     "data": {
      "text/html": [
       "<div>\n",
       "<style scoped>\n",
       "    .dataframe tbody tr th:only-of-type {\n",
       "        vertical-align: middle;\n",
       "    }\n",
       "\n",
       "    .dataframe tbody tr th {\n",
       "        vertical-align: top;\n",
       "    }\n",
       "\n",
       "    .dataframe thead th {\n",
       "        text-align: right;\n",
       "    }\n",
       "</style>\n",
       "<table border=\"1\" class=\"dataframe\">\n",
       "  <thead>\n",
       "    <tr style=\"text-align: right;\">\n",
       "      <th></th>\n",
       "      <th>Unnamed: 0</th>\n",
       "      <th>Duration</th>\n",
       "      <th>Start date</th>\n",
       "      <th>End date</th>\n",
       "      <th>Start station</th>\n",
       "      <th>End station</th>\n",
       "      <th>Bike#</th>\n",
       "      <th>Member Type</th>\n",
       "      <th>start_station_address</th>\n",
       "      <th>start_station_number</th>\n",
       "      <th>end_station_address</th>\n",
       "      <th>end_station_number</th>\n",
       "      <th>start_lat</th>\n",
       "      <th>start_lng</th>\n",
       "      <th>end_lat</th>\n",
       "      <th>end_lng</th>\n",
       "    </tr>\n",
       "  </thead>\n",
       "  <tbody>\n",
       "    <tr>\n",
       "      <th>0</th>\n",
       "      <td>0</td>\n",
       "      <td>14h 26min. 2sec.</td>\n",
       "      <td>12/31/2010 23:49</td>\n",
       "      <td>1/1/2011 14:15</td>\n",
       "      <td>10th &amp; U St NW (31111)</td>\n",
       "      <td>10th &amp; U St NW (31111)</td>\n",
       "      <td>W00771</td>\n",
       "      <td>Casual</td>\n",
       "      <td>10th &amp; U St NW</td>\n",
       "      <td>31111</td>\n",
       "      <td>10th &amp; U St NW</td>\n",
       "      <td>31111</td>\n",
       "      <td>38.917007</td>\n",
       "      <td>-77.025986</td>\n",
       "      <td>38.917007</td>\n",
       "      <td>-77.025986</td>\n",
       "    </tr>\n",
       "    <tr>\n",
       "      <th>1</th>\n",
       "      <td>1</td>\n",
       "      <td>0h 8min. 34sec.</td>\n",
       "      <td>12/31/2010 23:37</td>\n",
       "      <td>12/31/2010 23:46</td>\n",
       "      <td>10th &amp; U St NW (31111)</td>\n",
       "      <td>14th &amp; R St NW (31202)</td>\n",
       "      <td>W01119</td>\n",
       "      <td>Registered</td>\n",
       "      <td>10th &amp; U St NW</td>\n",
       "      <td>31111</td>\n",
       "      <td>14th &amp; R St NW</td>\n",
       "      <td>31202</td>\n",
       "      <td>38.917007</td>\n",
       "      <td>-77.025986</td>\n",
       "      <td>38.912606</td>\n",
       "      <td>-77.031949</td>\n",
       "    </tr>\n",
       "    <tr>\n",
       "      <th>2</th>\n",
       "      <td>2</td>\n",
       "      <td>0h 12min. 17sec.</td>\n",
       "      <td>12/31/2010 23:27</td>\n",
       "      <td>12/31/2010 23:39</td>\n",
       "      <td>Park Rd &amp; Holmead Pl NW (31602)</td>\n",
       "      <td>14th St &amp; Spring Rd NW (31401)</td>\n",
       "      <td>W00973</td>\n",
       "      <td>Registered</td>\n",
       "      <td>Park Rd &amp; Holmead Pl NW</td>\n",
       "      <td>31602</td>\n",
       "      <td>14th St &amp; Spring Rd NW</td>\n",
       "      <td>31401</td>\n",
       "      <td>38.930927</td>\n",
       "      <td>-77.030867</td>\n",
       "      <td>38.937075</td>\n",
       "      <td>-77.032723</td>\n",
       "    </tr>\n",
       "    <tr>\n",
       "      <th>3</th>\n",
       "      <td>3</td>\n",
       "      <td>0h 15min. 53sec.</td>\n",
       "      <td>12/31/2010 23:21</td>\n",
       "      <td>12/31/2010 23:37</td>\n",
       "      <td>Calvert St &amp; Woodley Pl NW (31106)</td>\n",
       "      <td>14th St &amp; Spring Rd NW (31401)</td>\n",
       "      <td>W00914</td>\n",
       "      <td>Registered</td>\n",
       "      <td>Calvert St &amp; Woodley Pl NW</td>\n",
       "      <td>31106</td>\n",
       "      <td>14th St &amp; Spring Rd NW</td>\n",
       "      <td>31401</td>\n",
       "      <td>38.923468</td>\n",
       "      <td>-77.050365</td>\n",
       "      <td>38.937075</td>\n",
       "      <td>-77.032723</td>\n",
       "    </tr>\n",
       "    <tr>\n",
       "      <th>4</th>\n",
       "      <td>4</td>\n",
       "      <td>0h 36min. 19sec.</td>\n",
       "      <td>12/31/2010 23:20</td>\n",
       "      <td>12/31/2010 23:56</td>\n",
       "      <td>20th St &amp; Florida Ave NW (31110)</td>\n",
       "      <td>Columbus Circle / Union Station (31623)</td>\n",
       "      <td>W00859</td>\n",
       "      <td>Casual</td>\n",
       "      <td>20th St &amp; Florida Ave NW</td>\n",
       "      <td>31110</td>\n",
       "      <td>Columbus Circle / Union Station</td>\n",
       "      <td>31623</td>\n",
       "      <td>38.915107</td>\n",
       "      <td>-77.044913</td>\n",
       "      <td>38.896995</td>\n",
       "      <td>-77.006384</td>\n",
       "    </tr>\n",
       "  </tbody>\n",
       "</table>\n",
       "</div>"
      ],
      "text/plain": [
       "   Unnamed: 0          Duration        Start date          End date  \\\n",
       "0           0  14h 26min. 2sec.  12/31/2010 23:49    1/1/2011 14:15   \n",
       "1           1   0h 8min. 34sec.  12/31/2010 23:37  12/31/2010 23:46   \n",
       "2           2  0h 12min. 17sec.  12/31/2010 23:27  12/31/2010 23:39   \n",
       "3           3  0h 15min. 53sec.  12/31/2010 23:21  12/31/2010 23:37   \n",
       "4           4  0h 36min. 19sec.  12/31/2010 23:20  12/31/2010 23:56   \n",
       "\n",
       "                        Start station  \\\n",
       "0              10th & U St NW (31111)   \n",
       "1              10th & U St NW (31111)   \n",
       "2     Park Rd & Holmead Pl NW (31602)   \n",
       "3  Calvert St & Woodley Pl NW (31106)   \n",
       "4    20th St & Florida Ave NW (31110)   \n",
       "\n",
       "                               End station   Bike# Member Type  \\\n",
       "0                   10th & U St NW (31111)  W00771      Casual   \n",
       "1                   14th & R St NW (31202)  W01119  Registered   \n",
       "2           14th St & Spring Rd NW (31401)  W00973  Registered   \n",
       "3           14th St & Spring Rd NW (31401)  W00914  Registered   \n",
       "4  Columbus Circle / Union Station (31623)  W00859      Casual   \n",
       "\n",
       "         start_station_address  start_station_number  \\\n",
       "0              10th & U St NW                  31111   \n",
       "1              10th & U St NW                  31111   \n",
       "2     Park Rd & Holmead Pl NW                  31602   \n",
       "3  Calvert St & Woodley Pl NW                  31106   \n",
       "4    20th St & Florida Ave NW                  31110   \n",
       "\n",
       "                end_station_address  end_station_number  start_lat  start_lng  \\\n",
       "0                   10th & U St NW                31111  38.917007 -77.025986   \n",
       "1                   14th & R St NW                31202  38.917007 -77.025986   \n",
       "2           14th St & Spring Rd NW                31401  38.930927 -77.030867   \n",
       "3           14th St & Spring Rd NW                31401  38.923468 -77.050365   \n",
       "4  Columbus Circle / Union Station                31623  38.915107 -77.044913   \n",
       "\n",
       "     end_lat    end_lng  \n",
       "0  38.917007 -77.025986  \n",
       "1  38.912606 -77.031949  \n",
       "2  38.937075 -77.032723  \n",
       "3  38.937075 -77.032723  \n",
       "4  38.896995 -77.006384  "
      ]
     },
     "execution_count": 29,
     "metadata": {},
     "output_type": "execute_result"
    }
   ],
   "source": [
    "trips.head()"
   ]
  },
  {
   "cell_type": "markdown",
   "metadata": {},
   "source": [
    "Find another API that responds with JSON and provide a link. What data from it do you think would be interesting? How would you use it?"
   ]
  },
  {
   "cell_type": "markdown",
   "metadata": {},
   "source": [
    "https://www.kaggle.com/sohier/us-energy-statistics/data\n",
    "\n",
    "This dataset contains the energy consumption. I am interested in every data in this dataset. I would like to use this dataset to identify which energe source is being mostly used and which period has the highest energy usage. From what I find, there can be addition research for how can we reduce the highest energy consumption if it causes natural pollution."
   ]
  }
 ],
 "metadata": {
  "kernelspec": {
   "display_name": "Python 3",
   "language": "python",
   "name": "python3"
  },
  "language_info": {
   "codemirror_mode": {
    "name": "ipython",
    "version": 3
   },
   "file_extension": ".py",
   "mimetype": "text/x-python",
   "name": "python",
   "nbconvert_exporter": "python",
   "pygments_lexer": "ipython3",
   "version": "3.6.4"
  }
 },
 "nbformat": 4,
 "nbformat_minor": 2
}
