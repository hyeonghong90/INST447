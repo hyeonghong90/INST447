{
 "cells": [
  {
   "cell_type": "markdown",
   "metadata": {},
   "source": [
    "# Hyeng Hong\n",
    "Worksheet 03  \n",
    "Section - 0101|0102"
   ]
  },
  {
   "cell_type": "markdown",
   "metadata": {},
   "source": [
    "## Reflection\n",
    "You were assigned to read:\n",
    "\n",
    ">    Crawford, Kate. “The Hidden Biases in Big Data.” Harvard Business Review,  \n",
    ">    April 1, 2013. https://hbr.org/2013/04/the-hidden-biases-in-big-data.\n",
    "    \n",
    "Write paragraph on why or why not you agree that the assumption that \"big data\" analyses reflect objective truth is problematic."
   ]
  },
  {
   "cell_type": "markdown",
   "metadata": {},
   "source": [
    "I agre that the statement, \"big data analyses reflect objective truth is problematic. Data and dataset are created and analyzed by human interpretation. Because human is not objective, data has high risk of containing bias. Human is the one providing meaning to data, and data cannot present objectiveness all the time. In addition, like the articcle indicates, bias can be involved while the data is collected. If the certain portion of people do not have information access, the data will be collected by only selected people who have the access."
   ]
  },
  {
   "cell_type": "code",
   "execution_count": 1,
   "metadata": {
    "collapsed": true
   },
   "outputs": [],
   "source": [
    "# We will be using the libraries numpy, pandas and matplotlib.pyplot\n",
    "import os\n",
    "import pandas as pd\n",
    "import numpy as np\n",
    "import matplotlib.pyplot\n",
    "\n",
    "%matplotlib inline"
   ]
  },
  {
   "cell_type": "code",
   "execution_count": 2,
   "metadata": {
    "collapsed": true
   },
   "outputs": [],
   "source": [
    "# Change our working directory to the data folder\n",
    "os.chdir('data')"
   ]
  },
  {
   "cell_type": "code",
   "execution_count": 3,
   "metadata": {},
   "outputs": [
    {
     "data": {
      "text/plain": [
       "'/home/ubuntu/Downloads/WK03-worksheet/data'"
      ]
     },
     "execution_count": 3,
     "metadata": {},
     "output_type": "execute_result"
    }
   ],
   "source": [
    "# Make sure we are where we think we are...\n",
    "os.getcwd()"
   ]
  },
  {
   "cell_type": "code",
   "execution_count": 4,
   "metadata": {},
   "outputs": [
    {
     "data": {
      "text/plain": [
       "['2017-Q1-Trips-History-Data.csv', '1208327.csv']"
      ]
     },
     "execution_count": 4,
     "metadata": {},
     "output_type": "execute_result"
    }
   ],
   "source": [
    "# What files are in here?\n",
    "os.listdir()"
   ]
  },
  {
   "cell_type": "markdown",
   "metadata": {},
   "source": [
    "## First we will load csv files"
   ]
  },
  {
   "cell_type": "code",
   "execution_count": 5,
   "metadata": {
    "collapsed": true
   },
   "outputs": [],
   "source": [
    "cabi = pd.read_csv('2017-Q1-Trips-History-Data.csv')"
   ]
  },
  {
   "cell_type": "code",
   "execution_count": 6,
   "metadata": {
    "collapsed": true
   },
   "outputs": [],
   "source": [
    "noaa = pd.read_csv('1208327.csv')"
   ]
  },
  {
   "cell_type": "markdown",
   "metadata": {},
   "source": [
    "### Now we will explore the data to make sure it is valid"
   ]
  },
  {
   "cell_type": "code",
   "execution_count": 7,
   "metadata": {},
   "outputs": [
    {
     "data": {
      "text/html": [
       "<div>\n",
       "<style>\n",
       "    .dataframe thead tr:only-child th {\n",
       "        text-align: right;\n",
       "    }\n",
       "\n",
       "    .dataframe thead th {\n",
       "        text-align: left;\n",
       "    }\n",
       "\n",
       "    .dataframe tbody tr th {\n",
       "        vertical-align: top;\n",
       "    }\n",
       "</style>\n",
       "<table border=\"1\" class=\"dataframe\">\n",
       "  <thead>\n",
       "    <tr style=\"text-align: right;\">\n",
       "      <th></th>\n",
       "      <th>Duration</th>\n",
       "      <th>Start date</th>\n",
       "      <th>End date</th>\n",
       "      <th>Start station number</th>\n",
       "      <th>Start station</th>\n",
       "      <th>End station number</th>\n",
       "      <th>End station</th>\n",
       "      <th>Bike number</th>\n",
       "      <th>Member Type</th>\n",
       "    </tr>\n",
       "  </thead>\n",
       "  <tbody>\n",
       "    <tr>\n",
       "      <th>646503</th>\n",
       "      <td>1356956</td>\n",
       "      <td>1/1/2017 0:07</td>\n",
       "      <td>1/1/2017 0:29</td>\n",
       "      <td>31289</td>\n",
       "      <td>Henry Bacon Dr &amp; Lincoln Memorial Circle NW</td>\n",
       "      <td>31222</td>\n",
       "      <td>New York Ave &amp; 15th St NW</td>\n",
       "      <td>W21945</td>\n",
       "      <td>Casual</td>\n",
       "    </tr>\n",
       "    <tr>\n",
       "      <th>646504</th>\n",
       "      <td>1327901</td>\n",
       "      <td>1/1/2017 0:07</td>\n",
       "      <td>1/1/2017 0:29</td>\n",
       "      <td>31289</td>\n",
       "      <td>Henry Bacon Dr &amp; Lincoln Memorial Circle NW</td>\n",
       "      <td>31222</td>\n",
       "      <td>New York Ave &amp; 15th St NW</td>\n",
       "      <td>W20012</td>\n",
       "      <td>Casual</td>\n",
       "    </tr>\n",
       "    <tr>\n",
       "      <th>646505</th>\n",
       "      <td>1636768</td>\n",
       "      <td>1/1/2017 0:07</td>\n",
       "      <td>1/1/2017 0:34</td>\n",
       "      <td>31258</td>\n",
       "      <td>Lincoln Memorial</td>\n",
       "      <td>31270</td>\n",
       "      <td>8th &amp; D St NW</td>\n",
       "      <td>W22786</td>\n",
       "      <td>Casual</td>\n",
       "    </tr>\n",
       "    <tr>\n",
       "      <th>646506</th>\n",
       "      <td>1676854</td>\n",
       "      <td>1/1/2017 0:06</td>\n",
       "      <td>1/1/2017 0:34</td>\n",
       "      <td>31258</td>\n",
       "      <td>Lincoln Memorial</td>\n",
       "      <td>31270</td>\n",
       "      <td>8th &amp; D St NW</td>\n",
       "      <td>W00894</td>\n",
       "      <td>Casual</td>\n",
       "    </tr>\n",
       "    <tr>\n",
       "      <th>646507</th>\n",
       "      <td>221834</td>\n",
       "      <td>1/1/2017 0:00</td>\n",
       "      <td>1/1/2017 0:04</td>\n",
       "      <td>31634</td>\n",
       "      <td>3rd &amp; Tingey St SE</td>\n",
       "      <td>31208</td>\n",
       "      <td>M St &amp; New Jersey Ave SE</td>\n",
       "      <td>W00869</td>\n",
       "      <td>Registered</td>\n",
       "    </tr>\n",
       "  </tbody>\n",
       "</table>\n",
       "</div>"
      ],
      "text/plain": [
       "        Duration     Start date       End date  Start station number  \\\n",
       "646503   1356956  1/1/2017 0:07  1/1/2017 0:29                 31289   \n",
       "646504   1327901  1/1/2017 0:07  1/1/2017 0:29                 31289   \n",
       "646505   1636768  1/1/2017 0:07  1/1/2017 0:34                 31258   \n",
       "646506   1676854  1/1/2017 0:06  1/1/2017 0:34                 31258   \n",
       "646507    221834  1/1/2017 0:00  1/1/2017 0:04                 31634   \n",
       "\n",
       "                                      Start station  End station number  \\\n",
       "646503  Henry Bacon Dr & Lincoln Memorial Circle NW               31222   \n",
       "646504  Henry Bacon Dr & Lincoln Memorial Circle NW               31222   \n",
       "646505                             Lincoln Memorial               31270   \n",
       "646506                             Lincoln Memorial               31270   \n",
       "646507                           3rd & Tingey St SE               31208   \n",
       "\n",
       "                      End station Bike number Member Type  \n",
       "646503  New York Ave & 15th St NW      W21945      Casual  \n",
       "646504  New York Ave & 15th St NW      W20012      Casual  \n",
       "646505              8th & D St NW      W22786      Casual  \n",
       "646506              8th & D St NW      W00894      Casual  \n",
       "646507   M St & New Jersey Ave SE      W00869  Registered  "
      ]
     },
     "execution_count": 7,
     "metadata": {},
     "output_type": "execute_result"
    }
   ],
   "source": [
    "# CABI DATA\n",
    "cabi.tail()"
   ]
  },
  {
   "cell_type": "code",
   "execution_count": 8,
   "metadata": {},
   "outputs": [
    {
     "name": "stdout",
     "output_type": "stream",
     "text": [
      "<class 'pandas.core.frame.DataFrame'>\n",
      "RangeIndex: 646508 entries, 0 to 646507\n",
      "Data columns (total 9 columns):\n",
      "Duration                646508 non-null int64\n",
      "Start date              646508 non-null object\n",
      "End date                646508 non-null object\n",
      "Start station number    646508 non-null int64\n",
      "Start station           646508 non-null object\n",
      "End station number      646508 non-null int64\n",
      "End station             646508 non-null object\n",
      "Bike number             646508 non-null object\n",
      "Member Type             646508 non-null object\n",
      "dtypes: int64(3), object(6)\n",
      "memory usage: 44.4+ MB\n"
     ]
    }
   ],
   "source": [
    "cabi.info()"
   ]
  },
  {
   "cell_type": "code",
   "execution_count": 9,
   "metadata": {},
   "outputs": [
    {
     "data": {
      "text/plain": [
       "str"
      ]
     },
     "execution_count": 9,
     "metadata": {},
     "output_type": "execute_result"
    }
   ],
   "source": [
    "type(cabi['Start date'][0])"
   ]
  },
  {
   "cell_type": "code",
   "execution_count": 10,
   "metadata": {
    "collapsed": true
   },
   "outputs": [],
   "source": [
    "cabi['start_date'] = pd.to_datetime(cabi['Start date'], infer_datetime_format = True)"
   ]
  },
  {
   "cell_type": "code",
   "execution_count": 11,
   "metadata": {
    "scrolled": true
   },
   "outputs": [
    {
     "name": "stdout",
     "output_type": "stream",
     "text": [
      "<class 'pandas.core.frame.DataFrame'>\n",
      "RangeIndex: 646508 entries, 0 to 646507\n",
      "Data columns (total 10 columns):\n",
      "Duration                646508 non-null int64\n",
      "Start date              646508 non-null object\n",
      "End date                646508 non-null object\n",
      "Start station number    646508 non-null int64\n",
      "Start station           646508 non-null object\n",
      "End station number      646508 non-null int64\n",
      "End station             646508 non-null object\n",
      "Bike number             646508 non-null object\n",
      "Member Type             646508 non-null object\n",
      "start_date              646508 non-null datetime64[ns]\n",
      "dtypes: datetime64[ns](1), int64(3), object(6)\n",
      "memory usage: 49.3+ MB\n"
     ]
    }
   ],
   "source": [
    "cabi.info()"
   ]
  },
  {
   "cell_type": "code",
   "execution_count": 12,
   "metadata": {
    "collapsed": true
   },
   "outputs": [],
   "source": [
    "cabi = cabi.filter(['start_date', 'Duration', 'Member Type'], axis = 1)"
   ]
  },
  {
   "cell_type": "code",
   "execution_count": 13,
   "metadata": {},
   "outputs": [
    {
     "data": {
      "text/html": [
       "<div>\n",
       "<style>\n",
       "    .dataframe thead tr:only-child th {\n",
       "        text-align: right;\n",
       "    }\n",
       "\n",
       "    .dataframe thead th {\n",
       "        text-align: left;\n",
       "    }\n",
       "\n",
       "    .dataframe tbody tr th {\n",
       "        vertical-align: top;\n",
       "    }\n",
       "</style>\n",
       "<table border=\"1\" class=\"dataframe\">\n",
       "  <thead>\n",
       "    <tr style=\"text-align: right;\">\n",
       "      <th></th>\n",
       "      <th>start_date</th>\n",
       "      <th>Duration</th>\n",
       "      <th>Member Type</th>\n",
       "    </tr>\n",
       "  </thead>\n",
       "  <tbody>\n",
       "    <tr>\n",
       "      <th>646503</th>\n",
       "      <td>2017-01-01 00:07:00</td>\n",
       "      <td>1356956</td>\n",
       "      <td>Casual</td>\n",
       "    </tr>\n",
       "    <tr>\n",
       "      <th>646504</th>\n",
       "      <td>2017-01-01 00:07:00</td>\n",
       "      <td>1327901</td>\n",
       "      <td>Casual</td>\n",
       "    </tr>\n",
       "    <tr>\n",
       "      <th>646505</th>\n",
       "      <td>2017-01-01 00:07:00</td>\n",
       "      <td>1636768</td>\n",
       "      <td>Casual</td>\n",
       "    </tr>\n",
       "    <tr>\n",
       "      <th>646506</th>\n",
       "      <td>2017-01-01 00:06:00</td>\n",
       "      <td>1676854</td>\n",
       "      <td>Casual</td>\n",
       "    </tr>\n",
       "    <tr>\n",
       "      <th>646507</th>\n",
       "      <td>2017-01-01 00:00:00</td>\n",
       "      <td>221834</td>\n",
       "      <td>Registered</td>\n",
       "    </tr>\n",
       "  </tbody>\n",
       "</table>\n",
       "</div>"
      ],
      "text/plain": [
       "                start_date  Duration Member Type\n",
       "646503 2017-01-01 00:07:00   1356956      Casual\n",
       "646504 2017-01-01 00:07:00   1327901      Casual\n",
       "646505 2017-01-01 00:07:00   1636768      Casual\n",
       "646506 2017-01-01 00:06:00   1676854      Casual\n",
       "646507 2017-01-01 00:00:00    221834  Registered"
      ]
     },
     "execution_count": 13,
     "metadata": {},
     "output_type": "execute_result"
    }
   ],
   "source": [
    "cabi.tail()"
   ]
  },
  {
   "cell_type": "code",
   "execution_count": 14,
   "metadata": {},
   "outputs": [
    {
     "data": {
      "text/plain": [
       "count                  646508\n",
       "unique                  97298\n",
       "top       2017-03-25 15:28:00\n",
       "freq                       46\n",
       "first     2017-01-01 00:00:00\n",
       "last      2017-03-31 23:59:00\n",
       "Name: start_date, dtype: object"
      ]
     },
     "execution_count": 14,
     "metadata": {},
     "output_type": "execute_result"
    }
   ],
   "source": [
    "cabi['start_date'].describe()"
   ]
  },
  {
   "cell_type": "code",
   "execution_count": 15,
   "metadata": {},
   "outputs": [
    {
     "data": {
      "text/html": [
       "<div>\n",
       "<style>\n",
       "    .dataframe thead tr:only-child th {\n",
       "        text-align: right;\n",
       "    }\n",
       "\n",
       "    .dataframe thead th {\n",
       "        text-align: left;\n",
       "    }\n",
       "\n",
       "    .dataframe tbody tr th {\n",
       "        vertical-align: top;\n",
       "    }\n",
       "</style>\n",
       "<table border=\"1\" class=\"dataframe\">\n",
       "  <thead>\n",
       "    <tr style=\"text-align: right;\">\n",
       "      <th></th>\n",
       "      <th>start_date</th>\n",
       "      <th>Duration</th>\n",
       "      <th>Member Type</th>\n",
       "      <th>date</th>\n",
       "    </tr>\n",
       "  </thead>\n",
       "  <tbody>\n",
       "    <tr>\n",
       "      <th>646503</th>\n",
       "      <td>2017-01-01 00:07:00</td>\n",
       "      <td>1356956</td>\n",
       "      <td>Casual</td>\n",
       "      <td>2017-01-01</td>\n",
       "    </tr>\n",
       "    <tr>\n",
       "      <th>646504</th>\n",
       "      <td>2017-01-01 00:07:00</td>\n",
       "      <td>1327901</td>\n",
       "      <td>Casual</td>\n",
       "      <td>2017-01-01</td>\n",
       "    </tr>\n",
       "    <tr>\n",
       "      <th>646505</th>\n",
       "      <td>2017-01-01 00:07:00</td>\n",
       "      <td>1636768</td>\n",
       "      <td>Casual</td>\n",
       "      <td>2017-01-01</td>\n",
       "    </tr>\n",
       "    <tr>\n",
       "      <th>646506</th>\n",
       "      <td>2017-01-01 00:06:00</td>\n",
       "      <td>1676854</td>\n",
       "      <td>Casual</td>\n",
       "      <td>2017-01-01</td>\n",
       "    </tr>\n",
       "    <tr>\n",
       "      <th>646507</th>\n",
       "      <td>2017-01-01 00:00:00</td>\n",
       "      <td>221834</td>\n",
       "      <td>Registered</td>\n",
       "      <td>2017-01-01</td>\n",
       "    </tr>\n",
       "  </tbody>\n",
       "</table>\n",
       "</div>"
      ],
      "text/plain": [
       "                start_date  Duration Member Type       date\n",
       "646503 2017-01-01 00:07:00   1356956      Casual 2017-01-01\n",
       "646504 2017-01-01 00:07:00   1327901      Casual 2017-01-01\n",
       "646505 2017-01-01 00:07:00   1636768      Casual 2017-01-01\n",
       "646506 2017-01-01 00:06:00   1676854      Casual 2017-01-01\n",
       "646507 2017-01-01 00:00:00    221834  Registered 2017-01-01"
      ]
     },
     "execution_count": 15,
     "metadata": {},
     "output_type": "execute_result"
    }
   ],
   "source": [
    "cabi['date'] = cabi['start_date'].dt.normalize()\n",
    "cabi.tail()"
   ]
  },
  {
   "cell_type": "code",
   "execution_count": 16,
   "metadata": {
    "collapsed": true
   },
   "outputs": [],
   "source": [
    "rides = cabi.groupby(['date'])['date'].count()"
   ]
  },
  {
   "cell_type": "code",
   "execution_count": 34,
   "metadata": {},
   "outputs": [
    {
     "data": {
      "text/plain": [
       "pandas.core.series.Series"
      ]
     },
     "execution_count": 34,
     "metadata": {},
     "output_type": "execute_result"
    }
   ],
   "source": [
    "type(rides)"
   ]
  },
  {
   "cell_type": "markdown",
   "metadata": {},
   "source": [
    "### From the documentation\n",
    "\n",
    "The five core values are:\n",
    "\n",
    "\n",
    "> PRCP = Precipitation (mm or inches as per user preference, inches to hundredths on Daily Form pdf file)  \n",
    "> SNOW = Snowfall (mm or inches as per user preference, inches to tenths on Daily Form pdf file)  \n",
    "> SNWD = Snow depth (mm or inches as per user preference, inches on Daily Form pdf file)  \n",
    "> TMAX  =  Maximum  temperature  (Fahrenheit  or  Celsius  as  per  user  preference,  Fahrenheit  to  tenths  on  Daily Form pdf file  \n",
    "> TMIN  =  Minimum  temperature (Fahrenheit  or  Celsius  as  per  user  preference,  Fahrenheit  to  tenths  on Daily Form pdf file  \n",
    "\n",
    "### And this seems interesting too\n",
    "> AWND = Average daily wind speed (meters per second or miles per hour as per user preference) "
   ]
  },
  {
   "cell_type": "code",
   "execution_count": 18,
   "metadata": {},
   "outputs": [
    {
     "name": "stdout",
     "output_type": "stream",
     "text": [
      "<class 'pandas.core.frame.DataFrame'>\n",
      "RangeIndex: 90 entries, 0 to 89\n",
      "Data columns (total 41 columns):\n",
      "STATION            90 non-null object\n",
      "NAME               90 non-null object\n",
      "DATE               90 non-null object\n",
      "AWND               90 non-null float64\n",
      "AWND_ATTRIBUTES    90 non-null object\n",
      "PRCP               90 non-null float64\n",
      "PRCP_ATTRIBUTES    90 non-null object\n",
      "SNOW               90 non-null float64\n",
      "SNOW_ATTRIBUTES    90 non-null object\n",
      "SNWD               90 non-null int64\n",
      "SNWD_ATTRIBUTES    90 non-null object\n",
      "TAVG               90 non-null int64\n",
      "TAVG_ATTRIBUTES    90 non-null object\n",
      "TMAX               90 non-null int64\n",
      "TMAX_ATTRIBUTES    90 non-null object\n",
      "TMIN               90 non-null int64\n",
      "TMIN_ATTRIBUTES    90 non-null object\n",
      "WDF2               90 non-null int64\n",
      "WDF2_ATTRIBUTES    90 non-null object\n",
      "WDF5               90 non-null int64\n",
      "WDF5_ATTRIBUTES    90 non-null object\n",
      "WESD               0 non-null float64\n",
      "WESD_ATTRIBUTES    0 non-null float64\n",
      "WSF2               90 non-null float64\n",
      "WSF2_ATTRIBUTES    90 non-null object\n",
      "WSF5               90 non-null float64\n",
      "WSF5_ATTRIBUTES    90 non-null object\n",
      "WT01               27 non-null float64\n",
      "WT01_ATTRIBUTES    27 non-null object\n",
      "WT02               6 non-null float64\n",
      "WT02_ATTRIBUTES    6 non-null object\n",
      "WT03               2 non-null float64\n",
      "WT03_ATTRIBUTES    2 non-null object\n",
      "WT04               3 non-null float64\n",
      "WT04_ATTRIBUTES    3 non-null object\n",
      "WT06               2 non-null float64\n",
      "WT06_ATTRIBUTES    2 non-null object\n",
      "WT08               5 non-null float64\n",
      "WT08_ATTRIBUTES    5 non-null object\n",
      "WT09               0 non-null float64\n",
      "WT09_ATTRIBUTES    0 non-null float64\n",
      "dtypes: float64(15), int64(6), object(20)\n",
      "memory usage: 28.9+ KB\n"
     ]
    }
   ],
   "source": [
    "# NOAA DATA\n",
    "noaa.info()"
   ]
  },
  {
   "cell_type": "markdown",
   "metadata": {},
   "source": [
    "## Now we have to join the files"
   ]
  },
  {
   "cell_type": "code",
   "execution_count": 20,
   "metadata": {},
   "outputs": [],
   "source": [
    "noaa = noaa.filter(['DATE', 'AWND', 'PRCP', 'SNOW', 'SNWD', 'TMAX', 'TMIN'])"
   ]
  },
  {
   "cell_type": "code",
   "execution_count": 22,
   "metadata": {},
   "outputs": [
    {
     "data": {
      "text/html": [
       "<div>\n",
       "<style>\n",
       "    .dataframe thead tr:only-child th {\n",
       "        text-align: right;\n",
       "    }\n",
       "\n",
       "    .dataframe thead th {\n",
       "        text-align: left;\n",
       "    }\n",
       "\n",
       "    .dataframe tbody tr th {\n",
       "        vertical-align: top;\n",
       "    }\n",
       "</style>\n",
       "<table border=\"1\" class=\"dataframe\">\n",
       "  <thead>\n",
       "    <tr style=\"text-align: right;\">\n",
       "      <th></th>\n",
       "      <th>DATE</th>\n",
       "      <th>AWND</th>\n",
       "      <th>PRCP</th>\n",
       "      <th>SNOW</th>\n",
       "      <th>SNWD</th>\n",
       "      <th>TMAX</th>\n",
       "      <th>TMIN</th>\n",
       "    </tr>\n",
       "  </thead>\n",
       "  <tbody>\n",
       "    <tr>\n",
       "      <th>0</th>\n",
       "      <td>2017-01-01</td>\n",
       "      <td>4.25</td>\n",
       "      <td>0.00</td>\n",
       "      <td>0.0</td>\n",
       "      <td>0</td>\n",
       "      <td>56</td>\n",
       "      <td>37</td>\n",
       "    </tr>\n",
       "    <tr>\n",
       "      <th>1</th>\n",
       "      <td>2017-01-02</td>\n",
       "      <td>7.83</td>\n",
       "      <td>0.35</td>\n",
       "      <td>0.0</td>\n",
       "      <td>0</td>\n",
       "      <td>46</td>\n",
       "      <td>41</td>\n",
       "    </tr>\n",
       "    <tr>\n",
       "      <th>2</th>\n",
       "      <td>2017-01-03</td>\n",
       "      <td>5.82</td>\n",
       "      <td>0.86</td>\n",
       "      <td>0.0</td>\n",
       "      <td>0</td>\n",
       "      <td>46</td>\n",
       "      <td>43</td>\n",
       "    </tr>\n",
       "    <tr>\n",
       "      <th>3</th>\n",
       "      <td>2017-01-04</td>\n",
       "      <td>9.84</td>\n",
       "      <td>0.00</td>\n",
       "      <td>0.0</td>\n",
       "      <td>0</td>\n",
       "      <td>57</td>\n",
       "      <td>35</td>\n",
       "    </tr>\n",
       "    <tr>\n",
       "      <th>4</th>\n",
       "      <td>2017-01-05</td>\n",
       "      <td>6.49</td>\n",
       "      <td>0.00</td>\n",
       "      <td>0.0</td>\n",
       "      <td>0</td>\n",
       "      <td>37</td>\n",
       "      <td>30</td>\n",
       "    </tr>\n",
       "  </tbody>\n",
       "</table>\n",
       "</div>"
      ],
      "text/plain": [
       "         DATE  AWND  PRCP  SNOW  SNWD  TMAX  TMIN\n",
       "0  2017-01-01  4.25  0.00   0.0     0    56    37\n",
       "1  2017-01-02  7.83  0.35   0.0     0    46    41\n",
       "2  2017-01-03  5.82  0.86   0.0     0    46    43\n",
       "3  2017-01-04  9.84  0.00   0.0     0    57    35\n",
       "4  2017-01-05  6.49  0.00   0.0     0    37    30"
      ]
     },
     "execution_count": 22,
     "metadata": {},
     "output_type": "execute_result"
    }
   ],
   "source": [
    "noaa.head()"
   ]
  },
  {
   "cell_type": "code",
   "execution_count": 23,
   "metadata": {
    "collapsed": true
   },
   "outputs": [],
   "source": [
    "noaa = noaa.set_index('DATE')"
   ]
  },
  {
   "cell_type": "code",
   "execution_count": 30,
   "metadata": {},
   "outputs": [
    {
     "data": {
      "text/html": [
       "<div>\n",
       "<style>\n",
       "    .dataframe thead tr:only-child th {\n",
       "        text-align: right;\n",
       "    }\n",
       "\n",
       "    .dataframe thead th {\n",
       "        text-align: left;\n",
       "    }\n",
       "\n",
       "    .dataframe tbody tr th {\n",
       "        vertical-align: top;\n",
       "    }\n",
       "</style>\n",
       "<table border=\"1\" class=\"dataframe\">\n",
       "  <thead>\n",
       "    <tr style=\"text-align: right;\">\n",
       "      <th></th>\n",
       "      <th>AWND</th>\n",
       "      <th>PRCP</th>\n",
       "      <th>SNOW</th>\n",
       "      <th>SNWD</th>\n",
       "      <th>TMAX</th>\n",
       "      <th>TMIN</th>\n",
       "    </tr>\n",
       "    <tr>\n",
       "      <th>DATE</th>\n",
       "      <th></th>\n",
       "      <th></th>\n",
       "      <th></th>\n",
       "      <th></th>\n",
       "      <th></th>\n",
       "      <th></th>\n",
       "    </tr>\n",
       "  </thead>\n",
       "  <tbody>\n",
       "    <tr>\n",
       "      <th>2017-01-01</th>\n",
       "      <td>4.25</td>\n",
       "      <td>0.00</td>\n",
       "      <td>0.0</td>\n",
       "      <td>0</td>\n",
       "      <td>56</td>\n",
       "      <td>37</td>\n",
       "    </tr>\n",
       "    <tr>\n",
       "      <th>2017-01-02</th>\n",
       "      <td>7.83</td>\n",
       "      <td>0.35</td>\n",
       "      <td>0.0</td>\n",
       "      <td>0</td>\n",
       "      <td>46</td>\n",
       "      <td>41</td>\n",
       "    </tr>\n",
       "    <tr>\n",
       "      <th>2017-01-03</th>\n",
       "      <td>5.82</td>\n",
       "      <td>0.86</td>\n",
       "      <td>0.0</td>\n",
       "      <td>0</td>\n",
       "      <td>46</td>\n",
       "      <td>43</td>\n",
       "    </tr>\n",
       "    <tr>\n",
       "      <th>2017-01-04</th>\n",
       "      <td>9.84</td>\n",
       "      <td>0.00</td>\n",
       "      <td>0.0</td>\n",
       "      <td>0</td>\n",
       "      <td>57</td>\n",
       "      <td>35</td>\n",
       "    </tr>\n",
       "    <tr>\n",
       "      <th>2017-01-05</th>\n",
       "      <td>6.49</td>\n",
       "      <td>0.00</td>\n",
       "      <td>0.0</td>\n",
       "      <td>0</td>\n",
       "      <td>37</td>\n",
       "      <td>30</td>\n",
       "    </tr>\n",
       "  </tbody>\n",
       "</table>\n",
       "</div>"
      ],
      "text/plain": [
       "            AWND  PRCP  SNOW  SNWD  TMAX  TMIN\n",
       "DATE                                          \n",
       "2017-01-01  4.25  0.00   0.0     0    56    37\n",
       "2017-01-02  7.83  0.35   0.0     0    46    41\n",
       "2017-01-03  5.82  0.86   0.0     0    46    43\n",
       "2017-01-04  9.84  0.00   0.0     0    57    35\n",
       "2017-01-05  6.49  0.00   0.0     0    37    30"
      ]
     },
     "execution_count": 30,
     "metadata": {},
     "output_type": "execute_result"
    }
   ],
   "source": [
    "noaa.head()"
   ]
  },
  {
   "cell_type": "code",
   "execution_count": 36,
   "metadata": {
    "collapsed": true
   },
   "outputs": [],
   "source": [
    "result = pd.concat([noaa, rides], axis=1)"
   ]
  },
  {
   "cell_type": "code",
   "execution_count": 38,
   "metadata": {},
   "outputs": [],
   "source": [
    "result = result.rename(index=str, columns={'date': \"COUNT\"})"
   ]
  },
  {
   "cell_type": "code",
   "execution_count": 39,
   "metadata": {},
   "outputs": [
    {
     "data": {
      "text/html": [
       "<div>\n",
       "<style>\n",
       "    .dataframe thead tr:only-child th {\n",
       "        text-align: right;\n",
       "    }\n",
       "\n",
       "    .dataframe thead th {\n",
       "        text-align: left;\n",
       "    }\n",
       "\n",
       "    .dataframe tbody tr th {\n",
       "        vertical-align: top;\n",
       "    }\n",
       "</style>\n",
       "<table border=\"1\" class=\"dataframe\">\n",
       "  <thead>\n",
       "    <tr style=\"text-align: right;\">\n",
       "      <th></th>\n",
       "      <th>AWND</th>\n",
       "      <th>PRCP</th>\n",
       "      <th>SNOW</th>\n",
       "      <th>SNWD</th>\n",
       "      <th>TMAX</th>\n",
       "      <th>TMIN</th>\n",
       "      <th>COUNT</th>\n",
       "    </tr>\n",
       "  </thead>\n",
       "  <tbody>\n",
       "    <tr>\n",
       "      <th>2017-01-01</th>\n",
       "      <td>4.25</td>\n",
       "      <td>0.00</td>\n",
       "      <td>0.0</td>\n",
       "      <td>0</td>\n",
       "      <td>56</td>\n",
       "      <td>37</td>\n",
       "      <td>4063</td>\n",
       "    </tr>\n",
       "    <tr>\n",
       "      <th>2017-01-02</th>\n",
       "      <td>7.83</td>\n",
       "      <td>0.35</td>\n",
       "      <td>0.0</td>\n",
       "      <td>0</td>\n",
       "      <td>46</td>\n",
       "      <td>41</td>\n",
       "      <td>1638</td>\n",
       "    </tr>\n",
       "    <tr>\n",
       "      <th>2017-01-03</th>\n",
       "      <td>5.82</td>\n",
       "      <td>0.86</td>\n",
       "      <td>0.0</td>\n",
       "      <td>0</td>\n",
       "      <td>46</td>\n",
       "      <td>43</td>\n",
       "      <td>3771</td>\n",
       "    </tr>\n",
       "    <tr>\n",
       "      <th>2017-01-04</th>\n",
       "      <td>9.84</td>\n",
       "      <td>0.00</td>\n",
       "      <td>0.0</td>\n",
       "      <td>0</td>\n",
       "      <td>57</td>\n",
       "      <td>35</td>\n",
       "      <td>7185</td>\n",
       "    </tr>\n",
       "    <tr>\n",
       "      <th>2017-01-05</th>\n",
       "      <td>6.49</td>\n",
       "      <td>0.00</td>\n",
       "      <td>0.0</td>\n",
       "      <td>0</td>\n",
       "      <td>37</td>\n",
       "      <td>30</td>\n",
       "      <td>6214</td>\n",
       "    </tr>\n",
       "  </tbody>\n",
       "</table>\n",
       "</div>"
      ],
      "text/plain": [
       "            AWND  PRCP  SNOW  SNWD  TMAX  TMIN  COUNT\n",
       "2017-01-01  4.25  0.00   0.0     0    56    37   4063\n",
       "2017-01-02  7.83  0.35   0.0     0    46    41   1638\n",
       "2017-01-03  5.82  0.86   0.0     0    46    43   3771\n",
       "2017-01-04  9.84  0.00   0.0     0    57    35   7185\n",
       "2017-01-05  6.49  0.00   0.0     0    37    30   6214"
      ]
     },
     "execution_count": 39,
     "metadata": {},
     "output_type": "execute_result"
    }
   ],
   "source": [
    "result.head()"
   ]
  }
 ],
 "metadata": {
  "kernelspec": {
   "display_name": "Python 3",
   "language": "python",
   "name": "python3"
  },
  "language_info": {
   "codemirror_mode": {
    "name": "ipython",
    "version": 3
   },
   "file_extension": ".py",
   "mimetype": "text/x-python",
   "name": "python",
   "nbconvert_exporter": "python",
   "pygments_lexer": "ipython3",
   "version": "3.6.4"
  }
 },
 "nbformat": 4,
 "nbformat_minor": 2
}
