{
 "cells": [
  {
   "cell_type": "markdown",
   "metadata": {},
   "source": [
    "# Assignment 03b - Analysis\n",
    "\n",
    "Name: Hyeong-gi Hong  \n",
    "Class: INST 447 (0102)  \n",
    "Favorite Animal: Cat"
   ]
  },
  {
   "cell_type": "markdown",
   "metadata": {},
   "source": [
    "## Introduction\n",
    "\n",
    "You've not only cleaned the data; you produced the data. This means that you have a pretty good understanding of what this dataset contains without me telling you its provenance.\n",
    "\n",
    "Reveal the truths or weaknesses of this dataset to me.\n",
    "\n",
    "You got this!"
   ]
  },
  {
   "cell_type": "markdown",
   "metadata": {},
   "source": [
    "### Install vaderSentiment\n",
    "\n",
    "To run my code,  you will need to install vaderSentiment.\n",
    "\n",
    "1. Open a command prompt (easiest way is through Anaconda Navigator and to click the arrow for your Environment in the Environments Tab).\n",
    "2. Type `pip install vadersentiment`\n",
    "3. If that worked, then you should be able to import it below using: `from vaderSentiment.vaderSentiment import SentimentIntensityAnalyzer`"
   ]
  },
  {
   "cell_type": "markdown",
   "metadata": {},
   "source": [
    "### Import Statements\n",
    "Don't forget your imports. You probably need more than this? Maybe Pandas, Numpy, some kind of visualiation library?"
   ]
  },
  {
   "cell_type": "code",
   "execution_count": 1,
   "metadata": {},
   "outputs": [],
   "source": [
    "# Import your libraries here \n",
    "import pandas as pd\n",
    "import numpy as np\n",
    "import matplotlib.pyplot as plt\n",
    "from scipy import stats\n",
    "from scipy.stats.stats import pearsonr\n",
    "from vaderSentiment.vaderSentiment import SentimentIntensityAnalyzer"
   ]
  },
  {
   "cell_type": "markdown",
   "metadata": {},
   "source": [
    "### Create your Pandas DataFrame\n",
    "Read in the file and make a DataFrame with Pandas."
   ]
  },
  {
   "cell_type": "code",
   "execution_count": 2,
   "metadata": {},
   "outputs": [],
   "source": [
    "# Create a DataFrame\n",
    "df = pd.read_csv('Assignment03.csv')"
   ]
  },
  {
   "cell_type": "code",
   "execution_count": 3,
   "metadata": {},
   "outputs": [
    {
     "data": {
      "text/html": [
       "<div>\n",
       "<style scoped>\n",
       "    .dataframe tbody tr th:only-of-type {\n",
       "        vertical-align: middle;\n",
       "    }\n",
       "\n",
       "    .dataframe tbody tr th {\n",
       "        vertical-align: top;\n",
       "    }\n",
       "\n",
       "    .dataframe thead th {\n",
       "        text-align: right;\n",
       "    }\n",
       "</style>\n",
       "<table border=\"1\" class=\"dataframe\">\n",
       "  <thead>\n",
       "    <tr style=\"text-align: right;\">\n",
       "      <th></th>\n",
       "      <th>amazon_identifier</th>\n",
       "      <th>product_name</th>\n",
       "      <th>product_price</th>\n",
       "      <th>review_date</th>\n",
       "      <th>review_title</th>\n",
       "      <th>number_of_stars</th>\n",
       "      <th>verified_purchase</th>\n",
       "      <th>review_body</th>\n",
       "      <th>number_found_helpful</th>\n",
       "    </tr>\n",
       "  </thead>\n",
       "  <tbody>\n",
       "    <tr>\n",
       "      <th>0</th>\n",
       "      <td>B00UN02IEI</td>\n",
       "      <td>Pain 100% Hot Sauce, 7.5  Ounce</td>\n",
       "      <td>11.5</td>\n",
       "      <td>2018-01-28T00:00:00Z</td>\n",
       "      <td>Pain 100% does bring the heat. It is a ...</td>\n",
       "      <td>5.0</td>\n",
       "      <td>1.0</td>\n",
       "      <td>Pain 100% does bring the heat. It is a tangy s...</td>\n",
       "      <td>0.0</td>\n",
       "    </tr>\n",
       "    <tr>\n",
       "      <th>1</th>\n",
       "      <td>B00UN02IEI</td>\n",
       "      <td>Pain 100% Hot Sauce, 7.5  Ounce</td>\n",
       "      <td>11.5</td>\n",
       "      <td>2018-01-28T00:00:00Z</td>\n",
       "      <td>flavor-wise this one isn't the greatest but be...</td>\n",
       "      <td>3.0</td>\n",
       "      <td>1.0</td>\n",
       "      <td>flavor-wise this one isn't the greatest but be...</td>\n",
       "      <td>0.0</td>\n",
       "    </tr>\n",
       "    <tr>\n",
       "      <th>2</th>\n",
       "      <td>B00UN02IEI</td>\n",
       "      <td>Pain 100% Hot Sauce, 7.5  Ounce</td>\n",
       "      <td>11.5</td>\n",
       "      <td>2018-02-05T00:00:00Z</td>\n",
       "      <td>Good!!</td>\n",
       "      <td>4.0</td>\n",
       "      <td>1.0</td>\n",
       "      <td>Pretty good sauce, way too spicy for my taste ...</td>\n",
       "      <td>0.0</td>\n",
       "    </tr>\n",
       "    <tr>\n",
       "      <th>3</th>\n",
       "      <td>B00UN02IEI</td>\n",
       "      <td>Pain 100% Hot Sauce, 7.5  Ounce</td>\n",
       "      <td>11.5</td>\n",
       "      <td>2018-02-05T00:00:00Z</td>\n",
       "      <td>Worst hot sauce I've ever tried</td>\n",
       "      <td>1.0</td>\n",
       "      <td>0.0</td>\n",
       "      <td>Originally purchased from Bucky's. Worst hot s...</td>\n",
       "      <td>0.0</td>\n",
       "    </tr>\n",
       "    <tr>\n",
       "      <th>4</th>\n",
       "      <td>B00UN02IEI</td>\n",
       "      <td>Pain 100% Hot Sauce, 7.5  Ounce</td>\n",
       "      <td>11.5</td>\n",
       "      <td>2018-02-27T00:00:00Z</td>\n",
       "      <td>but I love it! I add a few drops to a ...</td>\n",
       "      <td>5.0</td>\n",
       "      <td>1.0</td>\n",
       "      <td>It is extremely hot, but I love it! I add a fe...</td>\n",
       "      <td>0.0</td>\n",
       "    </tr>\n",
       "  </tbody>\n",
       "</table>\n",
       "</div>"
      ],
      "text/plain": [
       "  amazon_identifier                     product_name  product_price  \\\n",
       "0        B00UN02IEI  Pain 100% Hot Sauce, 7.5  Ounce           11.5   \n",
       "1        B00UN02IEI  Pain 100% Hot Sauce, 7.5  Ounce           11.5   \n",
       "2        B00UN02IEI  Pain 100% Hot Sauce, 7.5  Ounce           11.5   \n",
       "3        B00UN02IEI  Pain 100% Hot Sauce, 7.5  Ounce           11.5   \n",
       "4        B00UN02IEI  Pain 100% Hot Sauce, 7.5  Ounce           11.5   \n",
       "\n",
       "            review_date                                       review_title  \\\n",
       "0  2018-01-28T00:00:00Z         Pain 100% does bring the heat. It is a ...   \n",
       "1  2018-01-28T00:00:00Z  flavor-wise this one isn't the greatest but be...   \n",
       "2  2018-02-05T00:00:00Z                                             Good!!   \n",
       "3  2018-02-05T00:00:00Z                    Worst hot sauce I've ever tried   \n",
       "4  2018-02-27T00:00:00Z          but I love it! I add a few drops to a ...   \n",
       "\n",
       "   number_of_stars  verified_purchase  \\\n",
       "0              5.0                1.0   \n",
       "1              3.0                1.0   \n",
       "2              4.0                1.0   \n",
       "3              1.0                0.0   \n",
       "4              5.0                1.0   \n",
       "\n",
       "                                         review_body  number_found_helpful  \n",
       "0  Pain 100% does bring the heat. It is a tangy s...                   0.0  \n",
       "1  flavor-wise this one isn't the greatest but be...                   0.0  \n",
       "2  Pretty good sauce, way too spicy for my taste ...                   0.0  \n",
       "3  Originally purchased from Bucky's. Worst hot s...                   0.0  \n",
       "4  It is extremely hot, but I love it! I add a fe...                   0.0  "
      ]
     },
     "execution_count": 3,
     "metadata": {},
     "output_type": "execute_result"
    }
   ],
   "source": [
    "df.head()"
   ]
  },
  {
   "cell_type": "markdown",
   "metadata": {},
   "source": [
    "### Prepare Your DataFrame for Analysis\n",
    "Are all the data types still correct after import? Just because you cleaned with the data in OpenRefine, it doesn't mean that it will import correctly. Maybe there was an issue? Maybe it got confused? "
   ]
  },
  {
   "cell_type": "code",
   "execution_count": 4,
   "metadata": {
    "scrolled": true
   },
   "outputs": [
    {
     "name": "stdout",
     "output_type": "stream",
     "text": [
      "<class 'pandas.core.frame.DataFrame'>\n",
      "RangeIndex: 3137 entries, 0 to 3136\n",
      "Data columns (total 9 columns):\n",
      "amazon_identifier       3137 non-null object\n",
      "product_name            3137 non-null object\n",
      "product_price           3057 non-null float64\n",
      "review_date             3137 non-null object\n",
      "review_title            3043 non-null object\n",
      "number_of_stars         3134 non-null float64\n",
      "verified_purchase       3134 non-null float64\n",
      "review_body             3137 non-null object\n",
      "number_found_helpful    3127 non-null float64\n",
      "dtypes: float64(4), object(5)\n",
      "memory usage: 159.3+ KB\n"
     ]
    }
   ],
   "source": [
    "# Do all the columns have the correct data types?\n",
    "df.info()"
   ]
  },
  {
   "cell_type": "code",
   "execution_count": 5,
   "metadata": {},
   "outputs": [
    {
     "data": {
      "text/plain": [
       "amazon_identifier        0\n",
       "product_name             0\n",
       "product_price           80\n",
       "review_date              0\n",
       "review_title            94\n",
       "number_of_stars          3\n",
       "verified_purchase        3\n",
       "review_body              0\n",
       "number_found_helpful    10\n",
       "dtype: int64"
      ]
     },
     "execution_count": 5,
     "metadata": {},
     "output_type": "execute_result"
    }
   ],
   "source": [
    "df.isnull().sum()"
   ]
  },
  {
   "cell_type": "code",
   "execution_count": 6,
   "metadata": {},
   "outputs": [],
   "source": [
    "# No, Somehow, some variable changed to String and float even though they were not supposed to\n",
    "# Changing date variable to datetime\n",
    "df['review_date'] = pd.to_datetime(df['review_date'],infer_datetime_format = True)"
   ]
  },
  {
   "cell_type": "code",
   "execution_count": 7,
   "metadata": {},
   "outputs": [],
   "source": [
    "# Checked original file, and data entry was wrong. Reverting back to correct data\n",
    "df['number_of_stars'] = df['number_of_stars'].fillna(4)\n",
    "df['number_of_stars'] = df['number_of_stars'].astype('int64')"
   ]
  },
  {
   "cell_type": "code",
   "execution_count": 8,
   "metadata": {},
   "outputs": [],
   "source": [
    "df['number_found_helpful'] = df['number_found_helpful'].fillna(0)\n",
    "df['number_found_helpful'] = df['number_found_helpful'].astype('int64')\n",
    "\n",
    "df['product_price'] = df['product_price'].fillna(0)\n",
    "\n",
    "df['verified_purchase'] = df['verified_purchase'].fillna(0)\n",
    "df['verified_purchase'] = df['verified_purchase'].astype('bool')"
   ]
  },
  {
   "cell_type": "markdown",
   "metadata": {},
   "source": [
    "### Describe Your DataFrame\n",
    "What are we looking at? Do you future self a favor and describe the data. Is there missing data? How many columns? What are the columns types?"
   ]
  },
  {
   "cell_type": "code",
   "execution_count": 9,
   "metadata": {},
   "outputs": [
    {
     "name": "stdout",
     "output_type": "stream",
     "text": [
      "<class 'pandas.core.frame.DataFrame'>\n",
      "RangeIndex: 3137 entries, 0 to 3136\n",
      "Data columns (total 9 columns):\n",
      "amazon_identifier       3137 non-null object\n",
      "product_name            3137 non-null object\n",
      "product_price           3137 non-null float64\n",
      "review_date             3137 non-null datetime64[ns]\n",
      "review_title            3043 non-null object\n",
      "number_of_stars         3137 non-null int64\n",
      "verified_purchase       3137 non-null bool\n",
      "review_body             3137 non-null object\n",
      "number_found_helpful    3137 non-null int64\n",
      "dtypes: bool(1), datetime64[ns](1), float64(1), int64(2), object(4)\n",
      "memory usage: 150.1+ KB\n"
     ]
    }
   ],
   "source": [
    "# There are total 9 columns. There were several NaN values before, but it has been handled.\n",
    "# Following cell shows the detailed information about the dataframe after cleaning.\n",
    "df.info()"
   ]
  },
  {
   "cell_type": "markdown",
   "metadata": {},
   "source": [
    "### Run My Code: Sentiment Analysis\n",
    "\n",
    "This function takes a row in as an argument. In order to run this code, you need to have this function iterate over the date frame.\n",
    "\n",
    "This is using the Vader Sentiment analyzer (https://github.com/cjhutto/vaderSentiment) that you installed above. It is calculating the scored. The creators of the tool suggest these thresholds for interpretting the score:\n",
    "* positive sentiment: compound score >= 0.05\n",
    "* neutral sentiment: (compound score > -0.05) and (compound score < 0.05)\n",
    "* negative sentiment: compound score <= -0.05"
   ]
  },
  {
   "cell_type": "code",
   "execution_count": 10,
   "metadata": {},
   "outputs": [],
   "source": [
    "def get_sentiment(row):\n",
    "    review_body = row['review_body']\n",
    "    analyzer = SentimentIntensityAnalyzer()\n",
    "    scores = analyzer.polarity_scores(review_body)\n",
    "    return scores['compound']"
   ]
  },
  {
   "cell_type": "code",
   "execution_count": 11,
   "metadata": {},
   "outputs": [],
   "source": [
    "df['sentiment'] = df.apply(get_sentiment, axis=1)"
   ]
  },
  {
   "cell_type": "code",
   "execution_count": 12,
   "metadata": {},
   "outputs": [
    {
     "data": {
      "text/html": [
       "<div>\n",
       "<style scoped>\n",
       "    .dataframe tbody tr th:only-of-type {\n",
       "        vertical-align: middle;\n",
       "    }\n",
       "\n",
       "    .dataframe tbody tr th {\n",
       "        vertical-align: top;\n",
       "    }\n",
       "\n",
       "    .dataframe thead th {\n",
       "        text-align: right;\n",
       "    }\n",
       "</style>\n",
       "<table border=\"1\" class=\"dataframe\">\n",
       "  <thead>\n",
       "    <tr style=\"text-align: right;\">\n",
       "      <th></th>\n",
       "      <th>amazon_identifier</th>\n",
       "      <th>product_name</th>\n",
       "      <th>product_price</th>\n",
       "      <th>review_date</th>\n",
       "      <th>review_title</th>\n",
       "      <th>number_of_stars</th>\n",
       "      <th>verified_purchase</th>\n",
       "      <th>review_body</th>\n",
       "      <th>number_found_helpful</th>\n",
       "      <th>sentiment</th>\n",
       "    </tr>\n",
       "  </thead>\n",
       "  <tbody>\n",
       "    <tr>\n",
       "      <th>0</th>\n",
       "      <td>B00UN02IEI</td>\n",
       "      <td>Pain 100% Hot Sauce, 7.5  Ounce</td>\n",
       "      <td>11.5</td>\n",
       "      <td>2018-01-28</td>\n",
       "      <td>Pain 100% does bring the heat. It is a ...</td>\n",
       "      <td>5</td>\n",
       "      <td>True</td>\n",
       "      <td>Pain 100% does bring the heat. It is a tangy s...</td>\n",
       "      <td>0</td>\n",
       "      <td>0.3350</td>\n",
       "    </tr>\n",
       "    <tr>\n",
       "      <th>1</th>\n",
       "      <td>B00UN02IEI</td>\n",
       "      <td>Pain 100% Hot Sauce, 7.5  Ounce</td>\n",
       "      <td>11.5</td>\n",
       "      <td>2018-01-28</td>\n",
       "      <td>flavor-wise this one isn't the greatest but be...</td>\n",
       "      <td>3</td>\n",
       "      <td>True</td>\n",
       "      <td>flavor-wise this one isn't the greatest but be...</td>\n",
       "      <td>0</td>\n",
       "      <td>-0.1862</td>\n",
       "    </tr>\n",
       "    <tr>\n",
       "      <th>2</th>\n",
       "      <td>B00UN02IEI</td>\n",
       "      <td>Pain 100% Hot Sauce, 7.5  Ounce</td>\n",
       "      <td>11.5</td>\n",
       "      <td>2018-02-05</td>\n",
       "      <td>Good!!</td>\n",
       "      <td>4</td>\n",
       "      <td>True</td>\n",
       "      <td>Pretty good sauce, way too spicy for my taste ...</td>\n",
       "      <td>0</td>\n",
       "      <td>0.7845</td>\n",
       "    </tr>\n",
       "    <tr>\n",
       "      <th>3</th>\n",
       "      <td>B00UN02IEI</td>\n",
       "      <td>Pain 100% Hot Sauce, 7.5  Ounce</td>\n",
       "      <td>11.5</td>\n",
       "      <td>2018-02-05</td>\n",
       "      <td>Worst hot sauce I've ever tried</td>\n",
       "      <td>1</td>\n",
       "      <td>False</td>\n",
       "      <td>Originally purchased from Bucky's. Worst hot s...</td>\n",
       "      <td>0</td>\n",
       "      <td>-0.5050</td>\n",
       "    </tr>\n",
       "    <tr>\n",
       "      <th>4</th>\n",
       "      <td>B00UN02IEI</td>\n",
       "      <td>Pain 100% Hot Sauce, 7.5  Ounce</td>\n",
       "      <td>11.5</td>\n",
       "      <td>2018-02-27</td>\n",
       "      <td>but I love it! I add a few drops to a ...</td>\n",
       "      <td>5</td>\n",
       "      <td>True</td>\n",
       "      <td>It is extremely hot, but I love it! I add a fe...</td>\n",
       "      <td>0</td>\n",
       "      <td>0.9435</td>\n",
       "    </tr>\n",
       "  </tbody>\n",
       "</table>\n",
       "</div>"
      ],
      "text/plain": [
       "  amazon_identifier                     product_name  product_price  \\\n",
       "0        B00UN02IEI  Pain 100% Hot Sauce, 7.5  Ounce           11.5   \n",
       "1        B00UN02IEI  Pain 100% Hot Sauce, 7.5  Ounce           11.5   \n",
       "2        B00UN02IEI  Pain 100% Hot Sauce, 7.5  Ounce           11.5   \n",
       "3        B00UN02IEI  Pain 100% Hot Sauce, 7.5  Ounce           11.5   \n",
       "4        B00UN02IEI  Pain 100% Hot Sauce, 7.5  Ounce           11.5   \n",
       "\n",
       "  review_date                                       review_title  \\\n",
       "0  2018-01-28         Pain 100% does bring the heat. It is a ...   \n",
       "1  2018-01-28  flavor-wise this one isn't the greatest but be...   \n",
       "2  2018-02-05                                             Good!!   \n",
       "3  2018-02-05                    Worst hot sauce I've ever tried   \n",
       "4  2018-02-27          but I love it! I add a few drops to a ...   \n",
       "\n",
       "   number_of_stars  verified_purchase  \\\n",
       "0                5               True   \n",
       "1                3               True   \n",
       "2                4               True   \n",
       "3                1              False   \n",
       "4                5               True   \n",
       "\n",
       "                                         review_body  number_found_helpful  \\\n",
       "0  Pain 100% does bring the heat. It is a tangy s...                     0   \n",
       "1  flavor-wise this one isn't the greatest but be...                     0   \n",
       "2  Pretty good sauce, way too spicy for my taste ...                     0   \n",
       "3  Originally purchased from Bucky's. Worst hot s...                     0   \n",
       "4  It is extremely hot, but I love it! I add a fe...                     0   \n",
       "\n",
       "   sentiment  \n",
       "0     0.3350  \n",
       "1    -0.1862  \n",
       "2     0.7845  \n",
       "3    -0.5050  \n",
       "4     0.9435  "
      ]
     },
     "execution_count": 12,
     "metadata": {},
     "output_type": "execute_result"
    }
   ],
   "source": [
    "df.head()"
   ]
  },
  {
   "cell_type": "markdown",
   "metadata": {},
   "source": [
    "### Analysis\n",
    "\n",
    "Now that we have the sentiment numbers. Ask and answer a question using pictures. You can use any visualization tool. But I have to be able to see the image, so if you don't generate it in Python, then make sure that you give me the file!\n",
    "\n",
    "Can we see anything about the length of the review and the sentiment score? Can we see anything about the number of stars and the sentiment score? Does the verified purchase make the review any better? Maybe you see something else interesting?\n",
    "\n",
    "I want at least three (3) graphs that show me something about the data."
   ]
  },
  {
   "cell_type": "code",
   "execution_count": 13,
   "metadata": {},
   "outputs": [],
   "source": [
    "def length_review(row):\n",
    "    length = len(row['review_body'])\n",
    "    return length\n",
    "\n",
    "df['review_len'] = df.apply(length_review, axis=1)"
   ]
  },
  {
   "cell_type": "code",
   "execution_count": 14,
   "metadata": {},
   "outputs": [],
   "source": [
    "# Plotting to see the relationship between sentiment score with each variable\n",
    "def variable_compare(x, y):\n",
    "    slope, intercept, r_value, p_value, std_err = stats.linregress(df[x], df[y])\n",
    "    line = slope*df[x]+intercept\n",
    "    plt.plot(df[x], df[y], 'o', df[x], line)\n",
    "    plt.title(x + \" vs \" + y)\n",
    "    plt.xlabel(x)\n",
    "    plt.ylabel(y)\n",
    "    plt.show()\n",
    "    \n",
    "def cal_correlation(x, y):\n",
    "    print(\"Correlation: %f, P-value: %f\" % pearsonr(df[x], df[y]))"
   ]
  },
  {
   "cell_type": "code",
   "execution_count": 15,
   "metadata": {},
   "outputs": [
    {
     "data": {
      "image/png": "[encoded data removed]",
      "text/plain": [
       "<matplotlib.figure.Figure at 0xd46c870>"
      ]
     },
     "metadata": {},
     "output_type": "display_data"
    },
    {
     "name": "stdout",
     "output_type": "stream",
     "text": [
      "Correlation: 0.061789, P-value: 0.000535\n"
     ]
    },
    {
     "data": {
      "image/png": "[encoded data removed]",
      "text/plain": [
       "<matplotlib.figure.Figure at 0xd3b54f0>"
      ]
     },
     "metadata": {},
     "output_type": "display_data"
    },
    {
     "name": "stdout",
     "output_type": "stream",
     "text": [
      "Correlation: 0.319027, P-value: 0.000000\n"
     ]
    },
    {
     "data": {
      "image/png": "[encoded data removed]",
      "text/plain": [
       "<matplotlib.figure.Figure at 0xd3cf2d0>"
      ]
     },
     "metadata": {},
     "output_type": "display_data"
    },
    {
     "name": "stdout",
     "output_type": "stream",
     "text": [
      "Correlation: 0.012508, P-value: 0.483731\n"
     ]
    },
    {
     "data": {
      "image/png": "[encoded data removed]",
      "text/plain": [
       "<matplotlib.figure.Figure at 0xd3bbc50>"
      ]
     },
     "metadata": {},
     "output_type": "display_data"
    },
    {
     "name": "stdout",
     "output_type": "stream",
     "text": [
      "Correlation: 0.025503, P-value: 0.153270\n"
     ]
    },
    {
     "data": {
      "image/png": "[encoded data removed]",
      "text/plain": [
       "<matplotlib.figure.Figure at 0x2a6ead0>"
      ]
     },
     "metadata": {},
     "output_type": "display_data"
    },
    {
     "name": "stdout",
     "output_type": "stream",
     "text": [
      "Correlation: 0.121362, P-value: 0.000000\n"
     ]
    }
   ],
   "source": [
    "check_list = ['product_price', 'number_of_stars', 'verified_purchase', 'number_found_helpful', 'review_len']\n",
    "\n",
    "for variable in check_list:\n",
    "    variable_compare(variable, 'sentiment')\n",
    "    cal_correlation(variable, 'sentiment')"
   ]
  },
  {
   "cell_type": "markdown",
   "metadata": {},
   "source": [
    "I have checked the correlation among every factor. However, based on my analysis, the number of stars factor has a little bit of correlation with sentiment score, yet it does not have strong correlation. The rest of factors do not have any correlation at all."
   ]
  }
 ],
 "metadata": {
  "kernelspec": {
   "display_name": "Python 3",
   "language": "python",
   "name": "python3"
  },
  "language_info": {
   "codemirror_mode": {
    "name": "ipython",
    "version": 3
   },
   "file_extension": ".py",
   "mimetype": "text/x-python",
   "name": "python",
   "nbconvert_exporter": "python",
   "pygments_lexer": "ipython3",
   "version": "3.6.4"
  }
 },
 "nbformat": 4,
 "nbformat_minor": 2
}
