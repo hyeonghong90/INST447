{
 "cells": [
  {
   "cell_type": "markdown",
   "metadata": {},
   "source": [
    "# Worksheet 11 - Regex\n",
    "\n",
    "Your Name: Hyeong-gi Hong  \n",
    "Your Class:   INST 447  \n",
    "Your Section: 0102 (TTh) "
   ]
  },
  {
   "cell_type": "code",
   "execution_count": 1,
   "metadata": {},
   "outputs": [],
   "source": [
    "import re, os\n",
    "import pandas as pd\n",
    "import numpy as np"
   ]
  },
  {
   "cell_type": "markdown",
   "metadata": {},
   "source": [
    "## Pattern Matching\n",
    "Here are some stings to match against."
   ]
  },
  {
   "cell_type": "code",
   "execution_count": 2,
   "metadata": {},
   "outputs": [
    {
     "name": "stdout",
     "output_type": "stream",
     "text": [
      "Yes!\n"
     ]
    }
   ],
   "source": [
    "test_string = '12/12/2012'\n",
    "regex = '^[0-9]{1,2}[-/][0-9]{1,2}[-/][0-9]{4}$'\n",
    "if re.search(regex, test_string):\n",
    "    print('Yes!')\n",
    "else:\n",
    "    print('No!')"
   ]
  },
  {
   "cell_type": "code",
   "execution_count": 3,
   "metadata": {},
   "outputs": [
    {
     "name": "stdout",
     "output_type": "stream",
     "text": [
      "Yes!\n",
      "Yes!\n",
      "Yes!\n",
      "No!\n"
     ]
    }
   ],
   "source": [
    "# MM/DD/YYYY dates\n",
    "pattern01 = ['11-2-1973', '12/12/2012', '3/3/2018', '2012-02-19']\n",
    "for test_string in pattern01:\n",
    "    if re.search('^[0-9]{1,2}[-/][0-9]{1,2}[-/][0-9]{4}$', test_string):\n",
    "        print('Yes!')\n",
    "    else:\n",
    "        print('No!')"
   ]
  },
  {
   "cell_type": "code",
   "execution_count": 4,
   "metadata": {},
   "outputs": [
    {
     "name": "stdout",
     "output_type": "stream",
     "text": [
      "Yes!\n",
      "Yes!\n",
      "Yes!\n",
      "No!\n",
      "No!\n"
     ]
    }
   ],
   "source": [
    "# More dates\n",
    "pattern02 = ['in March 8, 2017 jump', \n",
    "             'from September 35, 2018 hop', \n",
    "             'to May 3, 2017 skip', \n",
    "             'june bug',\n",
    "             'Z']\n",
    "for test_string in pattern02:\n",
    "    if re.search('([A-Z][a-z]{2,8})\\s([0-9]{1,2}),\\s([0-9]{4})', test_string):\n",
    "        print('Yes!')\n",
    "    else:\n",
    "        print('No!')"
   ]
  },
  {
   "cell_type": "code",
   "execution_count": 5,
   "metadata": {
    "scrolled": true
   },
   "outputs": [
    {
     "data": {
      "text/plain": [
       "[('March', '8', '2017')]"
      ]
     },
     "execution_count": 5,
     "metadata": {},
     "output_type": "execute_result"
    }
   ],
   "source": [
    "re.findall('([A-Z][a-z]{2,8})\\s([0-9]{1,2}),\\s([0-9]{4})', 'in March 8, 2017 jump')"
   ]
  },
  {
   "cell_type": "code",
   "execution_count": 6,
   "metadata": {},
   "outputs": [],
   "source": [
    "lewis = '''Charles Lutwidge Dodgson (/ˈlʌtwɪdʒ ˈdɒdsən/;[1][2][3]\n",
    "27 January 1832 – 14 January 1898), better known by his pen name Lewis\n",
    "Carroll (/ˈkærəl/), was an English writer, mathematician, logician, Anglican deacon, and photographer. His most famous writings are Alice's Adventures in Wonderland, its sequel Through the Looking-Glass, which includes the poem \"Jabberwocky\", and the poem The Hunting of the Snark – all examples of the genre of literary nonsense. He is noted for his facility at word play, logic and fantasy. There are societies in many parts of the world[4] dedicated to the enjoyment and promotion of his works and the investigation of his life.'''"
   ]
  },
  {
   "cell_type": "code",
   "execution_count": 7,
   "metadata": {},
   "outputs": [
    {
     "data": {
      "text/plain": [
       "'January 27, 1832'"
      ]
     },
     "execution_count": 7,
     "metadata": {},
     "output_type": "execute_result"
    }
   ],
   "source": [
    "first_date = re.findall('([0-9]{1,2})\\s([A-Z][a-z]{2,8})\\s([0-9]{4})', lewis)[0]\n",
    "'%s %s, %s' % (first_date[1], first_date[0], first_date[2])"
   ]
  },
  {
   "cell_type": "code",
   "execution_count": 8,
   "metadata": {},
   "outputs": [
    {
     "name": "stdout",
     "output_type": "stream",
     "text": [
      "Yes!\n",
      "Yes!\n",
      "Yes!\n",
      "Yes!\n"
     ]
    }
   ],
   "source": [
    "# Email addresses\n",
    "pattern03 = ['email @ umd.edu', 'email <at> terpmail.umd.edu', 'some.email@ox.ac.uk', \n",
    "             'admin@192.168.0.1']\n",
    "for test_string in pattern03:\n",
    "    if re.search('\\S+(@| @ | \\<at\\> )\\S+', test_string):\n",
    "        print('Yes!')\n",
    "    else:\n",
    "        print('No!')"
   ]
  },
  {
   "cell_type": "code",
   "execution_count": 9,
   "metadata": {},
   "outputs": [],
   "source": [
    "# Social Security Numbers\n",
    "pattern04 = ['111-11-1111', '999-19-1919', '888-12-3434']"
   ]
  },
  {
   "cell_type": "code",
   "execution_count": 10,
   "metadata": {},
   "outputs": [],
   "source": [
    "# Phone numbers\n",
    "pattern05 = ['555-255-9292', '301.405.1000', '(301)405-4400', '1-800-333-4455']"
   ]
  },
  {
   "cell_type": "code",
   "execution_count": 11,
   "metadata": {},
   "outputs": [],
   "source": [
    "# YouTube Video Links. Pull out the videoids...\n",
    "pattern06 = '''https://www.youtube.com/watch?feature=something&v=videoid1&embed=something\n",
    "http://www.youtube.com/watch?feature=something&v=videoid2&embed=something\n",
    "www.youtube.com/watch?feature=something&v=videoid3&embed=something\n",
    "youtube.com/watch?feature=something&v=videoid4&embed=something\n",
    "https://www.youtube.com/watch?v=videoid1\n",
    "http://www.youtube.com/watch?v=videoid2\n",
    "www.youtube.com/watch?v=videoid3\n",
    "youtube.com/watch?v=videoid4\n",
    "https://www.youtube.com/v/videoid1\n",
    "http://www.youtube.com/v/videoid2\n",
    "www.youtube.com/v/videoid3\n",
    "youtube.com/v/videoid4\n",
    "youtube.com/v/WFn55BBOFI0\n",
    "'''"
   ]
  },
  {
   "cell_type": "code",
   "execution_count": 12,
   "metadata": {},
   "outputs": [
    {
     "data": {
      "text/plain": [
       "['v=videoid1',\n",
       " 'v=videoid2',\n",
       " 'v=videoid3',\n",
       " 'v=videoid4',\n",
       " 'v=videoid1',\n",
       " 'v=videoid2',\n",
       " 'v=videoid3',\n",
       " 'v=videoid4',\n",
       " 'v/videoid1',\n",
       " 'v/videoid2',\n",
       " 'v/videoid3',\n",
       " 'v/videoid4',\n",
       " 'v/WFn55BBOFI0']"
      ]
     },
     "execution_count": 12,
     "metadata": {},
     "output_type": "execute_result"
    }
   ],
   "source": [
    "re.findall('v[=/][A-Za-z0-9]+', pattern06)"
   ]
  },
  {
   "cell_type": "markdown",
   "metadata": {},
   "source": [
    "## Web Server Logs\n",
    "This is a typical server log for a web server. Regex is often used to make sense of it.\n",
    "\n",
    "Create a DataFrame with the IP Address, Date, Time, HTTP Status code, but only for pages in /twiki"
   ]
  },
  {
   "cell_type": "code",
   "execution_count": 13,
   "metadata": {
    "scrolled": false
   },
   "outputs": [],
   "source": [
    "with open('data/http_log.txt', 'r') as fh:\n",
    "    http_log = fh.read()\n",
    "    \n",
    "logs = re.findall('([0-9.]*)(.*)\\n', http_log)\n",
    "\n",
    "columns = ['IP', 'Date', 'Time', 'HTTP_code']\n",
    "server_df = pd.DataFrame(columns=columns)\n",
    "\n",
    "for log in logs:\n",
    "    if ('/twiki' in log[1]):\n",
    "        if log[0] != '':\n",
    "            ip = log[0]\n",
    "        else:\n",
    "            ip = np.NaN\n",
    "        date = re.findall('[0-9]{1,2}[/][A-Z][a-z]{2,8}[/][0-9]{4}', log[1])[0]\n",
    "        time = re.findall(':([0-9]{2}[:][0-9]{2}[:][0-9]{2})\\s', log[1])[0]\n",
    "        code = re.findall('\\s([0-9]{3})\\s', log[1])[0]\n",
    "        \n",
    "        server_log = {'IP': ip, 'Date': date, 'Time': time, 'HTTP_code': code}\n",
    "        server_df = server_df.append(server_log, ignore_index=True)"
   ]
  },
  {
   "cell_type": "code",
   "execution_count": 14,
   "metadata": {},
   "outputs": [],
   "source": [
    "# Change to datetime format\n",
    "server_df['Date'] = pd.to_datetime(server_df['Date'])"
   ]
  },
  {
   "cell_type": "code",
   "execution_count": 15,
   "metadata": {},
   "outputs": [],
   "source": [
    "# Drop rows that contains nan\n",
    "server_df = server_df.dropna()"
   ]
  },
  {
   "cell_type": "code",
   "execution_count": 16,
   "metadata": {},
   "outputs": [],
   "source": [
    "# Reset index\n",
    "server_df = server_df.reset_index(drop=True)"
   ]
  },
  {
   "cell_type": "code",
   "execution_count": 17,
   "metadata": {
    "scrolled": true
   },
   "outputs": [
    {
     "data": {
      "text/html": [
       "<div>\n",
       "<style scoped>\n",
       "    .dataframe tbody tr th:only-of-type {\n",
       "        vertical-align: middle;\n",
       "    }\n",
       "\n",
       "    .dataframe tbody tr th {\n",
       "        vertical-align: top;\n",
       "    }\n",
       "\n",
       "    .dataframe thead th {\n",
       "        text-align: right;\n",
       "    }\n",
       "</style>\n",
       "<table border=\"1\" class=\"dataframe\">\n",
       "  <thead>\n",
       "    <tr style=\"text-align: right;\">\n",
       "      <th></th>\n",
       "      <th>IP</th>\n",
       "      <th>Date</th>\n",
       "      <th>Time</th>\n",
       "      <th>HTTP_code</th>\n",
       "    </tr>\n",
       "  </thead>\n",
       "  <tbody>\n",
       "    <tr>\n",
       "      <th>0</th>\n",
       "      <td>64.242.88.10</td>\n",
       "      <td>2004-03-07</td>\n",
       "      <td>16:05:49</td>\n",
       "      <td>401</td>\n",
       "    </tr>\n",
       "    <tr>\n",
       "      <th>1</th>\n",
       "      <td>64.242.88.10</td>\n",
       "      <td>2004-03-07</td>\n",
       "      <td>16:06:51</td>\n",
       "      <td>200</td>\n",
       "    </tr>\n",
       "    <tr>\n",
       "      <th>2</th>\n",
       "      <td>64.242.88.10</td>\n",
       "      <td>2004-03-07</td>\n",
       "      <td>16:11:58</td>\n",
       "      <td>200</td>\n",
       "    </tr>\n",
       "    <tr>\n",
       "      <th>3</th>\n",
       "      <td>64.242.88.10</td>\n",
       "      <td>2004-03-07</td>\n",
       "      <td>16:20:55</td>\n",
       "      <td>200</td>\n",
       "    </tr>\n",
       "    <tr>\n",
       "      <th>4</th>\n",
       "      <td>64.242.88.10</td>\n",
       "      <td>2004-03-07</td>\n",
       "      <td>16:23:12</td>\n",
       "      <td>200</td>\n",
       "    </tr>\n",
       "    <tr>\n",
       "      <th>5</th>\n",
       "      <td>64.242.88.10</td>\n",
       "      <td>2004-03-07</td>\n",
       "      <td>16:24:16</td>\n",
       "      <td>200</td>\n",
       "    </tr>\n",
       "    <tr>\n",
       "      <th>6</th>\n",
       "      <td>64.242.88.10</td>\n",
       "      <td>2004-03-07</td>\n",
       "      <td>16:29:16</td>\n",
       "      <td>401</td>\n",
       "    </tr>\n",
       "    <tr>\n",
       "      <th>7</th>\n",
       "      <td>64.242.88.10</td>\n",
       "      <td>2004-03-07</td>\n",
       "      <td>16:30:29</td>\n",
       "      <td>401</td>\n",
       "    </tr>\n",
       "    <tr>\n",
       "      <th>8</th>\n",
       "      <td>64.242.88.10</td>\n",
       "      <td>2004-03-07</td>\n",
       "      <td>16:31:48</td>\n",
       "      <td>200</td>\n",
       "    </tr>\n",
       "    <tr>\n",
       "      <th>9</th>\n",
       "      <td>64.242.88.10</td>\n",
       "      <td>2004-03-07</td>\n",
       "      <td>16:32:50</td>\n",
       "      <td>200</td>\n",
       "    </tr>\n",
       "    <tr>\n",
       "      <th>10</th>\n",
       "      <td>64.242.88.10</td>\n",
       "      <td>2004-03-07</td>\n",
       "      <td>16:33:53</td>\n",
       "      <td>401</td>\n",
       "    </tr>\n",
       "    <tr>\n",
       "      <th>11</th>\n",
       "      <td>64.242.88.10</td>\n",
       "      <td>2004-03-07</td>\n",
       "      <td>16:36:22</td>\n",
       "      <td>200</td>\n",
       "    </tr>\n",
       "    <tr>\n",
       "      <th>12</th>\n",
       "      <td>64.242.88.10</td>\n",
       "      <td>2004-03-07</td>\n",
       "      <td>16:37:27</td>\n",
       "      <td>200</td>\n",
       "    </tr>\n",
       "    <tr>\n",
       "      <th>13</th>\n",
       "      <td>64.242.88.10</td>\n",
       "      <td>2004-03-07</td>\n",
       "      <td>16:39:24</td>\n",
       "      <td>200</td>\n",
       "    </tr>\n",
       "    <tr>\n",
       "      <th>14</th>\n",
       "      <td>64.242.88.10</td>\n",
       "      <td>2004-03-07</td>\n",
       "      <td>16:43:54</td>\n",
       "      <td>200</td>\n",
       "    </tr>\n",
       "    <tr>\n",
       "      <th>15</th>\n",
       "      <td>64.242.88.10</td>\n",
       "      <td>2004-03-07</td>\n",
       "      <td>16:45:56</td>\n",
       "      <td>401</td>\n",
       "    </tr>\n",
       "    <tr>\n",
       "      <th>16</th>\n",
       "      <td>64.242.88.10</td>\n",
       "      <td>2004-03-07</td>\n",
       "      <td>16:47:46</td>\n",
       "      <td>200</td>\n",
       "    </tr>\n",
       "    <tr>\n",
       "      <th>17</th>\n",
       "      <td>64.242.88.10</td>\n",
       "      <td>2004-03-07</td>\n",
       "      <td>16:49:04</td>\n",
       "      <td>200</td>\n",
       "    </tr>\n",
       "    <tr>\n",
       "      <th>18</th>\n",
       "      <td>64.242.88.10</td>\n",
       "      <td>2004-03-07</td>\n",
       "      <td>16:50:54</td>\n",
       "      <td>200</td>\n",
       "    </tr>\n",
       "    <tr>\n",
       "      <th>19</th>\n",
       "      <td>64.242.88.10</td>\n",
       "      <td>2004-03-07</td>\n",
       "      <td>16:52:35</td>\n",
       "      <td>401</td>\n",
       "    </tr>\n",
       "    <tr>\n",
       "      <th>20</th>\n",
       "      <td>64.242.88.10</td>\n",
       "      <td>2004-03-07</td>\n",
       "      <td>16:53:46</td>\n",
       "      <td>200</td>\n",
       "    </tr>\n",
       "    <tr>\n",
       "      <th>21</th>\n",
       "      <td>64.242.88.10</td>\n",
       "      <td>2004-03-07</td>\n",
       "      <td>16:54:55</td>\n",
       "      <td>200</td>\n",
       "    </tr>\n",
       "    <tr>\n",
       "      <th>22</th>\n",
       "      <td>64.242.88.10</td>\n",
       "      <td>2004-03-07</td>\n",
       "      <td>16:56:39</td>\n",
       "      <td>200</td>\n",
       "    </tr>\n",
       "    <tr>\n",
       "      <th>23</th>\n",
       "      <td>64.242.88.10</td>\n",
       "      <td>2004-03-07</td>\n",
       "      <td>17:09:01</td>\n",
       "      <td>200</td>\n",
       "    </tr>\n",
       "    <tr>\n",
       "      <th>24</th>\n",
       "      <td>64.242.88.10</td>\n",
       "      <td>2004-03-07</td>\n",
       "      <td>17:10:20</td>\n",
       "      <td>200</td>\n",
       "    </tr>\n",
       "    <tr>\n",
       "      <th>25</th>\n",
       "      <td>64.242.88.10</td>\n",
       "      <td>2004-03-07</td>\n",
       "      <td>17:13:50</td>\n",
       "      <td>401</td>\n",
       "    </tr>\n",
       "    <tr>\n",
       "      <th>26</th>\n",
       "      <td>64.242.88.10</td>\n",
       "      <td>2004-03-07</td>\n",
       "      <td>17:16:00</td>\n",
       "      <td>200</td>\n",
       "    </tr>\n",
       "    <tr>\n",
       "      <th>27</th>\n",
       "      <td>64.242.88.10</td>\n",
       "      <td>2004-03-07</td>\n",
       "      <td>17:17:27</td>\n",
       "      <td>200</td>\n",
       "    </tr>\n",
       "    <tr>\n",
       "      <th>28</th>\n",
       "      <td>64.242.88.10</td>\n",
       "      <td>2004-03-07</td>\n",
       "      <td>17:21:44</td>\n",
       "      <td>401</td>\n",
       "    </tr>\n",
       "    <tr>\n",
       "      <th>29</th>\n",
       "      <td>64.242.88.10</td>\n",
       "      <td>2004-03-07</td>\n",
       "      <td>17:22:49</td>\n",
       "      <td>200</td>\n",
       "    </tr>\n",
       "    <tr>\n",
       "      <th>30</th>\n",
       "      <td>64.242.88.10</td>\n",
       "      <td>2004-03-07</td>\n",
       "      <td>17:23:54</td>\n",
       "      <td>200</td>\n",
       "    </tr>\n",
       "    <tr>\n",
       "      <th>31</th>\n",
       "      <td>64.242.88.10</td>\n",
       "      <td>2004-03-07</td>\n",
       "      <td>17:26:30</td>\n",
       "      <td>200</td>\n",
       "    </tr>\n",
       "    <tr>\n",
       "      <th>32</th>\n",
       "      <td>64.242.88.10</td>\n",
       "      <td>2004-03-07</td>\n",
       "      <td>17:27:37</td>\n",
       "      <td>401</td>\n",
       "    </tr>\n",
       "    <tr>\n",
       "      <th>33</th>\n",
       "      <td>64.242.88.10</td>\n",
       "      <td>2004-03-07</td>\n",
       "      <td>17:28:45</td>\n",
       "      <td>200</td>\n",
       "    </tr>\n",
       "    <tr>\n",
       "      <th>34</th>\n",
       "      <td>64.242.88.10</td>\n",
       "      <td>2004-03-07</td>\n",
       "      <td>17:29:59</td>\n",
       "      <td>200</td>\n",
       "    </tr>\n",
       "    <tr>\n",
       "      <th>35</th>\n",
       "      <td>64.242.88.10</td>\n",
       "      <td>2004-03-07</td>\n",
       "      <td>17:31:39</td>\n",
       "      <td>401</td>\n",
       "    </tr>\n",
       "    <tr>\n",
       "      <th>36</th>\n",
       "      <td>64.242.88.10</td>\n",
       "      <td>2004-03-07</td>\n",
       "      <td>17:35:35</td>\n",
       "      <td>200</td>\n",
       "    </tr>\n",
       "    <tr>\n",
       "      <th>37</th>\n",
       "      <td>64.242.88.10</td>\n",
       "      <td>2004-03-07</td>\n",
       "      <td>17:39:39</td>\n",
       "      <td>200</td>\n",
       "    </tr>\n",
       "    <tr>\n",
       "      <th>38</th>\n",
       "      <td>64.242.88.10</td>\n",
       "      <td>2004-03-07</td>\n",
       "      <td>17:42:15</td>\n",
       "      <td>200</td>\n",
       "    </tr>\n",
       "    <tr>\n",
       "      <th>39</th>\n",
       "      <td>64.242.88.10</td>\n",
       "      <td>2004-03-07</td>\n",
       "      <td>17:46:17</td>\n",
       "      <td>200</td>\n",
       "    </tr>\n",
       "    <tr>\n",
       "      <th>40</th>\n",
       "      <td>64.242.88.10</td>\n",
       "      <td>2004-03-07</td>\n",
       "      <td>17:47:43</td>\n",
       "      <td>200</td>\n",
       "    </tr>\n",
       "    <tr>\n",
       "      <th>41</th>\n",
       "      <td>64.242.88.10</td>\n",
       "      <td>2004-03-07</td>\n",
       "      <td>17:50:44</td>\n",
       "      <td>200</td>\n",
       "    </tr>\n",
       "    <tr>\n",
       "      <th>42</th>\n",
       "      <td>64.242.88.10</td>\n",
       "      <td>2004-03-07</td>\n",
       "      <td>17:53:45</td>\n",
       "      <td>200</td>\n",
       "    </tr>\n",
       "  </tbody>\n",
       "</table>\n",
       "</div>"
      ],
      "text/plain": [
       "              IP       Date      Time HTTP_code\n",
       "0   64.242.88.10 2004-03-07  16:05:49       401\n",
       "1   64.242.88.10 2004-03-07  16:06:51       200\n",
       "2   64.242.88.10 2004-03-07  16:11:58       200\n",
       "3   64.242.88.10 2004-03-07  16:20:55       200\n",
       "4   64.242.88.10 2004-03-07  16:23:12       200\n",
       "5   64.242.88.10 2004-03-07  16:24:16       200\n",
       "6   64.242.88.10 2004-03-07  16:29:16       401\n",
       "7   64.242.88.10 2004-03-07  16:30:29       401\n",
       "8   64.242.88.10 2004-03-07  16:31:48       200\n",
       "9   64.242.88.10 2004-03-07  16:32:50       200\n",
       "10  64.242.88.10 2004-03-07  16:33:53       401\n",
       "11  64.242.88.10 2004-03-07  16:36:22       200\n",
       "12  64.242.88.10 2004-03-07  16:37:27       200\n",
       "13  64.242.88.10 2004-03-07  16:39:24       200\n",
       "14  64.242.88.10 2004-03-07  16:43:54       200\n",
       "15  64.242.88.10 2004-03-07  16:45:56       401\n",
       "16  64.242.88.10 2004-03-07  16:47:46       200\n",
       "17  64.242.88.10 2004-03-07  16:49:04       200\n",
       "18  64.242.88.10 2004-03-07  16:50:54       200\n",
       "19  64.242.88.10 2004-03-07  16:52:35       401\n",
       "20  64.242.88.10 2004-03-07  16:53:46       200\n",
       "21  64.242.88.10 2004-03-07  16:54:55       200\n",
       "22  64.242.88.10 2004-03-07  16:56:39       200\n",
       "23  64.242.88.10 2004-03-07  17:09:01       200\n",
       "24  64.242.88.10 2004-03-07  17:10:20       200\n",
       "25  64.242.88.10 2004-03-07  17:13:50       401\n",
       "26  64.242.88.10 2004-03-07  17:16:00       200\n",
       "27  64.242.88.10 2004-03-07  17:17:27       200\n",
       "28  64.242.88.10 2004-03-07  17:21:44       401\n",
       "29  64.242.88.10 2004-03-07  17:22:49       200\n",
       "30  64.242.88.10 2004-03-07  17:23:54       200\n",
       "31  64.242.88.10 2004-03-07  17:26:30       200\n",
       "32  64.242.88.10 2004-03-07  17:27:37       401\n",
       "33  64.242.88.10 2004-03-07  17:28:45       200\n",
       "34  64.242.88.10 2004-03-07  17:29:59       200\n",
       "35  64.242.88.10 2004-03-07  17:31:39       401\n",
       "36  64.242.88.10 2004-03-07  17:35:35       200\n",
       "37  64.242.88.10 2004-03-07  17:39:39       200\n",
       "38  64.242.88.10 2004-03-07  17:42:15       200\n",
       "39  64.242.88.10 2004-03-07  17:46:17       200\n",
       "40  64.242.88.10 2004-03-07  17:47:43       200\n",
       "41  64.242.88.10 2004-03-07  17:50:44       200\n",
       "42  64.242.88.10 2004-03-07  17:53:45       200"
      ]
     },
     "execution_count": 17,
     "metadata": {},
     "output_type": "execute_result"
    }
   ],
   "source": [
    "server_df"
   ]
  },
  {
   "cell_type": "markdown",
   "metadata": {},
   "source": [
    "## Email Server Logs\n",
    "This is a typical server log for an email server. Administrators often use regex to make sense of it.\n",
    "\n",
    "Create a DataFrame with the date, time, email address, and the reason it was blocked"
   ]
  },
  {
   "cell_type": "code",
   "execution_count": 18,
   "metadata": {
    "scrolled": true
   },
   "outputs": [],
   "source": [
    "with open('data/email_log.txt', 'r') as fh:\n",
    "    email_log = fh.read()\n",
    "\n",
    "date = re.findall('([0-9]{4}[-][0-9]{2}[-][0-9]{2})[\\s]', email_log)\n",
    "time = re.findall('[\\s]([0-9]{2}[:][0-9]{2}[:][0-9]{2})[.]', email_log)\n",
    "email_address = re.findall('[<]([a-zA-Z0-9]+[@][a-zA-Z.0-9]+)[>]', email_log)\n",
    "reason = re.findall('\\s[0-9]{3}\\s([a-zA-Z\\s():/.?=0-9]+\\s)', email_log)\n",
    "\n",
    "# replace \\t and \\n in each reason\n",
    "for i in range(len(reason)):\n",
    "    reason[i] = reason[i].replace('\\t', ' - ').replace('\\n', '')    \n",
    "    \n",
    "log_data = {'date': date, 'time': time, 'email_address': email_address, 'reason': reason}\n",
    "email_server_df = pd.DataFrame(data=log_data)\n",
    "email_server_df = email_server_df[['date', 'time', 'email_address', 'reason']]"
   ]
  },
  {
   "cell_type": "code",
   "execution_count": 19,
   "metadata": {},
   "outputs": [],
   "source": [
    "# Change to datetime format\n",
    "email_server_df['date'] = pd.to_datetime(email_server_df['date'])"
   ]
  },
  {
   "cell_type": "code",
   "execution_count": 20,
   "metadata": {},
   "outputs": [
    {
     "data": {
      "text/html": [
       "<div>\n",
       "<style scoped>\n",
       "    .dataframe tbody tr th:only-of-type {\n",
       "        vertical-align: middle;\n",
       "    }\n",
       "\n",
       "    .dataframe tbody tr th {\n",
       "        vertical-align: top;\n",
       "    }\n",
       "\n",
       "    .dataframe thead th {\n",
       "        text-align: right;\n",
       "    }\n",
       "</style>\n",
       "<table border=\"1\" class=\"dataframe\">\n",
       "  <thead>\n",
       "    <tr style=\"text-align: right;\">\n",
       "      <th></th>\n",
       "      <th>date</th>\n",
       "      <th>time</th>\n",
       "      <th>email_address</th>\n",
       "      <th>reason</th>\n",
       "    </tr>\n",
       "  </thead>\n",
       "  <tbody>\n",
       "    <tr>\n",
       "      <th>0</th>\n",
       "      <td>2008-11-08</td>\n",
       "      <td>06:32:46</td>\n",
       "      <td>toshiter@donin.com</td>\n",
       "      <td>Not supporting null originator (DSN) - msg den...</td>\n",
       "    </tr>\n",
       "    <tr>\n",
       "      <th>1</th>\n",
       "      <td>2008-11-08</td>\n",
       "      <td>06:33:17</td>\n",
       "      <td>moneydiet2@mx22.ecreditchoices7.com</td>\n",
       "      <td>http://www.spamhaus.org/SBL/sbl.lasso?query=SB...</td>\n",
       "    </tr>\n",
       "    <tr>\n",
       "      <th>2</th>\n",
       "      <td>2008-11-08</td>\n",
       "      <td>06:34:53</td>\n",
       "      <td>sundered@ancientinc.com</td>\n",
       "      <td>http://www.spamhaus.org/query/bl?ip=84.58.57.1...</td>\n",
       "    </tr>\n",
       "    <tr>\n",
       "      <th>3</th>\n",
       "      <td>2008-11-08</td>\n",
       "      <td>06:35:41</td>\n",
       "      <td>benny@surecom.com</td>\n",
       "      <td>Not supporting null originator (DSN) - msg den...</td>\n",
       "    </tr>\n",
       "    <tr>\n",
       "      <th>4</th>\n",
       "      <td>2008-11-08</td>\n",
       "      <td>06:37:31</td>\n",
       "      <td>dwweem@wee.com</td>\n",
       "      <td>http://www.spamhaus.org/query/bl?ip=87.103.146...</td>\n",
       "    </tr>\n",
       "    <tr>\n",
       "      <th>5</th>\n",
       "      <td>2008-11-08</td>\n",
       "      <td>06:37:41</td>\n",
       "      <td>dwtrupsm@trups.com</td>\n",
       "      <td>http://www.spamhaus.org/query/bl?ip=87.103.146...</td>\n",
       "    </tr>\n",
       "  </tbody>\n",
       "</table>\n",
       "</div>"
      ],
      "text/plain": [
       "        date      time                        email_address  \\\n",
       "0 2008-11-08  06:32:46                   toshiter@donin.com   \n",
       "1 2008-11-08  06:33:17  moneydiet2@mx22.ecreditchoices7.com   \n",
       "2 2008-11-08  06:34:53              sundered@ancientinc.com   \n",
       "3 2008-11-08  06:35:41                    benny@surecom.com   \n",
       "4 2008-11-08  06:37:31                       dwweem@wee.com   \n",
       "5 2008-11-08  06:37:41                   dwtrupsm@trups.com   \n",
       "\n",
       "                                              reason  \n",
       "0  Not supporting null originator (DSN) - msg den...  \n",
       "1  http://www.spamhaus.org/SBL/sbl.lasso?query=SB...  \n",
       "2  http://www.spamhaus.org/query/bl?ip=84.58.57.1...  \n",
       "3  Not supporting null originator (DSN) - msg den...  \n",
       "4  http://www.spamhaus.org/query/bl?ip=87.103.146...  \n",
       "5  http://www.spamhaus.org/query/bl?ip=87.103.146...  "
      ]
     },
     "execution_count": 20,
     "metadata": {},
     "output_type": "execute_result"
    }
   ],
   "source": [
    "email_server_df"
   ]
  },
  {
   "cell_type": "markdown",
   "metadata": {},
   "source": [
    "## Raw Email\n",
    "For e-discovery (the process of identifying computer-based evidence for legal cases), sometimes you need to get information out of raw email files. Or maybe you are trying to automate a process, like support tickets, through email. Regex is a powerful way to extract the data."
   ]
  },
  {
   "cell_type": "code",
   "execution_count": 21,
   "metadata": {},
   "outputs": [
    {
     "name": "stdout",
     "output_type": "stream",
     "text": [
      "Delivered-To: dheidenb@g.umd.edu\n",
      "Received: by 10.107.97.16 with SMTP id v16csp1457303iob;\n",
      "        Fri, 6 Apr 2018 23:52:05 -0700 (PDT)\n",
      "X-Google-Smtp-Source: AIpwx49QF9wByhFrrDVu8jOcevoYTjBgsXVpFigpy/M+frwwbaztCehK85I/7Agu5xHy6h+wiY40\n",
      "X-Received: by 2002:a17:902:44c:: with SMTP id 70-v6mr30630830ple.354.1523083925115;\n",
      "        Fri, 06 Apr 2018 23:52:05 -0700 (PDT)\n",
      "ARC-Seal: i=1; a=rsa-sha256; t=1523083925; cv=none;\n",
      "        d=google.com; s=arc-20160816;\n",
      "        b=mHordDyZArJVKMkNOjGxO788LUlIsOruQk0uDRLD6/aYXlgFwfvPlw1c4HIIYwHPbK\n",
      "         ppHYGm1o+7e8BpGHn2YRYbeS6SlndcVdbA3pel5P5iVbyy8hjFuHfqRElNEMXBJHAzOl\n",
      "         D6O0YSaN/x2rhurT+a8IIxlsT7tsfjrN1lcoOAOA/kOOWqWEBHUFeVUOivHrYWyDB/+5\n",
      "         mlQ/d/6yF9XDZSkC1P4WV3KdJJ1fdtv99MtcYIOpkr13AR11aCUldZnjdaM3odqxhyAl\n",
      "         gR2BoN/Am2u07m0F0F2KZUT3u9GHrqylRzrrKNtKKXuttNmeohUaSd7hr0G4N6sh9yH2\n",
      "         vXdg==\n",
      "ARC-Message-Signature: i=1; a=rsa-sha256; c=relaxed/relaxed; d=google.com; s=arc-20160816;\n",
      "        h=sender:errors-to:content-transfer-encoding:list-subscribe:list-help\n",
      "         :list-post:list-archive:list-unsubscribe:list-id:precedence:subject\n",
      "         :content-language:mime-version:user-agent:date:message-id:from:to\n",
      "         :delivered-to:arc-authentication-results;\n",
      "        bh=nY2wvKwd0Meofh0bXODaiq/0QjtJBsdlJzCxf/UJoCY=;\n",
      "        b=MU07sg6FYpZU/IbusgB96zAL05mbuFa835rgIEvMgKL4kK5LF10oxRIbMow7df0gpz\n",
      "         LuZhKPAba0FENQp7VdjFwN9wRHFuQxQjBpMozxxvJeXGJGWvnj8h/0q6ALi362+ZTjKr\n",
      "         Loxxmad9iilPOaEbXefYUY4p9pz282Owa/bRXVm7oBFEMA5RxNbcXCSudLw+QxyLIVyT\n",
      "         K8OhnsVgDUjp5zJu+BhlN0CCJK6nDENZSeT4MnHut56XsrOX5c7FHnz3DDOKZFB6Swh3\n",
      "         i7q9wXsjn0ocp/lt9hSmPH7dXWVFLbFaG0sx6lzbwtyxEiH9gK2KrxqsvT2f7LZ31Bui\n",
      "         2U4g==\n",
      "ARC-Authentication-Results: i=1; mx.google.com;\n",
      "       spf=permerror (google.com: domain of air-l-bounces@listserv.aoir.org uses a mechanism not recognized by this client. unknown\n",
      "  mechanisms: )) smtp.mailfrom=air-l-bounces@listserv.aoir.org\n",
      "Return-Path: <air-l-bounces@listserv.aoir.org>\n",
      "Received: from esa2.umd.iphmx.com (esa2.umd.iphmx.com. [68.232.143.84])\n",
      "        by mx.google.com with ESMTPS id b7-v6si10620325pla.345.2018.04.06.23.52.04\n",
      "        for <dheidenb@g.umd.edu>\n",
      "        (version=TLS1_2 cipher=ECDHE-RSA-AES128-GCM-SHA256 bits=128/128);\n",
      "        Fri, 06 Apr 2018 23:52:05 -0700 (PDT)\n",
      "Received-SPF: permerror (google.com: domain of air-l-bounces@listserv.aoir.org uses a mechanism not recognized by this client. unknown\n",
      "  mechanisms: )) client-ip=64.90.62.202;\n",
      "Authentication-Results: mx.google.com;\n",
      "       spf=permerror (google.com: domain of air-l-bounces@listserv.aoir.org uses a mechanism not recognized by this client. unknown\n",
      "  mechanisms: )) smtp.mailfrom=air-l-bounces@listserv.aoir.org\n",
      "X-IronPort-AV: E=Sophos;i=\"5.48,418,1517893200\";\n",
      "    d=\"scan'208\";a=\"312043989\"\n",
      "Received: from pdx1-mailman01.dreamhost.com ([64.90.62.202])\n",
      "  by esa2.umd.iphmx.com with ESMTP/TLS/DHE-RSA-AES256-GCM-SHA384; 07 Apr 2018 02:52:03 -0400\n",
      "Received: from pdx1-mailman01.dreamhost.com (pdx1-mailman01.dreamhost.com [IPv6:::1]) by pdx1-mailman01.dreamhost.com (Postfix) with ESMTP id 168E221EE6; Fri,\n",
      "  6 Apr 2018 23:52:03 -0700 (PDT)\n",
      "X-Original-To: air-l@listserv.aoir.org\n",
      "Delivered-To: air-l-aoir.org@pdx1-mailman01.dreamhost.com\n",
      "Received: from mail-out01.uio.no (mail-out01.uio.no [129.240.10.50]) by pdx1-mailman01.dreamhost.com (Postfix) with ESMTP id 85E69205E9; Fri,\n",
      "  6 Apr 2018 23:51:50 -0700 (PDT)\n",
      "Received: from mail-mx06.uio.no ([129.240.10.40]) by mail-out01.uio.no with esmtps (TLSv1.2:ECDHE-RSA-AES256-GCM-SHA384:256) (Exim 4.90_1) (envelope-from <c.m.ess@media.uio.no>) id 1f4hhV-0005Cy-6U; Sat, 07 Apr 2018 08:51:49 +0200\n",
      "Received: from 42.249.16.62.customer.cdi.no ([62.16.249.42] helo=[192.168.1.122]) by mail-mx06.uio.no with esmtpsa (TLSv1.2:ECDHE-RSA-AES128-GCM-SHA256:128) user charlees (Exim 4.90_1) (envelope-from <c.m.ess@media.uio.no>) id 1f4hhU-00078a-7j; Sat, 07 Apr 2018 08:51:49 +0200\n",
      "To: \"ethics@listserv.aoir.org\" <ethics@listserv.aoir.org>, air-l <air-l@listserv.aoir.org>\n",
      "From: \"Charles M. Ess\" <c.m.ess@media.uio.no>\n",
      "Message-ID: <451dfdd2-358e-1e58-ccae-4718289f3922@media.uio.no>\n",
      "Date: Sat, 7 Apr 2018 08:51:47 +0200\n",
      "User-Agent: Mozilla/5.0 (Macintosh; Intel Mac OS X 10.13; rv:52.0) Gecko/20100101 Thunderbird/52.6.0\n",
      "MIME-Version: 1.0\n",
      "Content-Language: en-US\n",
      "X-UiO-SPF-Received: Received-SPF: neutral (mail-mx06.uio.no: 62.16.249.42 is neither permitted nor denied by domain of media.uio.no) client-ip=62.16.249.42; envelope-from=c.m.ess@media.uio.no; helo=[192.168.1.122];\n",
      "X-UiO-Spam-info: not spam, SpamAssassin (score=-5.0, required=5.0, autolearn=disabled, TVD_RCVD_IP=0.001, UIO_MAIL_IS_INTERNAL=-5, uiobl=NO, uiouri=NO)\n",
      "X-UiO-Scanned: 2A1DE29A1856AF7E63BF695DDAA481B35A5432E7\n",
      "X-UiOonly: 9F75DE00B30F1A6223FEFA9B8083E5AC9F129DD9\n",
      "Subject: [Air-L] Terms of Service not legally binding?\n",
      "X-BeenThere: air-l@listserv.aoir.org\n",
      "X-Mailman-Version: 2.1.23\n",
      "Precedence: list\n",
      "List-Id: Association of Internet Researchers <air-l-aoir.org>\n",
      "List-Unsubscribe: <http://listserv.aoir.org/options.cgi/air-l-aoir.org>, <mailto:air-l-request@listserv.aoir.org?subject=unsubscribe>\n",
      "List-Archive: <http://listserv.aoir.org/pipermail/air-l-aoir.org/>\n",
      "List-Post: <mailto:air-l@listserv.aoir.org>\n",
      "List-Help: <mailto:air-l-request@listserv.aoir.org?subject=help>\n",
      "List-Subscribe: <http://listserv.aoir.org/listinfo.cgi/air-l-aoir.org>, <mailto:air-l-request@listserv.aoir.org?subject=subscribe>\n",
      "Content-Transfer-Encoding: 7bit\n",
      "Content-Type: text/plain; charset=\"us-ascii\"; Format=\"flowed\"\n",
      "Errors-To: air-l-bounces@listserv.aoir.org\n",
      "Sender: Air-L <air-l-bounces@listserv.aoir.org>\n",
      "\n",
      "Dear colleagues,\n",
      "\n",
      "With apologies for spamming the lists - on behalf of both a student \n",
      "project and our development of further refinements in internet research \n",
      "ethics I'd like to ask the following.\n",
      "\n",
      "I've heard somewhere recently that a U.S. court has ruled that Terms of \n",
      "Service are not necessarily legally binding.\n",
      "If anyone can forward more exact details of the ruling, I'd be very \n",
      "grateful indeed.\n",
      "\n",
      "Why? There is considerable discussion regarding the creation of fake \n",
      "profiles as part of research into social media, algorithms, etc.  I have \n",
      "the impression that this has become common practice, and this ruling may \n",
      "give some direct and/or indirect support to arguments for such a \n",
      "practice.  (With important caveats, generally a good thing in my view, \n",
      "FWIW.)\n",
      "\n",
      "At the same time, however, Norwegian law and thereby research ethics, as \n",
      "a start, tend to be considerably more strict than the U.S. (and even, in \n",
      "some instances, the E.U.).  I would like to figure out the differences \n",
      "and resulting nuances in the implications for research ethics - both for \n",
      "the sake of the general example and for an MA student project that I \n",
      "have the pleasure of supervising.\n",
      "\n",
      "Many thanks in advance for any tips and suggestions.\n",
      "\n",
      "All best,\n",
      "- charles ess\n",
      "\n",
      "-- \n",
      "Professor in Media Studies\n",
      "Department of Media and Communication\n",
      "University of Oslo\n",
      "<http://www.hf.uio.no/imk/english/people/aca/charlees/index.html>\n",
      "\n",
      "Postboks 1093\n",
      "Blindern 0317\n",
      "Oslo, Norway\n",
      "c.m.ess@media.uio.no\n",
      "_______________________________________________\n",
      "The Air-L@listserv.aoir.org mailing list\n",
      "is provided by the Association of Internet Researchers http://aoir.org\n",
      "Subscribe, change options or unsubscribe at: http://listserv.aoir.org/listinfo.cgi/air-l-aoir.org\n",
      "\n",
      "Join the Association of Internet Researchers:\n",
      "http://www.aoir.org/\n"
     ]
    }
   ],
   "source": [
    "with open('data/raw_email.txt', 'r') as fh:\n",
    "    raw = fh.read()\n",
    "    print(raw)"
   ]
  },
  {
   "cell_type": "markdown",
   "metadata": {},
   "source": [
    "Get the email addresses of the lists this was sent to."
   ]
  },
  {
   "cell_type": "code",
   "execution_count": 22,
   "metadata": {},
   "outputs": [
    {
     "data": {
      "text/plain": [
       "['ethics@listserv.aoir.org', 'air-l@listserv.aoir.org']"
      ]
     },
     "execution_count": 22,
     "metadata": {},
     "output_type": "execute_result"
    }
   ],
   "source": [
    "email = re.findall('To:.*[<](.*)[>].+[<](.*)[>]', raw)\n",
    "\n",
    "email_addresses = []\n",
    "for e in email[0]:\n",
    "    email_addresses.append(e)\n",
    "    \n",
    "email_addresses"
   ]
  },
  {
   "cell_type": "markdown",
   "metadata": {},
   "source": [
    "Get the name of the sender"
   ]
  },
  {
   "cell_type": "code",
   "execution_count": 23,
   "metadata": {},
   "outputs": [
    {
     "data": {
      "text/plain": [
       "['Charles M. Ess']"
      ]
     },
     "execution_count": 23,
     "metadata": {},
     "output_type": "execute_result"
    }
   ],
   "source": [
    "sender_name = re.findall('From:.*[\\\"](.*)[\\\"]', raw)\n",
    "sender_name"
   ]
  },
  {
   "cell_type": "markdown",
   "metadata": {},
   "source": [
    "Get the email of the sender"
   ]
  },
  {
   "cell_type": "code",
   "execution_count": 24,
   "metadata": {},
   "outputs": [
    {
     "data": {
      "text/plain": [
       "['c.m.ess@media.uio.no']"
      ]
     },
     "execution_count": 24,
     "metadata": {},
     "output_type": "execute_result"
    }
   ],
   "source": [
    "sender_email = re.findall('From:.*[<](.*)[>]', raw)\n",
    "sender_email"
   ]
  },
  {
   "cell_type": "markdown",
   "metadata": {},
   "source": [
    "Find all the IP addresses"
   ]
  },
  {
   "cell_type": "code",
   "execution_count": 25,
   "metadata": {},
   "outputs": [
    {
     "data": {
      "text/plain": [
       "{'10.107.97.16',\n",
       " '129.240.10.40',\n",
       " '129.240.10.50',\n",
       " '192.168.1.122',\n",
       " '42.249.16.62',\n",
       " '62.16.249.42',\n",
       " '64.90.62.202',\n",
       " '68.232.143.84'}"
      ]
     },
     "execution_count": 25,
     "metadata": {},
     "output_type": "execute_result"
    }
   ],
   "source": [
    "ip_addresses = re.findall('[ =[]([0-9]{1,3}[.][0-9]{1,3}[.][0-9]{1,3}[.][0-9]{1,3})', raw)\n",
    "ip_addresses = set(ip_addresses)\n",
    "ip_addresses"
   ]
  },
  {
   "cell_type": "markdown",
   "metadata": {},
   "source": [
    "Grab the link to unsubscribe from the list"
   ]
  },
  {
   "cell_type": "code",
   "execution_count": 26,
   "metadata": {},
   "outputs": [
    {
     "data": {
      "text/plain": [
       "['http://listserv.aoir.org/listinfo.cgi/air-l-aoir.org']"
      ]
     },
     "execution_count": 26,
     "metadata": {},
     "output_type": "execute_result"
    }
   ],
   "source": [
    "unsubscribe_link = re.findall('unsubscribe.*(http[a-zA-Z:/.-]+)', raw)\n",
    "unsubscribe_link"
   ]
  },
  {
   "cell_type": "markdown",
   "metadata": {},
   "source": [
    "Pull out something else that you think is fun or interesting"
   ]
  },
  {
   "cell_type": "code",
   "execution_count": 27,
   "metadata": {},
   "outputs": [
    {
     "data": {
      "text/plain": [
       "{'air-l-bounces@listserv.aoir.org',\n",
       " 'air-l-request@listserv.aoir.org',\n",
       " 'air-l@listserv.aoir.org',\n",
       " 'ethics@listserv.aoir.org'}"
      ]
     },
     "execution_count": 27,
     "metadata": {},
     "output_type": "execute_result"
    }
   ],
   "source": [
    "# There are four total different list email addresses that handle different tasks\n",
    "list_emails = re.findall('([a-zA-Z0-9-]+@listserv[.a-zA-Z0-9]+)', raw)\n",
    "listserv_emails = []\n",
    "\n",
    "for email in list_emails:\n",
    "    listserv_emails.append(email.lower())\n",
    "    \n",
    "listserv_emails = set(listserv_emails)\n",
    "listserv_emails"
   ]
  }
 ],
 "metadata": {
  "kernelspec": {
   "display_name": "Python 3",
   "language": "python",
   "name": "python3"
  },
  "language_info": {
   "codemirror_mode": {
    "name": "ipython",
    "version": 3
   },
   "file_extension": ".py",
   "mimetype": "text/x-python",
   "name": "python",
   "nbconvert_exporter": "python",
   "pygments_lexer": "ipython3",
   "version": "3.6.4"
  }
 },
 "nbformat": 4,
 "nbformat_minor": 2
}
